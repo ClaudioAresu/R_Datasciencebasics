{
  "nbformat": 4,
  "nbformat_minor": 0,
  "metadata": {
    "colab": {
      "provenance": [],
      "authorship_tag": "ABX9TyOzJy4Phnk8SucmMq06F7Ru",
      "include_colab_link": true
    },
    "kernelspec": {
      "name": "python3",
      "display_name": "Python 3"
    },
    "language_info": {
      "name": "python"
    }
  },
  "cells": [
    {
      "cell_type": "markdown",
      "metadata": {
        "id": "view-in-github",
        "colab_type": "text"
      },
      "source": [
        "<a href=\"https://colab.research.google.com/github/ClaudioAresu/R_Datasciencebasics/blob/main/01neural_network_regression_in_tensorflow_video.ipynb\" target=\"_parent\"><img src=\"https://colab.research.google.com/assets/colab-badge.svg\" alt=\"Open In Colab\"/></a>"
      ]
    },
    {
      "cell_type": "markdown",
      "source": [
        "#Introduction to Refression with Neural Networks in TensorFlow\n",
        "\n",
        "There are many definitions for a regression problem but in nour case, we're going to simplify it:predicting a numerical variable based on some other combination of variables, even shorter... predicting a number"
      ],
      "metadata": {
        "id": "9CVjIC1M96rN"
      }
    },
    {
      "cell_type": "code",
      "source": [
        "#Import TensorFlow\n",
        "import tensorflow as tf\n",
        "print(tf.__version__)"
      ],
      "metadata": {
        "colab": {
          "base_uri": "https://localhost:8080/"
        },
        "id": "YopxiyBU-YTE",
        "outputId": "6f888b5c-c4a5-4122-8607-59e37980571e"
      },
      "execution_count": 93,
      "outputs": [
        {
          "output_type": "stream",
          "name": "stdout",
          "text": [
            "2.9.2\n"
          ]
        }
      ]
    },
    {
      "cell_type": "code",
      "source": [
        "#Select data to view and fit\n",
        "import numpy as np\n",
        "import matplotlib.pyplot as plt\n",
        "\n",
        "#Create features\n",
        "X = np.array([-7., -4., -1., 2., 5., 8., 11., 14.])\n",
        "\n",
        "#Create labels\n",
        "Y = np.array([3., 6., 9., 12., 15., 18., 21., 24.])\n",
        "\n",
        "#visualize\n",
        "plt.scatter(X,Y)\n"
      ],
      "metadata": {
        "colab": {
          "base_uri": "https://localhost:8080/",
          "height": 287
        },
        "id": "6nhEoChc-irD",
        "outputId": "58c78861-f94e-45c5-8d50-a9e0b85e4e68"
      },
      "execution_count": 94,
      "outputs": [
        {
          "output_type": "execute_result",
          "data": {
            "text/plain": [
              "<matplotlib.collections.PathCollection at 0x7f2be184ce20>"
            ]
          },
          "metadata": {},
          "execution_count": 94
        },
        {
          "output_type": "display_data",
          "data": {
            "text/plain": [
              "<Figure size 432x288 with 1 Axes>"
            ],
            "image/png": "[encoded data removed]"
          },
          "metadata": {
            "needs_background": "light"
          }
        }
      ]
    },
    {
      "cell_type": "code",
      "source": [
        "X+10"
      ],
      "metadata": {
        "colab": {
          "base_uri": "https://localhost:8080/"
        },
        "id": "YjOzBiWx-507",
        "outputId": "030c2741-b6c4-491c-8de3-9a3cd3650e46"
      },
      "execution_count": 95,
      "outputs": [
        {
          "output_type": "execute_result",
          "data": {
            "text/plain": [
              "array([ 3.,  6.,  9., 12., 15., 18., 21., 24.])"
            ]
          },
          "metadata": {},
          "execution_count": 95
        }
      ]
    },
    {
      "cell_type": "code",
      "source": [
        "Y == X+10"
      ],
      "metadata": {
        "colab": {
          "base_uri": "https://localhost:8080/"
        },
        "id": "hdwh7tfx_O1y",
        "outputId": "a029161d-b66c-44df-b3bf-4b27dc4a3a4a"
      },
      "execution_count": 96,
      "outputs": [
        {
          "output_type": "execute_result",
          "data": {
            "text/plain": [
              "array([ True,  True,  True,  True,  True,  True,  True,  True])"
            ]
          },
          "metadata": {},
          "execution_count": 96
        }
      ]
    },
    {
      "cell_type": "markdown",
      "source": [
        "Input and Output shapes"
      ],
      "metadata": {
        "id": "v7m4oq0t_WLP"
      }
    },
    {
      "cell_type": "code",
      "source": [
        "X.shape, Y.shape"
      ],
      "metadata": {
        "colab": {
          "base_uri": "https://localhost:8080/"
        },
        "id": "bIx8WRBj_b7N",
        "outputId": "a4cddcdd-db47-4c89-9e6a-090482e27213"
      },
      "execution_count": 97,
      "outputs": [
        {
          "output_type": "execute_result",
          "data": {
            "text/plain": [
              "((8,), (8,))"
            ]
          },
          "metadata": {},
          "execution_count": 97
        }
      ]
    },
    {
      "cell_type": "code",
      "source": [
        "#Create a demo tensor for our housing price prediction problem\n",
        "house_info = tf.constant([\"bedroom\",\"bathroom\",\"garage\"])\n",
        "house_price = tf.constant([939700])\n",
        "\n",
        "house_info,house_price"
      ],
      "metadata": {
        "colab": {
          "base_uri": "https://localhost:8080/"
        },
        "id": "TIIBBZ_X_pE7",
        "outputId": "42608a79-7d12-4d90-898d-870f6f7a3073"
      },
      "execution_count": 98,
      "outputs": [
        {
          "output_type": "execute_result",
          "data": {
            "text/plain": [
              "(<tf.Tensor: shape=(3,), dtype=string, numpy=array([b'bedroom', b'bathroom', b'garage'], dtype=object)>,\n",
              " <tf.Tensor: shape=(1,), dtype=int32, numpy=array([939700], dtype=int32)>)"
            ]
          },
          "metadata": {},
          "execution_count": 98
        }
      ]
    },
    {
      "cell_type": "code",
      "source": [
        "X[0].ndim"
      ],
      "metadata": {
        "colab": {
          "base_uri": "https://localhost:8080/"
        },
        "id": "6VOON3uX_8rK",
        "outputId": "b0e77e7c-500b-4c7f-9d57-02fb52c6da1e"
      },
      "execution_count": 99,
      "outputs": [
        {
          "output_type": "execute_result",
          "data": {
            "text/plain": [
              "0"
            ]
          },
          "metadata": {},
          "execution_count": 99
        }
      ]
    },
    {
      "cell_type": "code",
      "source": [
        "X[0], Y[0]"
      ],
      "metadata": {
        "colab": {
          "base_uri": "https://localhost:8080/"
        },
        "id": "VCBRKP5qAdUT",
        "outputId": "4a656fa9-1fb1-47d7-d272-43160ee64778"
      },
      "execution_count": 100,
      "outputs": [
        {
          "output_type": "execute_result",
          "data": {
            "text/plain": [
              "(-7.0, 3.0)"
            ]
          },
          "metadata": {},
          "execution_count": 100
        }
      ]
    },
    {
      "cell_type": "code",
      "source": [
        "#Turn NumPy arrays into tensors\n",
        "X = tf.constant(X)\n",
        "Y = tf.constant(Y)\n",
        "\n",
        "X, Y"
      ],
      "metadata": {
        "colab": {
          "base_uri": "https://localhost:8080/"
        },
        "id": "_aYIrL5yAg_D",
        "outputId": "9a38fef4-bf4b-42b8-9be2-c451356de7ab"
      },
      "execution_count": 101,
      "outputs": [
        {
          "output_type": "execute_result",
          "data": {
            "text/plain": [
              "(<tf.Tensor: shape=(8,), dtype=float64, numpy=array([-7., -4., -1.,  2.,  5.,  8., 11., 14.])>,\n",
              " <tf.Tensor: shape=(8,), dtype=float64, numpy=array([ 3.,  6.,  9., 12., 15., 18., 21., 24.])>)"
            ]
          },
          "metadata": {},
          "execution_count": 101
        }
      ]
    },
    {
      "cell_type": "code",
      "source": [
        "plt.scatter(X,Y)"
      ],
      "metadata": {
        "colab": {
          "base_uri": "https://localhost:8080/",
          "height": 287
        },
        "id": "dOkJI7tPBG3U",
        "outputId": "d3e009da-89fb-4243-dc82-e14304e8830a"
      },
      "execution_count": 102,
      "outputs": [
        {
          "output_type": "execute_result",
          "data": {
            "text/plain": [
              "<matplotlib.collections.PathCollection at 0x7f2be17b24f0>"
            ]
          },
          "metadata": {},
          "execution_count": 102
        },
        {
          "output_type": "display_data",
          "data": {
            "text/plain": [
              "<Figure size 432x288 with 1 Axes>"
            ],
            "image/png": "[encoded data removed]"
          },
          "metadata": {
            "needs_background": "light"
          }
        }
      ]
    },
    {
      "cell_type": "markdown",
      "source": [
        "## Steps in modelling with TensorFlow\n",
        "\n",
        "1.Creating a model - define the input and output layers, as well as the hidden layers of a deep learning model.\n",
        "2. Compiling a model - define the loss function (in other words, the function which tells our model how wrong it is) and the optimizers(tells our model to improve the patterns it is learning), and evaluation metrics( what we can use to interpret the performance of our model).\n",
        "3. Fitting a model - letting the model try to find patterns between X & Y ( features and labels)."
      ],
      "metadata": {
        "id": "zGxEanYFBKez"
      }
    },
    {
      "cell_type": "code",
      "source": [
        "#Create a model (specified to your problem)\n",
        "# Set random seed\n",
        "tf.random.set_seed(42)\n",
        "\n",
        "model = tf.keras.Sequential([\n",
        "  tf.keras.layers.Dense(1)                             \n",
        "])\n",
        "\n",
        "#Compile\n",
        "\n",
        "model.compile(loss=tf.keras.losses.mae,\n",
        "              optimizer=tf.keras.optimizers.SGD(), #or just use the string for stochastic gradient descent\n",
        "              metrics=[\"mae\"])\n",
        "\n",
        "model.fit(tf.expand_dims(X,axis=-1),Y, epochs=5)\n"
      ],
      "metadata": {
        "colab": {
          "base_uri": "https://localhost:8080/"
        },
        "id": "mGF5tCZbB2pc",
        "outputId": "65b1cb17-a0c2-4139-e416-bc666560bd45"
      },
      "execution_count": 103,
      "outputs": [
        {
          "output_type": "stream",
          "name": "stdout",
          "text": [
            "Epoch 1/5\n",
            "1/1 [==============================] - 0s 352ms/step - loss: 11.5048 - mae: 11.5048\n",
            "Epoch 2/5\n",
            "1/1 [==============================] - 0s 9ms/step - loss: 11.3723 - mae: 11.3723\n",
            "Epoch 3/5\n",
            "1/1 [==============================] - 0s 9ms/step - loss: 11.2398 - mae: 11.2398\n",
            "Epoch 4/5\n",
            "1/1 [==============================] - 0s 9ms/step - loss: 11.1073 - mae: 11.1073\n",
            "Epoch 5/5\n",
            "1/1 [==============================] - 0s 7ms/step - loss: 10.9748 - mae: 10.9748\n"
          ]
        },
        {
          "output_type": "execute_result",
          "data": {
            "text/plain": [
              "<keras.callbacks.History at 0x7f2be17ebd60>"
            ]
          },
          "metadata": {},
          "execution_count": 103
        }
      ]
    },
    {
      "cell_type": "markdown",
      "source": [
        "REMEMBER .CAST TO CHANGE DTYPE"
      ],
      "metadata": {
        "id": "-D_18-KGFEFa"
      }
    },
    {
      "cell_type": "code",
      "source": [
        "y_pred = model.predict([17.])\n",
        "y_pred"
      ],
      "metadata": {
        "colab": {
          "base_uri": "https://localhost:8080/"
        },
        "id": "W5jcKUmzFZuj",
        "outputId": "95df9bc3-2889-4798-90e8-6c70f1829bd7"
      },
      "execution_count": 104,
      "outputs": [
        {
          "output_type": "stream",
          "name": "stderr",
          "text": [
            "WARNING:tensorflow:6 out of the last 9 calls to <function Model.make_predict_function.<locals>.predict_function at 0x7f2be17e8c10> triggered tf.function retracing. Tracing is expensive and the excessive number of tracings could be due to (1) creating @tf.function repeatedly in a loop, (2) passing tensors with different shapes, (3) passing Python objects instead of tensors. For (1), please define your @tf.function outside of the loop. For (2), @tf.function has reduce_retracing=True option that can avoid unnecessary retracing. For (3), please refer to https://www.tensorflow.org/guide/function#controlling_retracing and https://www.tensorflow.org/api_docs/python/tf/function for  more details.\n"
          ]
        },
        {
          "output_type": "stream",
          "name": "stdout",
          "text": [
            "1/1 [==============================] - 0s 59ms/step\n"
          ]
        },
        {
          "output_type": "execute_result",
          "data": {
            "text/plain": [
              "array([[12.716021]], dtype=float32)"
            ]
          },
          "metadata": {},
          "execution_count": 104
        }
      ]
    },
    {
      "cell_type": "code",
      "source": [
        "y_pred + 11"
      ],
      "metadata": {
        "colab": {
          "base_uri": "https://localhost:8080/"
        },
        "id": "i5WiSZjrGDwE",
        "outputId": "23741af0-9d72-4132-9bac-893165ee9cff"
      },
      "execution_count": 105,
      "outputs": [
        {
          "output_type": "execute_result",
          "data": {
            "text/plain": [
              "array([[23.71602]], dtype=float32)"
            ]
          },
          "metadata": {},
          "execution_count": 105
        }
      ]
    },
    {
      "cell_type": "markdown",
      "source": [
        "Improve the model\n",
        "\n",
        "we can improve our mode, by altering the steps we took to create a model.\n",
        "\n",
        "**Creating a model** - here we might add more layers, increase the number of hidden units(all called neuros)\n",
        "within each of the hidden layers, change the activation function of each layer.\n",
        "**Compiling a model** - here we might change the optimization function or perhaps the **learning rate** of the optimization function.\n",
        "**Fitting a model** - Here we can add number of times that the model looks through the date(number of epochs)"
      ],
      "metadata": {
        "id": "bECBp5unGILL"
      }
    },
    {
      "cell_type": "code",
      "source": [
        "#Final Model\n",
        "\n",
        "model = tf.keras.Sequential([\n",
        "tf.keras.layers.Dense(100, activation=\"relu\"),\n",
        "tf.keras.layers.Dense(100, activation=\"relu\"),\n",
        "tf.keras.layers.Dense(100, activation=\"relu\"),\n",
        "tf.keras.layers.Dense(1)\n",
        "])\n",
        "\n",
        "model.compile(loss=tf.keras.losses.mae,\n",
        "              optimizer=tf.keras.optimizers.Adam(lr=0.0001), #or just use the string for stochastic gradient descent\n",
        "              metrics=[\"mae\"])\n",
        "\n",
        "model.fit(tf.expand_dims(X,axis=-1),Y, epochs=100)\n",
        "\n"
      ],
      "metadata": {
        "colab": {
          "base_uri": "https://localhost:8080/"
        },
        "id": "QC87VApVHkrB",
        "outputId": "c9c23ab8-5046-4c95-baf5-b188955f460c"
      },
      "execution_count": 106,
      "outputs": [
        {
          "output_type": "stream",
          "name": "stdout",
          "text": [
            "Epoch 1/100\n"
          ]
        },
        {
          "output_type": "stream",
          "name": "stderr",
          "text": [
            "/usr/local/lib/python3.8/dist-packages/keras/optimizers/optimizer_v2/adam.py:110: UserWarning: The `lr` argument is deprecated, use `learning_rate` instead.\n",
            "  super(Adam, self).__init__(name, **kwargs)\n"
          ]
        },
        {
          "output_type": "stream",
          "name": "stdout",
          "text": [
            "1/1 [==============================] - 1s 509ms/step - loss: 14.3099 - mae: 14.3099\n",
            "Epoch 2/100\n",
            "1/1 [==============================] - 0s 9ms/step - loss: 14.2781 - mae: 14.2781\n",
            "Epoch 3/100\n",
            "1/1 [==============================] - 0s 10ms/step - loss: 14.2469 - mae: 14.2469\n",
            "Epoch 4/100\n",
            "1/1 [==============================] - 0s 9ms/step - loss: 14.2158 - mae: 14.2158\n",
            "Epoch 5/100\n",
            "1/1 [==============================] - 0s 11ms/step - loss: 14.1840 - mae: 14.1840\n",
            "Epoch 6/100\n",
            "1/1 [==============================] - 0s 9ms/step - loss: 14.1522 - mae: 14.1522\n",
            "Epoch 7/100\n",
            "1/1 [==============================] - 0s 8ms/step - loss: 14.1204 - mae: 14.1204\n",
            "Epoch 8/100\n",
            "1/1 [==============================] - 0s 8ms/step - loss: 14.0885 - mae: 14.0885\n",
            "Epoch 9/100\n",
            "1/1 [==============================] - 0s 12ms/step - loss: 14.0568 - mae: 14.0568\n",
            "Epoch 10/100\n",
            "1/1 [==============================] - 0s 8ms/step - loss: 14.0250 - mae: 14.0250\n",
            "Epoch 11/100\n",
            "1/1 [==============================] - 0s 8ms/step - loss: 13.9933 - mae: 13.9933\n",
            "Epoch 12/100\n",
            "1/1 [==============================] - 0s 7ms/step - loss: 13.9615 - mae: 13.9615\n",
            "Epoch 13/100\n",
            "1/1 [==============================] - 0s 8ms/step - loss: 13.9297 - mae: 13.9297\n",
            "Epoch 14/100\n",
            "1/1 [==============================] - 0s 7ms/step - loss: 13.8980 - mae: 13.8980\n",
            "Epoch 15/100\n",
            "1/1 [==============================] - 0s 11ms/step - loss: 13.8661 - mae: 13.8661\n",
            "Epoch 16/100\n",
            "1/1 [==============================] - 0s 7ms/step - loss: 13.8341 - mae: 13.8341\n",
            "Epoch 17/100\n",
            "1/1 [==============================] - 0s 7ms/step - loss: 13.8022 - mae: 13.8022\n",
            "Epoch 18/100\n",
            "1/1 [==============================] - 0s 7ms/step - loss: 13.7703 - mae: 13.7703\n",
            "Epoch 19/100\n",
            "1/1 [==============================] - 0s 7ms/step - loss: 13.7385 - mae: 13.7385\n",
            "Epoch 20/100\n",
            "1/1 [==============================] - 0s 8ms/step - loss: 13.7072 - mae: 13.7072\n",
            "Epoch 21/100\n",
            "1/1 [==============================] - 0s 7ms/step - loss: 13.6760 - mae: 13.6760\n",
            "Epoch 22/100\n",
            "1/1 [==============================] - 0s 6ms/step - loss: 13.6448 - mae: 13.6448\n",
            "Epoch 23/100\n",
            "1/1 [==============================] - 0s 7ms/step - loss: 13.6136 - mae: 13.6136\n",
            "Epoch 24/100\n",
            "1/1 [==============================] - 0s 6ms/step - loss: 13.5823 - mae: 13.5823\n",
            "Epoch 25/100\n",
            "1/1 [==============================] - 0s 9ms/step - loss: 13.5506 - mae: 13.5506\n",
            "Epoch 26/100\n",
            "1/1 [==============================] - 0s 10ms/step - loss: 13.5185 - mae: 13.5185\n",
            "Epoch 27/100\n",
            "1/1 [==============================] - 0s 12ms/step - loss: 13.4863 - mae: 13.4863\n",
            "Epoch 28/100\n",
            "1/1 [==============================] - 0s 10ms/step - loss: 13.4541 - mae: 13.4541\n",
            "Epoch 29/100\n",
            "1/1 [==============================] - 0s 6ms/step - loss: 13.4218 - mae: 13.4218\n",
            "Epoch 30/100\n",
            "1/1 [==============================] - 0s 8ms/step - loss: 13.3894 - mae: 13.3894\n",
            "Epoch 31/100\n",
            "1/1 [==============================] - 0s 7ms/step - loss: 13.3570 - mae: 13.3570\n",
            "Epoch 32/100\n",
            "1/1 [==============================] - 0s 7ms/step - loss: 13.3250 - mae: 13.3250\n",
            "Epoch 33/100\n",
            "1/1 [==============================] - 0s 7ms/step - loss: 13.2934 - mae: 13.2934\n",
            "Epoch 34/100\n",
            "1/1 [==============================] - 0s 11ms/step - loss: 13.2618 - mae: 13.2618\n",
            "Epoch 35/100\n",
            "1/1 [==============================] - 0s 8ms/step - loss: 13.2301 - mae: 13.2301\n",
            "Epoch 36/100\n",
            "1/1 [==============================] - 0s 8ms/step - loss: 13.1985 - mae: 13.1985\n",
            "Epoch 37/100\n",
            "1/1 [==============================] - 0s 7ms/step - loss: 13.1669 - mae: 13.1669\n",
            "Epoch 38/100\n",
            "1/1 [==============================] - 0s 8ms/step - loss: 13.1358 - mae: 13.1358\n",
            "Epoch 39/100\n",
            "1/1 [==============================] - 0s 7ms/step - loss: 13.1048 - mae: 13.1048\n",
            "Epoch 40/100\n",
            "1/1 [==============================] - 0s 8ms/step - loss: 13.0737 - mae: 13.0737\n",
            "Epoch 41/100\n",
            "1/1 [==============================] - 0s 7ms/step - loss: 13.0425 - mae: 13.0425\n",
            "Epoch 42/100\n",
            "1/1 [==============================] - 0s 7ms/step - loss: 13.0113 - mae: 13.0113\n",
            "Epoch 43/100\n",
            "1/1 [==============================] - 0s 10ms/step - loss: 12.9800 - mae: 12.9800\n",
            "Epoch 44/100\n",
            "1/1 [==============================] - 0s 7ms/step - loss: 12.9487 - mae: 12.9487\n",
            "Epoch 45/100\n",
            "1/1 [==============================] - 0s 7ms/step - loss: 12.9173 - mae: 12.9173\n",
            "Epoch 46/100\n",
            "1/1 [==============================] - 0s 7ms/step - loss: 12.8857 - mae: 12.8857\n",
            "Epoch 47/100\n",
            "1/1 [==============================] - 0s 8ms/step - loss: 12.8543 - mae: 12.8543\n",
            "Epoch 48/100\n",
            "1/1 [==============================] - 0s 12ms/step - loss: 12.8229 - mae: 12.8229\n",
            "Epoch 49/100\n",
            "1/1 [==============================] - 0s 7ms/step - loss: 12.7916 - mae: 12.7916\n",
            "Epoch 50/100\n",
            "1/1 [==============================] - 0s 8ms/step - loss: 12.7609 - mae: 12.7609\n",
            "Epoch 51/100\n",
            "1/1 [==============================] - 0s 8ms/step - loss: 12.7301 - mae: 12.7301\n",
            "Epoch 52/100\n",
            "1/1 [==============================] - 0s 8ms/step - loss: 12.6991 - mae: 12.6991\n",
            "Epoch 53/100\n",
            "1/1 [==============================] - 0s 8ms/step - loss: 12.6680 - mae: 12.6680\n",
            "Epoch 54/100\n",
            "1/1 [==============================] - 0s 8ms/step - loss: 12.6366 - mae: 12.6366\n",
            "Epoch 55/100\n",
            "1/1 [==============================] - 0s 11ms/step - loss: 12.6052 - mae: 12.6052\n",
            "Epoch 56/100\n",
            "1/1 [==============================] - 0s 8ms/step - loss: 12.5737 - mae: 12.5737\n",
            "Epoch 57/100\n",
            "1/1 [==============================] - 0s 7ms/step - loss: 12.5420 - mae: 12.5420\n",
            "Epoch 58/100\n",
            "1/1 [==============================] - 0s 9ms/step - loss: 12.5105 - mae: 12.5105\n",
            "Epoch 59/100\n",
            "1/1 [==============================] - 0s 8ms/step - loss: 12.4792 - mae: 12.4792\n",
            "Epoch 60/100\n",
            "1/1 [==============================] - 0s 9ms/step - loss: 12.4482 - mae: 12.4482\n",
            "Epoch 61/100\n",
            "1/1 [==============================] - 0s 9ms/step - loss: 12.4180 - mae: 12.4180\n",
            "Epoch 62/100\n",
            "1/1 [==============================] - 0s 11ms/step - loss: 12.3877 - mae: 12.3877\n",
            "Epoch 63/100\n",
            "1/1 [==============================] - 0s 7ms/step - loss: 12.3577 - mae: 12.3577\n",
            "Epoch 64/100\n",
            "1/1 [==============================] - 0s 8ms/step - loss: 12.3277 - mae: 12.3277\n",
            "Epoch 65/100\n",
            "1/1 [==============================] - 0s 8ms/step - loss: 12.2978 - mae: 12.2978\n",
            "Epoch 66/100\n",
            "1/1 [==============================] - 0s 9ms/step - loss: 12.2681 - mae: 12.2681\n",
            "Epoch 67/100\n",
            "1/1 [==============================] - 0s 9ms/step - loss: 12.2389 - mae: 12.2389\n",
            "Epoch 68/100\n",
            "1/1 [==============================] - 0s 8ms/step - loss: 12.2095 - mae: 12.2095\n",
            "Epoch 69/100\n",
            "1/1 [==============================] - 0s 8ms/step - loss: 12.1800 - mae: 12.1800\n",
            "Epoch 70/100\n",
            "1/1 [==============================] - 0s 13ms/step - loss: 12.1502 - mae: 12.1502\n",
            "Epoch 71/100\n",
            "1/1 [==============================] - 0s 8ms/step - loss: 12.1204 - mae: 12.1204\n",
            "Epoch 72/100\n",
            "1/1 [==============================] - 0s 9ms/step - loss: 12.0907 - mae: 12.0907\n",
            "Epoch 73/100\n",
            "1/1 [==============================] - 0s 8ms/step - loss: 12.0613 - mae: 12.0613\n",
            "Epoch 74/100\n",
            "1/1 [==============================] - 0s 8ms/step - loss: 12.0319 - mae: 12.0319\n",
            "Epoch 75/100\n",
            "1/1 [==============================] - 0s 8ms/step - loss: 12.0022 - mae: 12.0022\n",
            "Epoch 76/100\n",
            "1/1 [==============================] - 0s 9ms/step - loss: 11.9723 - mae: 11.9723\n",
            "Epoch 77/100\n",
            "1/1 [==============================] - 0s 14ms/step - loss: 11.9420 - mae: 11.9420\n",
            "Epoch 78/100\n",
            "1/1 [==============================] - 0s 8ms/step - loss: 11.9114 - mae: 11.9114\n",
            "Epoch 79/100\n",
            "1/1 [==============================] - 0s 7ms/step - loss: 11.8806 - mae: 11.8806\n",
            "Epoch 80/100\n",
            "1/1 [==============================] - 0s 8ms/step - loss: 11.8494 - mae: 11.8494\n",
            "Epoch 81/100\n",
            "1/1 [==============================] - 0s 8ms/step - loss: 11.8178 - mae: 11.8178\n",
            "Epoch 82/100\n",
            "1/1 [==============================] - 0s 14ms/step - loss: 11.7860 - mae: 11.7860\n",
            "Epoch 83/100\n",
            "1/1 [==============================] - 0s 11ms/step - loss: 11.7540 - mae: 11.7540\n",
            "Epoch 84/100\n",
            "1/1 [==============================] - 0s 10ms/step - loss: 11.7217 - mae: 11.7217\n",
            "Epoch 85/100\n",
            "1/1 [==============================] - 0s 7ms/step - loss: 11.6893 - mae: 11.6893\n",
            "Epoch 86/100\n",
            "1/1 [==============================] - 0s 9ms/step - loss: 11.6571 - mae: 11.6571\n",
            "Epoch 87/100\n",
            "1/1 [==============================] - 0s 8ms/step - loss: 11.6248 - mae: 11.6248\n",
            "Epoch 88/100\n",
            "1/1 [==============================] - 0s 8ms/step - loss: 11.5923 - mae: 11.5923\n",
            "Epoch 89/100\n",
            "1/1 [==============================] - 0s 8ms/step - loss: 11.5597 - mae: 11.5597\n",
            "Epoch 90/100\n",
            "1/1 [==============================] - 0s 8ms/step - loss: 11.5270 - mae: 11.5270\n",
            "Epoch 91/100\n",
            "1/1 [==============================] - 0s 8ms/step - loss: 11.4942 - mae: 11.4942\n",
            "Epoch 92/100\n",
            "1/1 [==============================] - 0s 10ms/step - loss: 11.4613 - mae: 11.4613\n",
            "Epoch 93/100\n",
            "1/1 [==============================] - 0s 9ms/step - loss: 11.4281 - mae: 11.4281\n",
            "Epoch 94/100\n",
            "1/1 [==============================] - 0s 6ms/step - loss: 11.3946 - mae: 11.3946\n",
            "Epoch 95/100\n",
            "1/1 [==============================] - 0s 6ms/step - loss: 11.3608 - mae: 11.3608\n",
            "Epoch 96/100\n",
            "1/1 [==============================] - 0s 7ms/step - loss: 11.3267 - mae: 11.3267\n",
            "Epoch 97/100\n",
            "1/1 [==============================] - 0s 7ms/step - loss: 11.2923 - mae: 11.2923\n",
            "Epoch 98/100\n",
            "1/1 [==============================] - 0s 8ms/step - loss: 11.2575 - mae: 11.2575\n",
            "Epoch 99/100\n",
            "1/1 [==============================] - 0s 7ms/step - loss: 11.2223 - mae: 11.2223\n",
            "Epoch 100/100\n",
            "1/1 [==============================] - 0s 7ms/step - loss: 11.1868 - mae: 11.1868\n"
          ]
        },
        {
          "output_type": "execute_result",
          "data": {
            "text/plain": [
              "<keras.callbacks.History at 0x7f2be1716cd0>"
            ]
          },
          "metadata": {},
          "execution_count": 106
        }
      ]
    },
    {
      "cell_type": "code",
      "source": [
        "#Create a model (specified to your problem)\n",
        "# Set random seed\n",
        "tf.random.set_seed(42)\n",
        "\n",
        "model = tf.keras.Sequential([\n",
        "  tf.keras.layers.Dense(1)                             \n",
        "])\n",
        "\n",
        "#Compile\n",
        "\n",
        "model.compile(loss=tf.keras.losses.mae,\n",
        "              optimizer=tf.keras.optimizers.SGD(), #or just use the string for stochastic gradient descent\n",
        "              metrics=[\"mae\"])\n",
        "\n",
        "#Fit\n",
        "model.fit(tf.expand_dims(X,axis=-1),Y, epochs=100)\n"
      ],
      "metadata": {
        "colab": {
          "base_uri": "https://localhost:8080/"
        },
        "outputId": "2f72084b-0962-42e6-db43-cbe57cd68723",
        "id": "jCcBkdxDIEIU"
      },
      "execution_count": 107,
      "outputs": [
        {
          "output_type": "stream",
          "name": "stdout",
          "text": [
            "Epoch 1/100\n",
            "1/1 [==============================] - 0s 307ms/step - loss: 11.5048 - mae: 11.5048\n",
            "Epoch 2/100\n",
            "1/1 [==============================] - 0s 10ms/step - loss: 11.3723 - mae: 11.3723\n",
            "Epoch 3/100\n",
            "1/1 [==============================] - 0s 11ms/step - loss: 11.2398 - mae: 11.2398\n",
            "Epoch 4/100\n",
            "1/1 [==============================] - 0s 9ms/step - loss: 11.1073 - mae: 11.1073\n",
            "Epoch 5/100\n",
            "1/1 [==============================] - 0s 12ms/step - loss: 10.9748 - mae: 10.9748\n",
            "Epoch 6/100\n",
            "1/1 [==============================] - 0s 8ms/step - loss: 10.8423 - mae: 10.8423\n",
            "Epoch 7/100\n",
            "1/1 [==============================] - 0s 8ms/step - loss: 10.7098 - mae: 10.7098\n",
            "Epoch 8/100\n",
            "1/1 [==============================] - 0s 8ms/step - loss: 10.5773 - mae: 10.5773\n",
            "Epoch 9/100\n",
            "1/1 [==============================] - 0s 7ms/step - loss: 10.4448 - mae: 10.4448\n",
            "Epoch 10/100\n",
            "1/1 [==============================] - 0s 16ms/step - loss: 10.3123 - mae: 10.3123\n",
            "Epoch 11/100\n",
            "1/1 [==============================] - 0s 10ms/step - loss: 10.1798 - mae: 10.1798\n",
            "Epoch 12/100\n",
            "1/1 [==============================] - 0s 9ms/step - loss: 10.0473 - mae: 10.0473\n",
            "Epoch 13/100\n",
            "1/1 [==============================] - 0s 8ms/step - loss: 9.9148 - mae: 9.9148\n",
            "Epoch 14/100\n",
            "1/1 [==============================] - 0s 8ms/step - loss: 9.7823 - mae: 9.7823\n",
            "Epoch 15/100\n",
            "1/1 [==============================] - 0s 8ms/step - loss: 9.6498 - mae: 9.6498\n",
            "Epoch 16/100\n",
            "1/1 [==============================] - 0s 7ms/step - loss: 9.5173 - mae: 9.5173\n",
            "Epoch 17/100\n",
            "1/1 [==============================] - 0s 8ms/step - loss: 9.3848 - mae: 9.3848\n",
            "Epoch 18/100\n",
            "1/1 [==============================] - 0s 9ms/step - loss: 9.2523 - mae: 9.2523\n",
            "Epoch 19/100\n",
            "1/1 [==============================] - 0s 9ms/step - loss: 9.1198 - mae: 9.1198\n",
            "Epoch 20/100\n",
            "1/1 [==============================] - 0s 6ms/step - loss: 8.9873 - mae: 8.9873\n",
            "Epoch 21/100\n",
            "1/1 [==============================] - 0s 20ms/step - loss: 8.8548 - mae: 8.8548\n",
            "Epoch 22/100\n",
            "1/1 [==============================] - 0s 10ms/step - loss: 8.7223 - mae: 8.7223\n",
            "Epoch 23/100\n",
            "1/1 [==============================] - 0s 8ms/step - loss: 8.5898 - mae: 8.5898\n",
            "Epoch 24/100\n",
            "1/1 [==============================] - 0s 8ms/step - loss: 8.4573 - mae: 8.4573\n",
            "Epoch 25/100\n",
            "1/1 [==============================] - 0s 8ms/step - loss: 8.3248 - mae: 8.3248\n",
            "Epoch 26/100\n",
            "1/1 [==============================] - 0s 10ms/step - loss: 8.1923 - mae: 8.1923\n",
            "Epoch 27/100\n",
            "1/1 [==============================] - 0s 10ms/step - loss: 8.0598 - mae: 8.0598\n",
            "Epoch 28/100\n",
            "1/1 [==============================] - 0s 8ms/step - loss: 7.9273 - mae: 7.9273\n",
            "Epoch 29/100\n",
            "1/1 [==============================] - 0s 6ms/step - loss: 7.7948 - mae: 7.7948\n",
            "Epoch 30/100\n",
            "1/1 [==============================] - 0s 7ms/step - loss: 7.6623 - mae: 7.6623\n",
            "Epoch 31/100\n",
            "1/1 [==============================] - 0s 6ms/step - loss: 7.5298 - mae: 7.5298\n",
            "Epoch 32/100\n",
            "1/1 [==============================] - 0s 7ms/step - loss: 7.3973 - mae: 7.3973\n",
            "Epoch 33/100\n",
            "1/1 [==============================] - 0s 5ms/step - loss: 7.2648 - mae: 7.2648\n",
            "Epoch 34/100\n",
            "1/1 [==============================] - 0s 7ms/step - loss: 7.2525 - mae: 7.2525\n",
            "Epoch 35/100\n",
            "1/1 [==============================] - 0s 6ms/step - loss: 7.2469 - mae: 7.2469\n",
            "Epoch 36/100\n",
            "1/1 [==============================] - 0s 7ms/step - loss: 7.2413 - mae: 7.2413\n",
            "Epoch 37/100\n",
            "1/1 [==============================] - 0s 8ms/step - loss: 7.2356 - mae: 7.2356\n",
            "Epoch 38/100\n",
            "1/1 [==============================] - 0s 6ms/step - loss: 7.2300 - mae: 7.2300\n",
            "Epoch 39/100\n",
            "1/1 [==============================] - 0s 8ms/step - loss: 7.2244 - mae: 7.2244\n",
            "Epoch 40/100\n",
            "1/1 [==============================] - 0s 6ms/step - loss: 7.2188 - mae: 7.2188\n",
            "Epoch 41/100\n",
            "1/1 [==============================] - 0s 7ms/step - loss: 7.2131 - mae: 7.2131\n",
            "Epoch 42/100\n",
            "1/1 [==============================] - 0s 6ms/step - loss: 7.2075 - mae: 7.2075\n",
            "Epoch 43/100\n",
            "1/1 [==============================] - 0s 7ms/step - loss: 7.2019 - mae: 7.2019\n",
            "Epoch 44/100\n",
            "1/1 [==============================] - 0s 7ms/step - loss: 7.1963 - mae: 7.1963\n",
            "Epoch 45/100\n",
            "1/1 [==============================] - 0s 12ms/step - loss: 7.1906 - mae: 7.1906\n",
            "Epoch 46/100\n",
            "1/1 [==============================] - 0s 7ms/step - loss: 7.1850 - mae: 7.1850\n",
            "Epoch 47/100\n",
            "1/1 [==============================] - 0s 7ms/step - loss: 7.1794 - mae: 7.1794\n",
            "Epoch 48/100\n",
            "1/1 [==============================] - 0s 5ms/step - loss: 7.1738 - mae: 7.1738\n",
            "Epoch 49/100\n",
            "1/1 [==============================] - 0s 52ms/step - loss: 7.1681 - mae: 7.1681\n",
            "Epoch 50/100\n",
            "1/1 [==============================] - 0s 20ms/step - loss: 7.1625 - mae: 7.1625\n",
            "Epoch 51/100\n",
            "1/1 [==============================] - 0s 19ms/step - loss: 7.1569 - mae: 7.1569\n",
            "Epoch 52/100\n",
            "1/1 [==============================] - 0s 11ms/step - loss: 7.1512 - mae: 7.1512\n",
            "Epoch 53/100\n",
            "1/1 [==============================] - 0s 9ms/step - loss: 7.1456 - mae: 7.1456\n",
            "Epoch 54/100\n",
            "1/1 [==============================] - 0s 8ms/step - loss: 7.1400 - mae: 7.1400\n",
            "Epoch 55/100\n",
            "1/1 [==============================] - 0s 8ms/step - loss: 7.1344 - mae: 7.1344\n",
            "Epoch 56/100\n",
            "1/1 [==============================] - 0s 7ms/step - loss: 7.1287 - mae: 7.1287\n",
            "Epoch 57/100\n",
            "1/1 [==============================] - 0s 6ms/step - loss: 7.1231 - mae: 7.1231\n",
            "Epoch 58/100\n",
            "1/1 [==============================] - 0s 6ms/step - loss: 7.1175 - mae: 7.1175\n",
            "Epoch 59/100\n",
            "1/1 [==============================] - 0s 6ms/step - loss: 7.1119 - mae: 7.1119\n",
            "Epoch 60/100\n",
            "1/1 [==============================] - 0s 5ms/step - loss: 7.1063 - mae: 7.1063\n",
            "Epoch 61/100\n",
            "1/1 [==============================] - 0s 7ms/step - loss: 7.1006 - mae: 7.1006\n",
            "Epoch 62/100\n",
            "1/1 [==============================] - 0s 6ms/step - loss: 7.0950 - mae: 7.0950\n",
            "Epoch 63/100\n",
            "1/1 [==============================] - 0s 5ms/step - loss: 7.0894 - mae: 7.0894\n",
            "Epoch 64/100\n",
            "1/1 [==============================] - 0s 5ms/step - loss: 7.0838 - mae: 7.0838\n",
            "Epoch 65/100\n",
            "1/1 [==============================] - 0s 7ms/step - loss: 7.0781 - mae: 7.0781\n",
            "Epoch 66/100\n",
            "1/1 [==============================] - 0s 6ms/step - loss: 7.0725 - mae: 7.0725\n",
            "Epoch 67/100\n",
            "1/1 [==============================] - 0s 6ms/step - loss: 7.0669 - mae: 7.0669\n",
            "Epoch 68/100\n",
            "1/1 [==============================] - 0s 6ms/step - loss: 7.0613 - mae: 7.0613\n",
            "Epoch 69/100\n",
            "1/1 [==============================] - 0s 7ms/step - loss: 7.0556 - mae: 7.0556\n",
            "Epoch 70/100\n",
            "1/1 [==============================] - 0s 6ms/step - loss: 7.0500 - mae: 7.0500\n",
            "Epoch 71/100\n",
            "1/1 [==============================] - 0s 7ms/step - loss: 7.0444 - mae: 7.0444\n",
            "Epoch 72/100\n",
            "1/1 [==============================] - 0s 8ms/step - loss: 7.0388 - mae: 7.0388\n",
            "Epoch 73/100\n",
            "1/1 [==============================] - 0s 30ms/step - loss: 7.0331 - mae: 7.0331\n",
            "Epoch 74/100\n",
            "1/1 [==============================] - 0s 20ms/step - loss: 7.0275 - mae: 7.0275\n",
            "Epoch 75/100\n",
            "1/1 [==============================] - 0s 9ms/step - loss: 7.0219 - mae: 7.0219\n",
            "Epoch 76/100\n",
            "1/1 [==============================] - 0s 9ms/step - loss: 7.0163 - mae: 7.0163\n",
            "Epoch 77/100\n",
            "1/1 [==============================] - 0s 6ms/step - loss: 7.0106 - mae: 7.0106\n",
            "Epoch 78/100\n",
            "1/1 [==============================] - 0s 17ms/step - loss: 7.0050 - mae: 7.0050\n",
            "Epoch 79/100\n",
            "1/1 [==============================] - 0s 12ms/step - loss: 6.9994 - mae: 6.9994\n",
            "Epoch 80/100\n",
            "1/1 [==============================] - 0s 6ms/step - loss: 6.9938 - mae: 6.9938\n",
            "Epoch 81/100\n",
            "1/1 [==============================] - 0s 16ms/step - loss: 6.9881 - mae: 6.9881\n",
            "Epoch 82/100\n",
            "1/1 [==============================] - 0s 10ms/step - loss: 6.9825 - mae: 6.9825\n",
            "Epoch 83/100\n",
            "1/1 [==============================] - 0s 9ms/step - loss: 6.9769 - mae: 6.9769\n",
            "Epoch 84/100\n",
            "1/1 [==============================] - 0s 9ms/step - loss: 6.9713 - mae: 6.9713\n",
            "Epoch 85/100\n",
            "1/1 [==============================] - 0s 9ms/step - loss: 6.9656 - mae: 6.9656\n",
            "Epoch 86/100\n",
            "1/1 [==============================] - 0s 8ms/step - loss: 6.9600 - mae: 6.9600\n",
            "Epoch 87/100\n",
            "1/1 [==============================] - 0s 7ms/step - loss: 6.9544 - mae: 6.9544\n",
            "Epoch 88/100\n",
            "1/1 [==============================] - 0s 10ms/step - loss: 6.9488 - mae: 6.9488\n",
            "Epoch 89/100\n",
            "1/1 [==============================] - 0s 6ms/step - loss: 6.9431 - mae: 6.9431\n",
            "Epoch 90/100\n",
            "1/1 [==============================] - 0s 8ms/step - loss: 6.9375 - mae: 6.9375\n",
            "Epoch 91/100\n",
            "1/1 [==============================] - 0s 5ms/step - loss: 6.9319 - mae: 6.9319\n",
            "Epoch 92/100\n",
            "1/1 [==============================] - 0s 10ms/step - loss: 6.9263 - mae: 6.9263\n",
            "Epoch 93/100\n",
            "1/1 [==============================] - 0s 6ms/step - loss: 6.9206 - mae: 6.9206\n",
            "Epoch 94/100\n",
            "1/1 [==============================] - 0s 6ms/step - loss: 6.9150 - mae: 6.9150\n",
            "Epoch 95/100\n",
            "1/1 [==============================] - 0s 9ms/step - loss: 6.9094 - mae: 6.9094\n",
            "Epoch 96/100\n",
            "1/1 [==============================] - 0s 6ms/step - loss: 6.9038 - mae: 6.9038\n",
            "Epoch 97/100\n",
            "1/1 [==============================] - 0s 6ms/step - loss: 6.8981 - mae: 6.8981\n",
            "Epoch 98/100\n",
            "1/1 [==============================] - 0s 5ms/step - loss: 6.8925 - mae: 6.8925\n",
            "Epoch 99/100\n",
            "1/1 [==============================] - 0s 5ms/step - loss: 6.8869 - mae: 6.8869\n",
            "Epoch 100/100\n",
            "1/1 [==============================] - 0s 6ms/step - loss: 6.8813 - mae: 6.8813\n"
          ]
        },
        {
          "output_type": "execute_result",
          "data": {
            "text/plain": [
              "<keras.callbacks.History at 0x7f2be15f51f0>"
            ]
          },
          "metadata": {},
          "execution_count": 107
        }
      ]
    },
    {
      "cell_type": "code",
      "source": [
        "X, Y"
      ],
      "metadata": {
        "colab": {
          "base_uri": "https://localhost:8080/"
        },
        "id": "f0ecJTglGttT",
        "outputId": "1ea51b26-1c62-4a20-ea84-1faddbaf7fba"
      },
      "execution_count": 108,
      "outputs": [
        {
          "output_type": "execute_result",
          "data": {
            "text/plain": [
              "(<tf.Tensor: shape=(8,), dtype=float64, numpy=array([-7., -4., -1.,  2.,  5.,  8., 11., 14.])>,\n",
              " <tf.Tensor: shape=(8,), dtype=float64, numpy=array([ 3.,  6.,  9., 12., 15., 18., 21., 24.])>)"
            ]
          },
          "metadata": {},
          "execution_count": 108
        }
      ]
    },
    {
      "cell_type": "code",
      "source": [
        "model.predict([17.])"
      ],
      "metadata": {
        "colab": {
          "base_uri": "https://localhost:8080/"
        },
        "id": "ybZG4G5vJdb7",
        "outputId": "324d81c5-d953-4c29-9872-a7c7c171be13"
      },
      "execution_count": 109,
      "outputs": [
        {
          "output_type": "stream",
          "name": "stdout",
          "text": [
            "1/1 [==============================] - 0s 61ms/step\n"
          ]
        },
        {
          "output_type": "execute_result",
          "data": {
            "text/plain": [
              "array([[30.158512]], dtype=float32)"
            ]
          },
          "metadata": {},
          "execution_count": 109
        }
      ]
    },
    {
      "cell_type": "code",
      "source": [
        "tf.random.set_seed(42)\n",
        "\n",
        "model = tf.keras.Sequential([\n",
        "    tf.keras.layers.Dense(100, activation=\"relu\"),\n",
        "    tf.keras.layers.Dense(1)\n",
        "])\n",
        "\n",
        "model.compile(loss=tf.keras.losses.mae,\n",
        "              optimizer=tf.keras.optimizers.Adam(lr=0.01),\n",
        "              metrics=[\"mae\"])\n",
        "\n",
        "model.fit(tf.expand_dims(X,axis=-1),Y, epochs=100)"
      ],
      "metadata": {
        "colab": {
          "base_uri": "https://localhost:8080/"
        },
        "id": "cDahBSCKJ1xj",
        "outputId": "0c03931c-566b-491b-8f59-a9095dece4c7"
      },
      "execution_count": 110,
      "outputs": [
        {
          "output_type": "stream",
          "name": "stdout",
          "text": [
            "Epoch 1/100\n",
            "1/1 [==============================] - 0s 382ms/step - loss: 12.3185 - mae: 12.3185\n",
            "Epoch 2/100\n",
            "1/1 [==============================] - 0s 10ms/step - loss: 11.4382 - mae: 11.4382\n",
            "Epoch 3/100\n",
            "1/1 [==============================] - 0s 14ms/step - loss: 10.5494 - mae: 10.5494\n",
            "Epoch 4/100\n",
            "1/1 [==============================] - 0s 9ms/step - loss: 9.7152 - mae: 9.7152\n",
            "Epoch 5/100\n",
            "1/1 [==============================] - 0s 11ms/step - loss: 9.0090 - mae: 9.0090\n",
            "Epoch 6/100\n",
            "1/1 [==============================] - 0s 12ms/step - loss: 8.2746 - mae: 8.2746\n",
            "Epoch 7/100\n",
            "1/1 [==============================] - 0s 12ms/step - loss: 7.5151 - mae: 7.5151\n",
            "Epoch 8/100\n",
            "1/1 [==============================] - 0s 9ms/step - loss: 6.7230 - mae: 6.7230\n",
            "Epoch 9/100\n",
            "1/1 [==============================] - 0s 9ms/step - loss: 5.8980 - mae: 5.8980\n",
            "Epoch 10/100\n",
            "1/1 [==============================] - 0s 7ms/step - loss: 5.0336 - mae: 5.0336\n",
            "Epoch 11/100\n",
            "1/1 [==============================] - 0s 21ms/step - loss: 4.1246 - mae: 4.1246\n",
            "Epoch 12/100\n",
            "1/1 [==============================] - 0s 7ms/step - loss: 3.7511 - mae: 3.7511\n",
            "Epoch 13/100\n",
            "1/1 [==============================] - 0s 7ms/step - loss: 3.9158 - mae: 3.9158\n",
            "Epoch 14/100\n",
            "1/1 [==============================] - 0s 7ms/step - loss: 4.1521 - mae: 4.1521\n",
            "Epoch 15/100\n",
            "1/1 [==============================] - 0s 7ms/step - loss: 4.5077 - mae: 4.5077\n",
            "Epoch 16/100\n",
            "1/1 [==============================] - 0s 6ms/step - loss: 4.7397 - mae: 4.7397\n",
            "Epoch 17/100\n",
            "1/1 [==============================] - 0s 8ms/step - loss: 4.8614 - mae: 4.8614\n",
            "Epoch 18/100\n",
            "1/1 [==============================] - 0s 5ms/step - loss: 4.8871 - mae: 4.8871\n",
            "Epoch 19/100\n",
            "1/1 [==============================] - 0s 10ms/step - loss: 4.8299 - mae: 4.8299\n",
            "Epoch 20/100\n",
            "1/1 [==============================] - 0s 6ms/step - loss: 4.7016 - mae: 4.7016\n",
            "Epoch 21/100\n",
            "1/1 [==============================] - 0s 6ms/step - loss: 4.5153 - mae: 4.5153\n",
            "Epoch 22/100\n",
            "1/1 [==============================] - 0s 6ms/step - loss: 4.2833 - mae: 4.2833\n",
            "Epoch 23/100\n",
            "1/1 [==============================] - 0s 7ms/step - loss: 4.0132 - mae: 4.0132\n",
            "Epoch 24/100\n",
            "1/1 [==============================] - 0s 6ms/step - loss: 3.7305 - mae: 3.7305\n",
            "Epoch 25/100\n",
            "1/1 [==============================] - 0s 5ms/step - loss: 3.6061 - mae: 3.6061\n",
            "Epoch 26/100\n",
            "1/1 [==============================] - 0s 6ms/step - loss: 3.4817 - mae: 3.4817\n",
            "Epoch 27/100\n",
            "1/1 [==============================] - 0s 8ms/step - loss: 3.3552 - mae: 3.3552\n",
            "Epoch 28/100\n",
            "1/1 [==============================] - 0s 6ms/step - loss: 3.3430 - mae: 3.3430\n",
            "Epoch 29/100\n",
            "1/1 [==============================] - 0s 6ms/step - loss: 3.3752 - mae: 3.3752\n",
            "Epoch 30/100\n",
            "1/1 [==============================] - 0s 6ms/step - loss: 3.3967 - mae: 3.3967\n",
            "Epoch 31/100\n",
            "1/1 [==============================] - 0s 6ms/step - loss: 3.3853 - mae: 3.3853\n",
            "Epoch 32/100\n",
            "1/1 [==============================] - 0s 7ms/step - loss: 3.3337 - mae: 3.3337\n",
            "Epoch 33/100\n",
            "1/1 [==============================] - 0s 7ms/step - loss: 3.2754 - mae: 3.2754\n",
            "Epoch 34/100\n",
            "1/1 [==============================] - 0s 6ms/step - loss: 3.1896 - mae: 3.1896\n",
            "Epoch 35/100\n",
            "1/1 [==============================] - 0s 6ms/step - loss: 3.0763 - mae: 3.0763\n",
            "Epoch 36/100\n",
            "1/1 [==============================] - 0s 6ms/step - loss: 2.9381 - mae: 2.9381\n",
            "Epoch 37/100\n",
            "1/1 [==============================] - 0s 6ms/step - loss: 2.8169 - mae: 2.8169\n",
            "Epoch 38/100\n",
            "1/1 [==============================] - 0s 9ms/step - loss: 2.7896 - mae: 2.7896\n",
            "Epoch 39/100\n",
            "1/1 [==============================] - 0s 7ms/step - loss: 2.7367 - mae: 2.7367\n",
            "Epoch 40/100\n",
            "1/1 [==============================] - 0s 7ms/step - loss: 2.7003 - mae: 2.7003\n",
            "Epoch 41/100\n",
            "1/1 [==============================] - 0s 11ms/step - loss: 2.5916 - mae: 2.5916\n",
            "Epoch 42/100\n",
            "1/1 [==============================] - 0s 13ms/step - loss: 2.4901 - mae: 2.4901\n",
            "Epoch 43/100\n",
            "1/1 [==============================] - 0s 9ms/step - loss: 2.3889 - mae: 2.3889\n",
            "Epoch 44/100\n",
            "1/1 [==============================] - 0s 8ms/step - loss: 2.2773 - mae: 2.2773\n",
            "Epoch 45/100\n",
            "1/1 [==============================] - 0s 10ms/step - loss: 2.1486 - mae: 2.1486\n",
            "Epoch 46/100\n",
            "1/1 [==============================] - 0s 7ms/step - loss: 2.0120 - mae: 2.0120\n",
            "Epoch 47/100\n",
            "1/1 [==============================] - 0s 9ms/step - loss: 1.8716 - mae: 1.8716\n",
            "Epoch 48/100\n",
            "1/1 [==============================] - 0s 8ms/step - loss: 1.8010 - mae: 1.8010\n",
            "Epoch 49/100\n",
            "1/1 [==============================] - 0s 7ms/step - loss: 1.6817 - mae: 1.6817\n",
            "Epoch 50/100\n",
            "1/1 [==============================] - 0s 9ms/step - loss: 1.4949 - mae: 1.4949\n",
            "Epoch 51/100\n",
            "1/1 [==============================] - 0s 7ms/step - loss: 1.3659 - mae: 1.3659\n",
            "Epoch 52/100\n",
            "1/1 [==============================] - 0s 7ms/step - loss: 1.2458 - mae: 1.2458\n",
            "Epoch 53/100\n",
            "1/1 [==============================] - 0s 7ms/step - loss: 1.1011 - mae: 1.1011\n",
            "Epoch 54/100\n",
            "1/1 [==============================] - 0s 10ms/step - loss: 0.9050 - mae: 0.9050\n",
            "Epoch 55/100\n",
            "1/1 [==============================] - 0s 7ms/step - loss: 0.7032 - mae: 0.7032\n",
            "Epoch 56/100\n",
            "1/1 [==============================] - 0s 7ms/step - loss: 0.4866 - mae: 0.4866\n",
            "Epoch 57/100\n",
            "1/1 [==============================] - 0s 6ms/step - loss: 0.3925 - mae: 0.3925\n",
            "Epoch 58/100\n",
            "1/1 [==============================] - 0s 8ms/step - loss: 0.2727 - mae: 0.2727\n",
            "Epoch 59/100\n",
            "1/1 [==============================] - 0s 7ms/step - loss: 0.2035 - mae: 0.2035\n",
            "Epoch 60/100\n",
            "1/1 [==============================] - 0s 11ms/step - loss: 0.4177 - mae: 0.4177\n",
            "Epoch 61/100\n",
            "1/1 [==============================] - 0s 7ms/step - loss: 0.3904 - mae: 0.3904\n",
            "Epoch 62/100\n",
            "1/1 [==============================] - 0s 6ms/step - loss: 0.4483 - mae: 0.4483\n",
            "Epoch 63/100\n",
            "1/1 [==============================] - 0s 10ms/step - loss: 0.4128 - mae: 0.4128\n",
            "Epoch 64/100\n",
            "1/1 [==============================] - 0s 7ms/step - loss: 0.5029 - mae: 0.5029\n",
            "Epoch 65/100\n",
            "1/1 [==============================] - 0s 7ms/step - loss: 0.4210 - mae: 0.4210\n",
            "Epoch 66/100\n",
            "1/1 [==============================] - 0s 9ms/step - loss: 0.4623 - mae: 0.4623\n",
            "Epoch 67/100\n",
            "1/1 [==============================] - 0s 6ms/step - loss: 0.3584 - mae: 0.3584\n",
            "Epoch 68/100\n",
            "1/1 [==============================] - 0s 10ms/step - loss: 0.3169 - mae: 0.3169\n",
            "Epoch 69/100\n",
            "1/1 [==============================] - 0s 7ms/step - loss: 0.2630 - mae: 0.2630\n",
            "Epoch 70/100\n",
            "1/1 [==============================] - 0s 7ms/step - loss: 0.2135 - mae: 0.2135\n",
            "Epoch 71/100\n",
            "1/1 [==============================] - 0s 6ms/step - loss: 0.1765 - mae: 0.1765\n",
            "Epoch 72/100\n",
            "1/1 [==============================] - 0s 6ms/step - loss: 0.3350 - mae: 0.3350\n",
            "Epoch 73/100\n",
            "1/1 [==============================] - 0s 7ms/step - loss: 0.3267 - mae: 0.3267\n",
            "Epoch 74/100\n",
            "1/1 [==============================] - 0s 7ms/step - loss: 0.1933 - mae: 0.1933\n",
            "Epoch 75/100\n",
            "1/1 [==============================] - 0s 8ms/step - loss: 0.2845 - mae: 0.2845\n",
            "Epoch 76/100\n",
            "1/1 [==============================] - 0s 8ms/step - loss: 0.1706 - mae: 0.1706\n",
            "Epoch 77/100\n",
            "1/1 [==============================] - 0s 7ms/step - loss: 0.1886 - mae: 0.1886\n",
            "Epoch 78/100\n",
            "1/1 [==============================] - 0s 8ms/step - loss: 0.2379 - mae: 0.2379\n",
            "Epoch 79/100\n",
            "1/1 [==============================] - 0s 7ms/step - loss: 0.2396 - mae: 0.2396\n",
            "Epoch 80/100\n",
            "1/1 [==============================] - 0s 7ms/step - loss: 0.2633 - mae: 0.2633\n",
            "Epoch 81/100\n",
            "1/1 [==============================] - 0s 7ms/step - loss: 0.1766 - mae: 0.1766\n",
            "Epoch 82/100\n",
            "1/1 [==============================] - 0s 11ms/step - loss: 0.2349 - mae: 0.2349\n",
            "Epoch 83/100\n",
            "1/1 [==============================] - 0s 7ms/step - loss: 0.1657 - mae: 0.1657\n",
            "Epoch 84/100\n",
            "1/1 [==============================] - 0s 8ms/step - loss: 0.2313 - mae: 0.2313\n",
            "Epoch 85/100\n",
            "1/1 [==============================] - 0s 15ms/step - loss: 0.1406 - mae: 0.1406\n",
            "Epoch 86/100\n",
            "1/1 [==============================] - 0s 7ms/step - loss: 0.2704 - mae: 0.2704\n",
            "Epoch 87/100\n",
            "1/1 [==============================] - 0s 6ms/step - loss: 0.2625 - mae: 0.2625\n",
            "Epoch 88/100\n",
            "1/1 [==============================] - 0s 7ms/step - loss: 0.1244 - mae: 0.1244\n",
            "Epoch 89/100\n",
            "1/1 [==============================] - 0s 7ms/step - loss: 0.2429 - mae: 0.2429\n",
            "Epoch 90/100\n",
            "1/1 [==============================] - 0s 7ms/step - loss: 0.1039 - mae: 0.1039\n",
            "Epoch 91/100\n",
            "1/1 [==============================] - 0s 7ms/step - loss: 0.3054 - mae: 0.3054\n",
            "Epoch 92/100\n",
            "1/1 [==============================] - 0s 7ms/step - loss: 0.2531 - mae: 0.2531\n",
            "Epoch 93/100\n",
            "1/1 [==============================] - 0s 7ms/step - loss: 0.1150 - mae: 0.1150\n",
            "Epoch 94/100\n",
            "1/1 [==============================] - 0s 7ms/step - loss: 0.0968 - mae: 0.0968\n",
            "Epoch 95/100\n",
            "1/1 [==============================] - 0s 8ms/step - loss: 0.1926 - mae: 0.1926\n",
            "Epoch 96/100\n",
            "1/1 [==============================] - 0s 9ms/step - loss: 0.0905 - mae: 0.0905\n",
            "Epoch 97/100\n",
            "1/1 [==============================] - 0s 7ms/step - loss: 0.3329 - mae: 0.3329\n",
            "Epoch 98/100\n",
            "1/1 [==============================] - 0s 7ms/step - loss: 0.3907 - mae: 0.3907\n",
            "Epoch 99/100\n",
            "1/1 [==============================] - 0s 7ms/step - loss: 0.2052 - mae: 0.2052\n",
            "Epoch 100/100\n",
            "1/1 [==============================] - 0s 7ms/step - loss: 0.3052 - mae: 0.3052\n"
          ]
        },
        {
          "output_type": "execute_result",
          "data": {
            "text/plain": [
              "<keras.callbacks.History at 0x7f2be15389d0>"
            ]
          },
          "metadata": {},
          "execution_count": 110
        }
      ]
    },
    {
      "cell_type": "code",
      "source": [
        "model.predict([17.])"
      ],
      "metadata": {
        "colab": {
          "base_uri": "https://localhost:8080/"
        },
        "id": "MQVHsrn6KbZJ",
        "outputId": "71631605-5bce-4b4b-827f-4f036977a117"
      },
      "execution_count": 111,
      "outputs": [
        {
          "output_type": "stream",
          "name": "stdout",
          "text": [
            "1/1 [==============================] - 0s 58ms/step\n"
          ]
        },
        {
          "output_type": "execute_result",
          "data": {
            "text/plain": [
              "array([[26.206875]], dtype=float32)"
            ]
          },
          "metadata": {},
          "execution_count": 111
        }
      ]
    },
    {
      "cell_type": "markdown",
      "source": [
        "❗REMEMBER OVERFITTING. Try to generalize the data so the ML model can perform well on samples it has never seen before\n",
        " ATTENTION with activators(like ReLU)\n",
        "optimizers(sgd, Adam,...) as well as their learning rates"
      ],
      "metadata": {
        "id": "Qopx7rarMZX7"
      }
    },
    {
      "cell_type": "markdown",
      "source": [
        "build -> fit -> evaluate"
      ],
      "metadata": {
        "id": "_ZIOKq4GOUki"
      }
    },
    {
      "cell_type": "code",
      "source": [
        "#Evaluate the model\n",
        "\n",
        "model.evaluate(X,Y)"
      ],
      "metadata": {
        "colab": {
          "base_uri": "https://localhost:8080/"
        },
        "id": "a6qkpfiiMk1b",
        "outputId": "28b9310a-51b6-4d91-e8b9-076b9db7dbf9"
      },
      "execution_count": 112,
      "outputs": [
        {
          "output_type": "stream",
          "name": "stdout",
          "text": [
            "1/1 [==============================] - 0s 148ms/step - loss: 0.4215 - mae: 0.4215\n"
          ]
        },
        {
          "output_type": "execute_result",
          "data": {
            "text/plain": [
              "[0.42148202657699585, 0.42148202657699585]"
            ]
          },
          "metadata": {},
          "execution_count": 112
        }
      ]
    },
    {
      "cell_type": "code",
      "source": [
        "X = tf.range(-100,100, 4)\n",
        "\n",
        "X"
      ],
      "metadata": {
        "colab": {
          "base_uri": "https://localhost:8080/"
        },
        "id": "98XO0FoFPYiI",
        "outputId": "0480639f-9456-4ef8-b3e1-0b3884fcc520"
      },
      "execution_count": 113,
      "outputs": [
        {
          "output_type": "execute_result",
          "data": {
            "text/plain": [
              "<tf.Tensor: shape=(50,), dtype=int32, numpy=\n",
              "array([-100,  -96,  -92,  -88,  -84,  -80,  -76,  -72,  -68,  -64,  -60,\n",
              "        -56,  -52,  -48,  -44,  -40,  -36,  -32,  -28,  -24,  -20,  -16,\n",
              "        -12,   -8,   -4,    0,    4,    8,   12,   16,   20,   24,   28,\n",
              "         32,   36,   40,   44,   48,   52,   56,   60,   64,   68,   72,\n",
              "         76,   80,   84,   88,   92,   96], dtype=int32)>"
            ]
          },
          "metadata": {},
          "execution_count": 113
        }
      ]
    },
    {
      "cell_type": "code",
      "source": [
        "Y = X+10\n",
        "\n",
        "Y"
      ],
      "metadata": {
        "colab": {
          "base_uri": "https://localhost:8080/"
        },
        "id": "RslFwxy2Ped5",
        "outputId": "a6f7c5ea-5189-4910-b4ff-48ad307d9a91"
      },
      "execution_count": 114,
      "outputs": [
        {
          "output_type": "execute_result",
          "data": {
            "text/plain": [
              "<tf.Tensor: shape=(50,), dtype=int32, numpy=\n",
              "array([-90, -86, -82, -78, -74, -70, -66, -62, -58, -54, -50, -46, -42,\n",
              "       -38, -34, -30, -26, -22, -18, -14, -10,  -6,  -2,   2,   6,  10,\n",
              "        14,  18,  22,  26,  30,  34,  38,  42,  46,  50,  54,  58,  62,\n",
              "        66,  70,  74,  78,  82,  86,  90,  94,  98, 102, 106], dtype=int32)>"
            ]
          },
          "metadata": {},
          "execution_count": 114
        }
      ]
    },
    {
      "cell_type": "code",
      "source": [
        "plt.scatter(X,Y)"
      ],
      "metadata": {
        "colab": {
          "base_uri": "https://localhost:8080/",
          "height": 283
        },
        "id": "yZIbWGl_QFca",
        "outputId": "8c653348-359f-4f8a-b910-3c5def8d4690"
      },
      "execution_count": 115,
      "outputs": [
        {
          "output_type": "execute_result",
          "data": {
            "text/plain": [
              "<matplotlib.collections.PathCollection at 0x7f2be14a5f40>"
            ]
          },
          "metadata": {},
          "execution_count": 115
        },
        {
          "output_type": "display_data",
          "data": {
            "text/plain": [
              "<Figure size 432x288 with 1 Axes>"
            ],
            "image/png": "[encoded data removed]"
          },
          "metadata": {
            "needs_background": "light"
          }
        }
      ]
    },
    {
      "cell_type": "markdown",
      "source": [
        "*Training set - the model learns from this data, which is typically 70-80% of the total data you have available\n",
        "*Validation set - the model gets tuned on this data, this set is typically 10-15% of the tottal data available.\n",
        "*Test set - the model gets evaluated on this data to test what it has learned, this set is typically 10-15% of the tottal data available."
      ],
      "metadata": {
        "id": "LsprfijBQOOS"
      }
    },
    {
      "cell_type": "markdown",
      "source": [],
      "metadata": {
        "id": "VX5A0SvTPhmJ"
      }
    },
    {
      "cell_type": "code",
      "source": [
        "#Check the lenght of how man y samples we have\n",
        "len(X)"
      ],
      "metadata": {
        "colab": {
          "base_uri": "https://localhost:8080/"
        },
        "id": "Y-05ZX9MQxRq",
        "outputId": "9a3dcf83-b097-461f-f3b3-061398f51827"
      },
      "execution_count": 116,
      "outputs": [
        {
          "output_type": "execute_result",
          "data": {
            "text/plain": [
              "50"
            ]
          },
          "metadata": {},
          "execution_count": 116
        }
      ]
    },
    {
      "cell_type": "code",
      "source": [
        "#Split the data into train and test sets\n",
        "X_train = X[:40]\n",
        "Y_train = Y[:40]\n",
        "X_test = X[40:]\n",
        "Y_test = Y[40:]\n",
        "\n",
        "len(X_train), len(Y_train), len(X_test), len(Y_test)"
      ],
      "metadata": {
        "colab": {
          "base_uri": "https://localhost:8080/"
        },
        "id": "3bzI28aDRNkC",
        "outputId": "12b7de51-d6b0-42d3-8850-5af119b34497"
      },
      "execution_count": 138,
      "outputs": [
        {
          "output_type": "execute_result",
          "data": {
            "text/plain": [
              "(40, 40, 10, 10)"
            ]
          },
          "metadata": {},
          "execution_count": 138
        }
      ]
    },
    {
      "cell_type": "code",
      "source": [
        "plt.figure(figsize=(10,7))\n",
        "#Plot training data in blue\n",
        "plt.scatter(X_train, Y_train, c=\"b\", label=\"Training data\")\n",
        "#Plot test data in green\n",
        "plt.scatter(X_test, Y_test, c=\"g\", label=\"Test data\")"
      ],
      "metadata": {
        "colab": {
          "base_uri": "https://localhost:8080/",
          "height": 446
        },
        "id": "Ly5dKUYdSAWJ",
        "outputId": "99a15245-fdab-4a24-c1ab-c9b2b83d3ab9"
      },
      "execution_count": 139,
      "outputs": [
        {
          "output_type": "execute_result",
          "data": {
            "text/plain": [
              "<matplotlib.collections.PathCollection at 0x7f2be14ecfd0>"
            ]
          },
          "metadata": {},
          "execution_count": 139
        },
        {
          "output_type": "display_data",
          "data": {
            "text/plain": [
              "<Figure size 720x504 with 1 Axes>"
            ],
            "image/png": "[encoded data removed]"
          },
          "metadata": {
            "needs_background": "light"
          }
        }
      ]
    },
    {
      "cell_type": "code",
      "source": [
        "#Let's have a look at how to create a neural network for our data\n",
        "\n",
        "model = tf.keras.Sequential([\n",
        "    tf.keras.layers.Dense(10)\n",
        "])\n",
        "\n",
        "model.compile(loss=tf.keras.losses.mae,\n",
        "              optimizer=tf.keras.optimizers.SGD(),\n",
        "              metrics=[\"mae\"])\n",
        "\n",
        "model.fit(tf.expand_dims(X_train,axis=-1),Y_train, epochs=100)"
      ],
      "metadata": {
        "id": "jnjkmHRbVaEY"
      },
      "execution_count": null,
      "outputs": []
    },
    {
      "cell_type": "code",
      "source": [
        "model.summary()"
      ],
      "metadata": {
        "colab": {
          "base_uri": "https://localhost:8080/"
        },
        "id": "lHTZIAVlWOAH",
        "outputId": "e06a0314-5f40-41dd-f881-a3fd814c8036"
      },
      "execution_count": 141,
      "outputs": [
        {
          "output_type": "stream",
          "name": "stdout",
          "text": [
            "Model: \"sequential_23\"\n",
            "_________________________________________________________________\n",
            " Layer (type)                Output Shape              Param #   \n",
            "=================================================================\n",
            " dense_35 (Dense)            (None, 10)                20        \n",
            "                                                                 \n",
            "=================================================================\n",
            "Total params: 20\n",
            "Trainable params: 20\n",
            "Non-trainable params: 0\n",
            "_________________________________________________________________\n"
          ]
        }
      ]
    },
    {
      "cell_type": "code",
      "source": [
        "#Visualize the number of inputs to set the input_shape parameter\n",
        "\n",
        "X[0], Y[0]"
      ],
      "metadata": {
        "colab": {
          "base_uri": "https://localhost:8080/"
        },
        "id": "92avXEpyW6hQ",
        "outputId": "a110ba1f-0cec-46b3-92cb-84f5b0f62f20"
      },
      "execution_count": 142,
      "outputs": [
        {
          "output_type": "execute_result",
          "data": {
            "text/plain": [
              "(<tf.Tensor: shape=(), dtype=int32, numpy=-100>,\n",
              " <tf.Tensor: shape=(), dtype=int32, numpy=-90>)"
            ]
          },
          "metadata": {},
          "execution_count": 142
        }
      ]
    },
    {
      "cell_type": "code",
      "source": [
        "#Create a model which builds automatically by defining the input_shape argument \n",
        "tf.random.set_seed(42)\n",
        "\n",
        "model = tf.keras.Sequential([\n",
        "    tf.keras.layers.Dense(10,input_shape=[1],name=\"input_layer\"),\n",
        "    tf.keras.layers.Dense(1,input_shape=[1],name=\"output_layer\")\n",
        "])\n",
        "\n",
        "model.compile(loss=tf.keras.losses.mae,\n",
        "              optimizer=tf.keras.optimizers.Adam(lr=0.01),\n",
        "              metrics=[\"mae\"])\n",
        "\n",
        "model.fit(tf.expand_dims(X_train,axis=-1),Y_train, epochs=100, verbose=0)\n",
        "\n",
        "model.fit(tf.expand_dims(X_test,axis=-1),Y_test, epochs=100, verbose=0)"
      ],
      "metadata": {
        "colab": {
          "base_uri": "https://localhost:8080/"
        },
        "id": "tmkXmmFxWfTS",
        "outputId": "c06872e2-53ad-403a-d6b0-f84d9bbb9160"
      },
      "execution_count": 174,
      "outputs": [
        {
          "output_type": "stream",
          "name": "stderr",
          "text": [
            "/usr/local/lib/python3.8/dist-packages/keras/optimizers/optimizer_v2/adam.py:110: UserWarning: The `lr` argument is deprecated, use `learning_rate` instead.\n",
            "  super(Adam, self).__init__(name, **kwargs)\n"
          ]
        },
        {
          "output_type": "execute_result",
          "data": {
            "text/plain": [
              "<keras.callbacks.History at 0x7f2b76aa6340>"
            ]
          },
          "metadata": {},
          "execution_count": 174
        }
      ]
    },
    {
      "cell_type": "code",
      "source": [
        "model.summary()"
      ],
      "metadata": {
        "colab": {
          "base_uri": "https://localhost:8080/"
        },
        "id": "1BqJRsFnXugy",
        "outputId": "941e765e-801b-4e8e-8864-457717671ff1"
      },
      "execution_count": 175,
      "outputs": [
        {
          "output_type": "stream",
          "name": "stdout",
          "text": [
            "Model: \"sequential_26\"\n",
            "_________________________________________________________________\n",
            " Layer (type)                Output Shape              Param #   \n",
            "=================================================================\n",
            " input_layer (Dense)         (None, 10)                20        \n",
            "                                                                 \n",
            " output_layer (Dense)        (None, 1)                 11        \n",
            "                                                                 \n",
            "=================================================================\n",
            "Total params: 31\n",
            "Trainable params: 31\n",
            "Non-trainable params: 0\n",
            "_________________________________________________________________\n"
          ]
        }
      ]
    },
    {
      "cell_type": "markdown",
      "source": [
        "Total x Trainable parameters: the total amount and the patterns the model can update as it trains, respectively"
      ],
      "metadata": {
        "id": "3wUg8hyZX79S"
      }
    },
    {
      "cell_type": "code",
      "source": [
        "model.predict([17.])"
      ],
      "metadata": {
        "colab": {
          "base_uri": "https://localhost:8080/"
        },
        "id": "zSGPf6ruYQ6o",
        "outputId": "5332607c-58a2-442f-9695-4362da4e992e"
      },
      "execution_count": 176,
      "outputs": [
        {
          "output_type": "stream",
          "name": "stdout",
          "text": [
            "1/1 [==============================] - 0s 62ms/step\n"
          ]
        },
        {
          "output_type": "execute_result",
          "data": {
            "text/plain": [
              "array([[26.707825]], dtype=float32)"
            ]
          },
          "metadata": {},
          "execution_count": 176
        }
      ]
    },
    {
      "cell_type": "code",
      "source": [
        "from tensorflow.keras.utils import plot_model\n",
        "\n",
        "plot_model(model=model, show_shapes=True)"
      ],
      "metadata": {
        "colab": {
          "base_uri": "https://localhost:8080/",
          "height": 312
        },
        "id": "w2iG3-hGaHm4",
        "outputId": "27623792-1c65-45d0-e49a-422d956f544e"
      },
      "execution_count": 177,
      "outputs": [
        {
          "output_type": "execute_result",
          "data": {
            "image/png": "[encoded data removed]",
            "text/plain": [
              "<IPython.core.display.Image object>"
            ]
          },
          "metadata": {},
          "execution_count": 177
        }
      ]
    },
    {
      "cell_type": "code",
      "source": [
        "#Make predictions\n",
        "\n",
        "Y_pred = model.predict(X_test)\n",
        "Y_pred"
      ],
      "metadata": {
        "colab": {
          "base_uri": "https://localhost:8080/"
        },
        "id": "mifJN71AcIZh",
        "outputId": "11dbca77-8cc4-42c9-ae46-a14d53ef5c2f"
      },
      "execution_count": 178,
      "outputs": [
        {
          "output_type": "stream",
          "name": "stdout",
          "text": [
            "1/1 [==============================] - 0s 66ms/step\n"
          ]
        },
        {
          "output_type": "execute_result",
          "data": {
            "text/plain": [
              "array([[ 70.10289 ],\n",
              "       [ 74.13965 ],\n",
              "       [ 78.17639 ],\n",
              "       [ 82.21314 ],\n",
              "       [ 86.249886],\n",
              "       [ 90.286644],\n",
              "       [ 94.323395],\n",
              "       [ 98.360146],\n",
              "       [102.3969  ],\n",
              "       [106.433655]], dtype=float32)"
            ]
          },
          "metadata": {},
          "execution_count": 178
        }
      ]
    },
    {
      "cell_type": "code",
      "source": [
        "Y_test"
      ],
      "metadata": {
        "colab": {
          "base_uri": "https://localhost:8080/"
        },
        "id": "LvHp4gkMcdoI",
        "outputId": "70e1e6fa-4fc6-4b87-8203-52a69bd0c124"
      },
      "execution_count": 179,
      "outputs": [
        {
          "output_type": "execute_result",
          "data": {
            "text/plain": [
              "<tf.Tensor: shape=(10,), dtype=int32, numpy=array([ 70,  74,  78,  82,  86,  90,  94,  98, 102, 106], dtype=int32)>"
            ]
          },
          "metadata": {},
          "execution_count": 179
        }
      ]
    },
    {
      "cell_type": "code",
      "source": [
        "tf.size(X_test) == tf.size(Y_pred)"
      ],
      "metadata": {
        "colab": {
          "base_uri": "https://localhost:8080/"
        },
        "id": "7GbY9VbMcimv",
        "outputId": "32fe7fb1-23f9-4148-8228-86a149948cd5"
      },
      "execution_count": 180,
      "outputs": [
        {
          "output_type": "execute_result",
          "data": {
            "text/plain": [
              "<tf.Tensor: shape=(), dtype=bool, numpy=True>"
            ]
          },
          "metadata": {},
          "execution_count": 180
        }
      ]
    },
    {
      "cell_type": "markdown",
      "source": [],
      "metadata": {
        "id": "VtsYWizfemlQ"
      }
    },
    {
      "cell_type": "code",
      "source": [],
      "metadata": {
        "id": "4tXQ4dR3hVwP"
      },
      "execution_count": null,
      "outputs": []
    },
    {
      "cell_type": "code",
      "source": [
        "plt.figure(figsize=(10,7))\n",
        "plt.scatter(X_train,Y_train, c=\"b\", label=\"training data\")\n",
        "plt.scatter(X_test, Y_test, c=\"g\", label=\"test data\")\n",
        "plt.scatter(X_test, Y_pred, c=\"r\", label=\"predictions\")\n",
        "plt.legend();"
      ],
      "metadata": {
        "colab": {
          "base_uri": "https://localhost:8080/",
          "height": 428
        },
        "id": "LZz9WB4VjP2f",
        "outputId": "86be7a8a-6df2-4370-bae1-20fb2a8651ba"
      },
      "execution_count": 181,
      "outputs": [
        {
          "output_type": "display_data",
          "data": {
            "text/plain": [
              "<Figure size 720x504 with 1 Axes>"
            ],
            "image/png": "[encoded data removed]"
          },
          "metadata": {
            "needs_background": "light"
          }
        }
      ]
    },
    {
      "cell_type": "markdown",
      "source": [
        "mean square error, r squared"
      ],
      "metadata": {
        "id": "sG3n1p60mTN_"
      }
    },
    {
      "cell_type": "code",
      "source": [
        "model.evaluate(X_test, Y_test)"
      ],
      "metadata": {
        "colab": {
          "base_uri": "https://localhost:8080/"
        },
        "id": "nGdGoLvCnW9P",
        "outputId": "4c0a5178-2bba-413c-8a4a-de6673045edb"
      },
      "execution_count": 182,
      "outputs": [
        {
          "output_type": "stream",
          "name": "stdout",
          "text": [
            "1/1 [==============================] - 0s 318ms/step - loss: 0.2683 - mae: 0.2683\n"
          ]
        },
        {
          "output_type": "execute_result",
          "data": {
            "text/plain": [
              "[0.2682693600654602, 0.2682693600654602]"
            ]
          },
          "metadata": {},
          "execution_count": 182
        }
      ]
    },
    {
      "cell_type": "code",
      "source": [],
      "metadata": {
        "id": "SRf_kLoRp7bO"
      },
      "execution_count": 192,
      "outputs": []
    },
    {
      "cell_type": "code",
      "source": [
        "#Calculate the mean absolute error\n",
        "\n",
        "mae = tf.metrics.mean_squared_error(y_true=Y_test,y_pred=tf.squeeze(Y_pred))\n",
        "\n",
        "mae"
      ],
      "metadata": {
        "colab": {
          "base_uri": "https://localhost:8080/"
        },
        "id": "0LzB99OAnpxf",
        "outputId": "b523ebd5-5d7b-4bbd-de7f-48bf733f7150"
      },
      "execution_count": 199,
      "outputs": [
        {
          "output_type": "execute_result",
          "data": {
            "text/plain": [
              "<tf.Tensor: shape=(), dtype=float32, numpy=0.08311115>"
            ]
          },
          "metadata": {},
          "execution_count": 199
        }
      ]
    },
    {
      "cell_type": "code",
      "source": [
        "#Make some functions to reuse MAE and MSE\n",
        "def mae(y_true,y_pred):\n",
        "  return tf.metrics.mean_absolute_error(y_true=y_true,\n",
        "                                        y_pred=tf.squeeze(y_pred))"
      ],
      "metadata": {
        "id": "hFg73bZXpeQN"
      },
      "execution_count": 200,
      "outputs": []
    },
    {
      "cell_type": "code",
      "source": [
        "#Make some functions to reuse MAE and MSE\n",
        "def mse(y_true,y_pred):\n",
        "  return tf.metrics.mean_squared_error(y_true=y_true,\n",
        "                                        y_pred=tf.squeeze(y_pred))"
      ],
      "metadata": {
        "id": "h2g8CiidrvoW"
      },
      "execution_count": 205,
      "outputs": []
    },
    {
      "cell_type": "code",
      "source": [
        "X_train, Y_train"
      ],
      "metadata": {
        "colab": {
          "base_uri": "https://localhost:8080/"
        },
        "id": "Ctbri7Basg12",
        "outputId": "db48d7d5-038e-4335-f21f-e466c9cdcf9d"
      },
      "execution_count": 202,
      "outputs": [
        {
          "output_type": "execute_result",
          "data": {
            "text/plain": [
              "(<tf.Tensor: shape=(40,), dtype=int32, numpy=\n",
              " array([-100,  -96,  -92,  -88,  -84,  -80,  -76,  -72,  -68,  -64,  -60,\n",
              "         -56,  -52,  -48,  -44,  -40,  -36,  -32,  -28,  -24,  -20,  -16,\n",
              "         -12,   -8,   -4,    0,    4,    8,   12,   16,   20,   24,   28,\n",
              "          32,   36,   40,   44,   48,   52,   56], dtype=int32)>,\n",
              " <tf.Tensor: shape=(40,), dtype=int32, numpy=\n",
              " array([-90, -86, -82, -78, -74, -70, -66, -62, -58, -54, -50, -46, -42,\n",
              "        -38, -34, -30, -26, -22, -18, -14, -10,  -6,  -2,   2,   6,  10,\n",
              "         14,  18,  22,  26,  30,  34,  38,  42,  46,  50,  54,  58,  62,\n",
              "         66], dtype=int32)>)"
            ]
          },
          "metadata": {},
          "execution_count": 202
        }
      ]
    },
    {
      "cell_type": "code",
      "source": [
        "tf.random.set_seed(42)\n",
        "\n",
        "model_1 = tf.keras.Sequential([\n",
        "    tf.keras.layers.Dense(1)\n",
        "])\n",
        "\n",
        "model_1.compile(loss=tf.keras.losses.mse,\n",
        "                optimizer=tf.keras.optimizers.Adam(lr=0.01),\n",
        "                metrics=[\"mse\"])\n",
        "\n",
        "model_1.fit(tf.expand_dims(X_train,axis=-1),Y_train, epochs=100,)\n",
        "model_1.fit(tf.expand_dims(X_test,axis=-1),Y_test, epochs=100, )"
      ],
      "metadata": {
        "colab": {
          "base_uri": "https://localhost:8080/"
        },
        "id": "u58EPxcAso2f",
        "outputId": "09632d19-38d4-4a5f-a047-61792ade9691"
      },
      "execution_count": 211,
      "outputs": [
        {
          "output_type": "stream",
          "name": "stdout",
          "text": [
            "Epoch 1/100\n",
            "2/2 [==============================] - 1s 8ms/step - loss: 391.2079 - mse: 391.2079\n",
            "Epoch 2/100\n",
            "2/2 [==============================] - 0s 8ms/step - loss: 356.2643 - mse: 356.2643\n",
            "Epoch 3/100\n",
            "2/2 [==============================] - 0s 8ms/step - loss: 323.2913 - mse: 323.2913\n",
            "Epoch 4/100\n",
            "2/2 [==============================] - 0s 6ms/step - loss: 292.3669 - mse: 292.3669\n",
            "Epoch 5/100\n",
            "2/2 [==============================] - 0s 5ms/step - loss: 264.7791 - mse: 264.7791\n",
            "Epoch 6/100\n",
            "2/2 [==============================] - 0s 6ms/step - loss: 239.3957 - mse: 239.3957\n",
            "Epoch 7/100\n",
            "2/2 [==============================] - 0s 5ms/step - loss: 215.2390 - mse: 215.2390\n",
            "Epoch 8/100\n",
            "2/2 [==============================] - 0s 6ms/step - loss: 192.7495 - mse: 192.7495\n",
            "Epoch 9/100\n",
            "2/2 [==============================] - 0s 5ms/step - loss: 174.0572 - mse: 174.0572\n",
            "Epoch 10/100\n",
            "2/2 [==============================] - 0s 5ms/step - loss: 157.3491 - mse: 157.3491\n",
            "Epoch 11/100\n",
            "2/2 [==============================] - 0s 5ms/step - loss: 142.5575 - mse: 142.5575\n",
            "Epoch 12/100\n",
            "2/2 [==============================] - 0s 5ms/step - loss: 128.9842 - mse: 128.9842\n",
            "Epoch 13/100\n",
            "2/2 [==============================] - 0s 7ms/step - loss: 117.4281 - mse: 117.4281\n",
            "Epoch 14/100\n",
            "2/2 [==============================] - 0s 6ms/step - loss: 108.2500 - mse: 108.2500\n",
            "Epoch 15/100\n",
            "2/2 [==============================] - 0s 6ms/step - loss: 100.5642 - mse: 100.5642\n",
            "Epoch 16/100\n",
            "2/2 [==============================] - 0s 7ms/step - loss: 94.3227 - mse: 94.3227\n",
            "Epoch 17/100\n",
            "2/2 [==============================] - 0s 6ms/step - loss: 88.4359 - mse: 88.4359\n",
            "Epoch 18/100\n",
            "2/2 [==============================] - 0s 10ms/step - loss: 85.5090 - mse: 85.5090\n",
            "Epoch 19/100\n",
            "2/2 [==============================] - 0s 7ms/step - loss: 82.3571 - mse: 82.3571\n",
            "Epoch 20/100\n",
            "2/2 [==============================] - 0s 6ms/step - loss: 79.8458 - mse: 79.8458\n",
            "Epoch 21/100\n",
            "2/2 [==============================] - 0s 8ms/step - loss: 78.3150 - mse: 78.3150\n",
            "Epoch 22/100\n",
            "2/2 [==============================] - 0s 5ms/step - loss: 77.0504 - mse: 77.0504\n",
            "Epoch 23/100\n",
            "2/2 [==============================] - 0s 4ms/step - loss: 76.5844 - mse: 76.5844\n",
            "Epoch 24/100\n",
            "2/2 [==============================] - 0s 6ms/step - loss: 75.7357 - mse: 75.7357\n",
            "Epoch 25/100\n",
            "2/2 [==============================] - 0s 5ms/step - loss: 75.4481 - mse: 75.4481\n",
            "Epoch 26/100\n",
            "2/2 [==============================] - 0s 5ms/step - loss: 75.0108 - mse: 75.0108\n",
            "Epoch 27/100\n",
            "2/2 [==============================] - 0s 5ms/step - loss: 74.7252 - mse: 74.7252\n",
            "Epoch 28/100\n",
            "2/2 [==============================] - 0s 6ms/step - loss: 74.3986 - mse: 74.3986\n",
            "Epoch 29/100\n",
            "2/2 [==============================] - 0s 6ms/step - loss: 74.1237 - mse: 74.1237\n",
            "Epoch 30/100\n",
            "2/2 [==============================] - 0s 4ms/step - loss: 73.7405 - mse: 73.7405\n",
            "Epoch 31/100\n",
            "2/2 [==============================] - 0s 9ms/step - loss: 73.3394 - mse: 73.3394\n",
            "Epoch 32/100\n",
            "2/2 [==============================] - 0s 6ms/step - loss: 72.9391 - mse: 72.9391\n",
            "Epoch 33/100\n",
            "2/2 [==============================] - 0s 5ms/step - loss: 72.5536 - mse: 72.5536\n",
            "Epoch 34/100\n",
            "2/2 [==============================] - 0s 5ms/step - loss: 72.1743 - mse: 72.1743\n",
            "Epoch 35/100\n",
            "2/2 [==============================] - 0s 5ms/step - loss: 71.7707 - mse: 71.7707\n",
            "Epoch 36/100\n",
            "2/2 [==============================] - 0s 5ms/step - loss: 71.4462 - mse: 71.4462\n",
            "Epoch 37/100\n",
            "2/2 [==============================] - 0s 8ms/step - loss: 71.0999 - mse: 71.0999\n",
            "Epoch 38/100\n",
            "2/2 [==============================] - 0s 5ms/step - loss: 70.7485 - mse: 70.7485\n",
            "Epoch 39/100\n",
            "2/2 [==============================] - 0s 6ms/step - loss: 70.4198 - mse: 70.4198\n",
            "Epoch 40/100\n",
            "2/2 [==============================] - 0s 6ms/step - loss: 70.1152 - mse: 70.1152\n",
            "Epoch 41/100\n",
            "2/2 [==============================] - 0s 7ms/step - loss: 69.8542 - mse: 69.8542\n",
            "Epoch 42/100\n",
            "2/2 [==============================] - 0s 6ms/step - loss: 69.5104 - mse: 69.5104\n",
            "Epoch 43/100\n",
            "2/2 [==============================] - 0s 5ms/step - loss: 69.1925 - mse: 69.1925\n",
            "Epoch 44/100\n",
            "2/2 [==============================] - 0s 9ms/step - loss: 68.8601 - mse: 68.8601\n",
            "Epoch 45/100\n",
            "2/2 [==============================] - 0s 5ms/step - loss: 68.5473 - mse: 68.5473\n",
            "Epoch 46/100\n",
            "2/2 [==============================] - 0s 5ms/step - loss: 68.2380 - mse: 68.2380\n",
            "Epoch 47/100\n",
            "2/2 [==============================] - 0s 10ms/step - loss: 67.9255 - mse: 67.9255\n",
            "Epoch 48/100\n",
            "2/2 [==============================] - 0s 6ms/step - loss: 67.6050 - mse: 67.6050\n",
            "Epoch 49/100\n",
            "2/2 [==============================] - 0s 6ms/step - loss: 67.3037 - mse: 67.3037\n",
            "Epoch 50/100\n",
            "2/2 [==============================] - 0s 5ms/step - loss: 66.9411 - mse: 66.9411\n",
            "Epoch 51/100\n",
            "2/2 [==============================] - 0s 5ms/step - loss: 66.6162 - mse: 66.6162\n",
            "Epoch 52/100\n",
            "2/2 [==============================] - 0s 5ms/step - loss: 66.3221 - mse: 66.3221\n",
            "Epoch 53/100\n",
            "2/2 [==============================] - 0s 7ms/step - loss: 65.9767 - mse: 65.9767\n",
            "Epoch 54/100\n",
            "2/2 [==============================] - 0s 8ms/step - loss: 65.6503 - mse: 65.6503\n",
            "Epoch 55/100\n",
            "2/2 [==============================] - 0s 4ms/step - loss: 65.3678 - mse: 65.3678\n",
            "Epoch 56/100\n",
            "2/2 [==============================] - 0s 5ms/step - loss: 65.1039 - mse: 65.1039\n",
            "Epoch 57/100\n",
            "2/2 [==============================] - 0s 5ms/step - loss: 64.7894 - mse: 64.7894\n",
            "Epoch 58/100\n",
            "2/2 [==============================] - 0s 6ms/step - loss: 64.5081 - mse: 64.5081\n",
            "Epoch 59/100\n",
            "2/2 [==============================] - 0s 5ms/step - loss: 64.1521 - mse: 64.1521\n",
            "Epoch 60/100\n",
            "2/2 [==============================] - 0s 5ms/step - loss: 63.8506 - mse: 63.8506\n",
            "Epoch 61/100\n",
            "2/2 [==============================] - 0s 6ms/step - loss: 63.5281 - mse: 63.5281\n",
            "Epoch 62/100\n",
            "2/2 [==============================] - 0s 6ms/step - loss: 63.2248 - mse: 63.2248\n",
            "Epoch 63/100\n",
            "2/2 [==============================] - 0s 7ms/step - loss: 62.9478 - mse: 62.9478\n",
            "Epoch 64/100\n",
            "2/2 [==============================] - 0s 5ms/step - loss: 62.6207 - mse: 62.6207\n",
            "Epoch 65/100\n",
            "2/2 [==============================] - 0s 5ms/step - loss: 62.3428 - mse: 62.3428\n",
            "Epoch 66/100\n",
            "2/2 [==============================] - 0s 5ms/step - loss: 62.0474 - mse: 62.0474\n",
            "Epoch 67/100\n",
            "2/2 [==============================] - 0s 9ms/step - loss: 61.7693 - mse: 61.7693\n",
            "Epoch 68/100\n",
            "2/2 [==============================] - 0s 5ms/step - loss: 61.4921 - mse: 61.4921\n",
            "Epoch 69/100\n",
            "2/2 [==============================] - 0s 9ms/step - loss: 61.2033 - mse: 61.2033\n",
            "Epoch 70/100\n",
            "2/2 [==============================] - 0s 7ms/step - loss: 60.9482 - mse: 60.9482\n",
            "Epoch 71/100\n",
            "2/2 [==============================] - 0s 5ms/step - loss: 60.6489 - mse: 60.6489\n",
            "Epoch 72/100\n",
            "2/2 [==============================] - 0s 10ms/step - loss: 60.3531 - mse: 60.3531\n",
            "Epoch 73/100\n",
            "2/2 [==============================] - 0s 6ms/step - loss: 60.0265 - mse: 60.0265\n",
            "Epoch 74/100\n",
            "2/2 [==============================] - 0s 4ms/step - loss: 59.7298 - mse: 59.7298\n",
            "Epoch 75/100\n",
            "2/2 [==============================] - 0s 6ms/step - loss: 59.4278 - mse: 59.4278\n",
            "Epoch 76/100\n",
            "2/2 [==============================] - 0s 8ms/step - loss: 59.1355 - mse: 59.1355\n",
            "Epoch 77/100\n",
            "2/2 [==============================] - 0s 4ms/step - loss: 58.8960 - mse: 58.8960\n",
            "Epoch 78/100\n",
            "2/2 [==============================] - 0s 6ms/step - loss: 58.7068 - mse: 58.7068\n",
            "Epoch 79/100\n",
            "2/2 [==============================] - 0s 4ms/step - loss: 58.3828 - mse: 58.3828\n",
            "Epoch 80/100\n",
            "2/2 [==============================] - 0s 5ms/step - loss: 58.0967 - mse: 58.0967\n",
            "Epoch 81/100\n",
            "2/2 [==============================] - 0s 5ms/step - loss: 57.8058 - mse: 57.8058\n",
            "Epoch 82/100\n",
            "2/2 [==============================] - 0s 5ms/step - loss: 57.5257 - mse: 57.5257\n",
            "Epoch 83/100\n",
            "2/2 [==============================] - 0s 10ms/step - loss: 57.2496 - mse: 57.2496\n",
            "Epoch 84/100\n",
            "2/2 [==============================] - 0s 7ms/step - loss: 56.9733 - mse: 56.9733\n",
            "Epoch 85/100\n",
            "2/2 [==============================] - 0s 5ms/step - loss: 56.6885 - mse: 56.6885\n",
            "Epoch 86/100\n",
            "2/2 [==============================] - 0s 6ms/step - loss: 56.4157 - mse: 56.4157\n",
            "Epoch 87/100\n",
            "2/2 [==============================] - 0s 5ms/step - loss: 56.1412 - mse: 56.1412\n",
            "Epoch 88/100\n",
            "2/2 [==============================] - 0s 5ms/step - loss: 55.8562 - mse: 55.8562\n",
            "Epoch 89/100\n",
            "2/2 [==============================] - 0s 5ms/step - loss: 55.5889 - mse: 55.5889\n",
            "Epoch 90/100\n",
            "2/2 [==============================] - 0s 5ms/step - loss: 55.3208 - mse: 55.3208\n",
            "Epoch 91/100\n",
            "2/2 [==============================] - 0s 5ms/step - loss: 55.0657 - mse: 55.0657\n",
            "Epoch 92/100\n",
            "2/2 [==============================] - 0s 5ms/step - loss: 54.7960 - mse: 54.7960\n",
            "Epoch 93/100\n",
            "2/2 [==============================] - 0s 7ms/step - loss: 54.5419 - mse: 54.5419\n",
            "Epoch 94/100\n",
            "2/2 [==============================] - 0s 6ms/step - loss: 54.2751 - mse: 54.2751\n",
            "Epoch 95/100\n",
            "2/2 [==============================] - 0s 5ms/step - loss: 54.0160 - mse: 54.0160\n",
            "Epoch 96/100\n",
            "2/2 [==============================] - 0s 5ms/step - loss: 53.7739 - mse: 53.7739\n",
            "Epoch 97/100\n",
            "2/2 [==============================] - 0s 4ms/step - loss: 53.5006 - mse: 53.5006\n",
            "Epoch 98/100\n",
            "2/2 [==============================] - 0s 4ms/step - loss: 53.2400 - mse: 53.2400\n",
            "Epoch 99/100\n",
            "2/2 [==============================] - 0s 4ms/step - loss: 52.9933 - mse: 52.9933\n",
            "Epoch 100/100\n",
            "2/2 [==============================] - 0s 3ms/step - loss: 52.7310 - mse: 52.7310\n",
            "Epoch 1/100\n",
            "1/1 [==============================] - 0s 10ms/step - loss: 175.2549 - mse: 175.2549\n",
            "Epoch 2/100\n",
            "1/1 [==============================] - 0s 10ms/step - loss: 165.6212 - mse: 165.6212\n",
            "Epoch 3/100\n",
            "1/1 [==============================] - 0s 9ms/step - loss: 149.7909 - mse: 149.7909\n",
            "Epoch 4/100\n",
            "1/1 [==============================] - 0s 10ms/step - loss: 130.0609 - mse: 130.0609\n",
            "Epoch 5/100\n",
            "1/1 [==============================] - 0s 10ms/step - loss: 108.4705 - mse: 108.4705\n",
            "Epoch 6/100\n",
            "1/1 [==============================] - 0s 8ms/step - loss: 86.7245 - mse: 86.7245\n",
            "Epoch 7/100\n",
            "1/1 [==============================] - 0s 9ms/step - loss: 66.1723 - mse: 66.1723\n",
            "Epoch 8/100\n",
            "1/1 [==============================] - 0s 9ms/step - loss: 47.8103 - mse: 47.8103\n",
            "Epoch 9/100\n",
            "1/1 [==============================] - 0s 8ms/step - loss: 32.3013 - mse: 32.3013\n",
            "Epoch 10/100\n",
            "1/1 [==============================] - 0s 8ms/step - loss: 20.0013 - mse: 20.0013\n",
            "Epoch 11/100\n",
            "1/1 [==============================] - 0s 9ms/step - loss: 10.9929 - mse: 10.9929\n",
            "Epoch 12/100\n",
            "1/1 [==============================] - 0s 6ms/step - loss: 5.1262 - mse: 5.1262\n",
            "Epoch 13/100\n",
            "1/1 [==============================] - 0s 7ms/step - loss: 2.0649 - mse: 2.0649\n",
            "Epoch 14/100\n",
            "1/1 [==============================] - 0s 7ms/step - loss: 1.3373 - mse: 1.3373\n",
            "Epoch 15/100\n",
            "1/1 [==============================] - 0s 6ms/step - loss: 2.3910 - mse: 2.3910\n",
            "Epoch 16/100\n",
            "1/1 [==============================] - 0s 6ms/step - loss: 4.6462 - mse: 4.6462\n",
            "Epoch 17/100\n",
            "1/1 [==============================] - 0s 8ms/step - loss: 7.5451 - mse: 7.5451\n",
            "Epoch 18/100\n",
            "1/1 [==============================] - 0s 5ms/step - loss: 10.5924 - mse: 10.5924\n",
            "Epoch 19/100\n",
            "1/1 [==============================] - 0s 6ms/step - loss: 13.3855 - mse: 13.3855\n",
            "Epoch 20/100\n",
            "1/1 [==============================] - 0s 7ms/step - loss: 15.6300 - mse: 15.6300\n",
            "Epoch 21/100\n",
            "1/1 [==============================] - 0s 6ms/step - loss: 17.1445 - mse: 17.1445\n",
            "Epoch 22/100\n",
            "1/1 [==============================] - 0s 7ms/step - loss: 17.8536 - mse: 17.8536\n",
            "Epoch 23/100\n",
            "1/1 [==============================] - 0s 7ms/step - loss: 17.7722 - mse: 17.7722\n",
            "Epoch 24/100\n",
            "1/1 [==============================] - 0s 9ms/step - loss: 16.9867 - mse: 16.9867\n",
            "Epoch 25/100\n",
            "1/1 [==============================] - 0s 5ms/step - loss: 15.6319 - mse: 15.6319\n",
            "Epoch 26/100\n",
            "1/1 [==============================] - 0s 6ms/step - loss: 13.8705 - mse: 13.8705\n",
            "Epoch 27/100\n",
            "1/1 [==============================] - 0s 6ms/step - loss: 11.8727 - mse: 11.8727\n",
            "Epoch 28/100\n",
            "1/1 [==============================] - 0s 6ms/step - loss: 9.8014 - mse: 9.8014\n",
            "Epoch 29/100\n",
            "1/1 [==============================] - 0s 7ms/step - loss: 7.7990 - mse: 7.7990\n",
            "Epoch 30/100\n",
            "1/1 [==============================] - 0s 6ms/step - loss: 5.9799 - mse: 5.9799\n",
            "Epoch 31/100\n",
            "1/1 [==============================] - 0s 10ms/step - loss: 4.4258 - mse: 4.4258\n",
            "Epoch 32/100\n",
            "1/1 [==============================] - 0s 8ms/step - loss: 3.1852 - mse: 3.1852\n",
            "Epoch 33/100\n",
            "1/1 [==============================] - 0s 11ms/step - loss: 2.2748 - mse: 2.2748\n",
            "Epoch 34/100\n",
            "1/1 [==============================] - 0s 37ms/step - loss: 1.6838 - mse: 1.6838\n",
            "Epoch 35/100\n",
            "1/1 [==============================] - 0s 12ms/step - loss: 1.3796 - mse: 1.3796\n",
            "Epoch 36/100\n",
            "1/1 [==============================] - 0s 6ms/step - loss: 1.3141 - mse: 1.3141\n",
            "Epoch 37/100\n",
            "1/1 [==============================] - 0s 5ms/step - loss: 1.4297 - mse: 1.4297\n",
            "Epoch 38/100\n",
            "1/1 [==============================] - 0s 6ms/step - loss: 1.6666 - mse: 1.6666\n",
            "Epoch 39/100\n",
            "1/1 [==============================] - 0s 8ms/step - loss: 1.9670 - mse: 1.9670\n",
            "Epoch 40/100\n",
            "1/1 [==============================] - 0s 7ms/step - loss: 2.2800 - mse: 2.2800\n",
            "Epoch 41/100\n",
            "1/1 [==============================] - 0s 12ms/step - loss: 2.5644 - mse: 2.5644\n",
            "Epoch 42/100\n",
            "1/1 [==============================] - 0s 11ms/step - loss: 2.7900 - mse: 2.7900\n",
            "Epoch 43/100\n",
            "1/1 [==============================] - 0s 6ms/step - loss: 2.9386 - mse: 2.9386\n",
            "Epoch 44/100\n",
            "1/1 [==============================] - 0s 6ms/step - loss: 3.0026 - mse: 3.0026\n",
            "Epoch 45/100\n",
            "1/1 [==============================] - 0s 6ms/step - loss: 2.9841 - mse: 2.9841\n",
            "Epoch 46/100\n",
            "1/1 [==============================] - 0s 7ms/step - loss: 2.8926 - mse: 2.8926\n",
            "Epoch 47/100\n",
            "1/1 [==============================] - 0s 6ms/step - loss: 2.7427 - mse: 2.7427\n",
            "Epoch 48/100\n",
            "1/1 [==============================] - 0s 6ms/step - loss: 2.5523 - mse: 2.5523\n",
            "Epoch 49/100\n",
            "1/1 [==============================] - 0s 5ms/step - loss: 2.3397 - mse: 2.3397\n",
            "Epoch 50/100\n",
            "1/1 [==============================] - 0s 6ms/step - loss: 2.1225 - mse: 2.1225\n",
            "Epoch 51/100\n",
            "1/1 [==============================] - 0s 6ms/step - loss: 1.9158 - mse: 1.9158\n",
            "Epoch 52/100\n",
            "1/1 [==============================] - 0s 7ms/step - loss: 1.7317 - mse: 1.7317\n",
            "Epoch 53/100\n",
            "1/1 [==============================] - 0s 6ms/step - loss: 1.5782 - mse: 1.5782\n",
            "Epoch 54/100\n",
            "1/1 [==============================] - 0s 7ms/step - loss: 1.4598 - mse: 1.4598\n",
            "Epoch 55/100\n",
            "1/1 [==============================] - 0s 7ms/step - loss: 1.3773 - mse: 1.3773\n",
            "Epoch 56/100\n",
            "1/1 [==============================] - 0s 7ms/step - loss: 1.3286 - mse: 1.3286\n",
            "Epoch 57/100\n",
            "1/1 [==============================] - 0s 8ms/step - loss: 1.3092 - mse: 1.3092\n",
            "Epoch 58/100\n",
            "1/1 [==============================] - 0s 7ms/step - loss: 1.3133 - mse: 1.3133\n",
            "Epoch 59/100\n",
            "1/1 [==============================] - 0s 8ms/step - loss: 1.3340 - mse: 1.3340\n",
            "Epoch 60/100\n",
            "1/1 [==============================] - 0s 10ms/step - loss: 1.3648 - mse: 1.3648\n",
            "Epoch 61/100\n",
            "1/1 [==============================] - 0s 7ms/step - loss: 1.3994 - mse: 1.3994\n",
            "Epoch 62/100\n",
            "1/1 [==============================] - 0s 6ms/step - loss: 1.4325 - mse: 1.4325\n",
            "Epoch 63/100\n",
            "1/1 [==============================] - 0s 9ms/step - loss: 1.4603 - mse: 1.4603\n",
            "Epoch 64/100\n",
            "1/1 [==============================] - 0s 7ms/step - loss: 1.4800 - mse: 1.4800\n",
            "Epoch 65/100\n",
            "1/1 [==============================] - 0s 7ms/step - loss: 1.4902 - mse: 1.4902\n",
            "Epoch 66/100\n",
            "1/1 [==============================] - 0s 11ms/step - loss: 1.4909 - mse: 1.4909\n",
            "Epoch 67/100\n",
            "1/1 [==============================] - 0s 7ms/step - loss: 1.4829 - mse: 1.4829\n",
            "Epoch 68/100\n",
            "1/1 [==============================] - 0s 7ms/step - loss: 1.4677 - mse: 1.4677\n",
            "Epoch 69/100\n",
            "1/1 [==============================] - 0s 7ms/step - loss: 1.4473 - mse: 1.4473\n",
            "Epoch 70/100\n",
            "1/1 [==============================] - 0s 7ms/step - loss: 1.4239 - mse: 1.4239\n",
            "Epoch 71/100\n",
            "1/1 [==============================] - 0s 7ms/step - loss: 1.3995 - mse: 1.3995\n",
            "Epoch 72/100\n",
            "1/1 [==============================] - 0s 9ms/step - loss: 1.3761 - mse: 1.3761\n",
            "Epoch 73/100\n",
            "1/1 [==============================] - 0s 7ms/step - loss: 1.3550 - mse: 1.3550\n",
            "Epoch 74/100\n",
            "1/1 [==============================] - 0s 6ms/step - loss: 1.3373 - mse: 1.3373\n",
            "Epoch 75/100\n",
            "1/1 [==============================] - 0s 6ms/step - loss: 1.3237 - mse: 1.3237\n",
            "Epoch 76/100\n",
            "1/1 [==============================] - 0s 6ms/step - loss: 1.3142 - mse: 1.3142\n",
            "Epoch 77/100\n",
            "1/1 [==============================] - 0s 6ms/step - loss: 1.3086 - mse: 1.3086\n",
            "Epoch 78/100\n",
            "1/1 [==============================] - 0s 6ms/step - loss: 1.3064 - mse: 1.3064\n",
            "Epoch 79/100\n",
            "1/1 [==============================] - 0s 6ms/step - loss: 1.3070 - mse: 1.3070\n",
            "Epoch 80/100\n",
            "1/1 [==============================] - 0s 6ms/step - loss: 1.3094 - mse: 1.3094\n",
            "Epoch 81/100\n",
            "1/1 [==============================] - 0s 6ms/step - loss: 1.3130 - mse: 1.3130\n",
            "Epoch 82/100\n",
            "1/1 [==============================] - 0s 6ms/step - loss: 1.3170 - mse: 1.3170\n",
            "Epoch 83/100\n",
            "1/1 [==============================] - 0s 7ms/step - loss: 1.3207 - mse: 1.3207\n",
            "Epoch 84/100\n",
            "1/1 [==============================] - 0s 6ms/step - loss: 1.3238 - mse: 1.3238\n",
            "Epoch 85/100\n",
            "1/1 [==============================] - 0s 6ms/step - loss: 1.3258 - mse: 1.3258\n",
            "Epoch 86/100\n",
            "1/1 [==============================] - 0s 5ms/step - loss: 1.3267 - mse: 1.3267\n",
            "Epoch 87/100\n",
            "1/1 [==============================] - 0s 6ms/step - loss: 1.3265 - mse: 1.3265\n",
            "Epoch 88/100\n",
            "1/1 [==============================] - 0s 5ms/step - loss: 1.3252 - mse: 1.3252\n",
            "Epoch 89/100\n",
            "1/1 [==============================] - 0s 6ms/step - loss: 1.3232 - mse: 1.3232\n",
            "Epoch 90/100\n",
            "1/1 [==============================] - 0s 6ms/step - loss: 1.3206 - mse: 1.3206\n",
            "Epoch 91/100\n",
            "1/1 [==============================] - 0s 5ms/step - loss: 1.3177 - mse: 1.3177\n",
            "Epoch 92/100\n",
            "1/1 [==============================] - 0s 5ms/step - loss: 1.3147 - mse: 1.3147\n",
            "Epoch 93/100\n",
            "1/1 [==============================] - 0s 6ms/step - loss: 1.3120 - mse: 1.3120\n",
            "Epoch 94/100\n",
            "1/1 [==============================] - 0s 6ms/step - loss: 1.3096 - mse: 1.3096\n",
            "Epoch 95/100\n",
            "1/1 [==============================] - 0s 6ms/step - loss: 1.3076 - mse: 1.3076\n",
            "Epoch 96/100\n",
            "1/1 [==============================] - 0s 6ms/step - loss: 1.3061 - mse: 1.3061\n",
            "Epoch 97/100\n",
            "1/1 [==============================] - 0s 6ms/step - loss: 1.3051 - mse: 1.3051\n",
            "Epoch 98/100\n",
            "1/1 [==============================] - 0s 6ms/step - loss: 1.3046 - mse: 1.3046\n",
            "Epoch 99/100\n",
            "1/1 [==============================] - 0s 6ms/step - loss: 1.3044 - mse: 1.3044\n",
            "Epoch 100/100\n",
            "1/1 [==============================] - 0s 6ms/step - loss: 1.3046 - mse: 1.3046\n"
          ]
        },
        {
          "output_type": "execute_result",
          "data": {
            "text/plain": [
              "<keras.callbacks.History at 0x7f2b764969d0>"
            ]
          },
          "metadata": {},
          "execution_count": 211
        }
      ]
    },
    {
      "cell_type": "code",
      "source": [
        "plt.figure(figsize=(10,7))\n",
        "plt.scatter(X_train,Y_train, c=\"b\", label=\"training data\")\n",
        "plt.scatter(X_test, Y_test, c=\"g\", label=\"test data\")\n",
        "plt.scatter(X_test, Y_pred, c=\"r\", label=\"predictions\")\n",
        "plt.legend();"
      ],
      "metadata": {
        "colab": {
          "base_uri": "https://localhost:8080/",
          "height": 428
        },
        "id": "xhIOClf4ukie",
        "outputId": "8a0bfa10-7d99-4bc5-f726-d668ddc81652"
      },
      "execution_count": 210,
      "outputs": [
        {
          "output_type": "display_data",
          "data": {
            "text/plain": [
              "<Figure size 720x504 with 1 Axes>"
            ],
            "image/png": "[encoded data removed]"
          },
          "metadata": {
            "needs_background": "light"
          }
        }
      ]
    }
  ]
}