{
  "nbformat": 4,
  "nbformat_minor": 0,
  "metadata": {
    "colab": {
      "provenance": [],
      "authorship_tag": "ABX9TyOVkeONFfkQ0YhzGCgmRAke",
      "include_colab_link": true
    },
    "kernelspec": {
      "name": "python3",
      "display_name": "Python 3"
    },
    "language_info": {
      "name": "python"
    }
  },
  "cells": [
    {
      "cell_type": "markdown",
      "metadata": {
        "id": "view-in-github",
        "colab_type": "text"
      },
      "source": [
        "<a href=\"https://colab.research.google.com/github/ClaudioAresu/R_Datasciencebasics/blob/main/01neural_network_regression_in_tensorflow_video.ipynb\" target=\"_parent\"><img src=\"https://colab.research.google.com/assets/colab-badge.svg\" alt=\"Open In Colab\"/></a>"
      ]
    },
    {
      "cell_type": "markdown",
      "source": [
        "#Introduction to Refression with Neural Networks in TensorFlow\n",
        "\n",
        "There are many definitions for a regression problem but in nour case, we're going to simplify it:predicting a numerical variable based on some other combination of variables, even shorter... predicting a number"
      ],
      "metadata": {
        "id": "9CVjIC1M96rN"
      }
    },
    {
      "cell_type": "code",
      "source": [
        "#Import TensorFlow\n",
        "import tensorflow as tf\n",
        "print(tf.__version__)"
      ],
      "metadata": {
        "colab": {
          "base_uri": "https://localhost:8080/"
        },
        "id": "YopxiyBU-YTE",
        "outputId": "6f888b5c-c4a5-4122-8607-59e37980571e"
      },
      "execution_count": 93,
      "outputs": [
        {
          "output_type": "stream",
          "name": "stdout",
          "text": [
            "2.9.2\n"
          ]
        }
      ]
    },
    {
      "cell_type": "code",
      "source": [
        "#Select data to view and fit\n",
        "import numpy as np\n",
        "import matplotlib.pyplot as plt\n",
        "\n",
        "#Create features\n",
        "X = np.array([-7., -4., -1., 2., 5., 8., 11., 14.])\n",
        "\n",
        "#Create labels\n",
        "Y = np.array([3., 6., 9., 12., 15., 18., 21., 24.])\n",
        "\n",
        "#visualize\n",
        "plt.scatter(X,Y)\n"
      ],
      "metadata": {
        "colab": {
          "base_uri": "https://localhost:8080/",
          "height": 287
        },
        "id": "6nhEoChc-irD",
        "outputId": "58c78861-f94e-45c5-8d50-a9e0b85e4e68"
      },
      "execution_count": 94,
      "outputs": [
        {
          "output_type": "execute_result",
          "data": {
            "text/plain": [
              "<matplotlib.collections.PathCollection at 0x7f2be184ce20>"
            ]
          },
          "metadata": {},
          "execution_count": 94
        },
        {
          "output_type": "display_data",
          "data": {
            "text/plain": [
              "<Figure size 432x288 with 1 Axes>"
            ],
            "image/png": "[encoded data removed]"
          },
          "metadata": {
            "needs_background": "light"
          }
        }
      ]
    },
    {
      "cell_type": "code",
      "source": [
        "X+10"
      ],
      "metadata": {
        "colab": {
          "base_uri": "https://localhost:8080/"
        },
        "id": "YjOzBiWx-507",
        "outputId": "030c2741-b6c4-491c-8de3-9a3cd3650e46"
      },
      "execution_count": 95,
      "outputs": [
        {
          "output_type": "execute_result",
          "data": {
            "text/plain": [
              "array([ 3.,  6.,  9., 12., 15., 18., 21., 24.])"
            ]
          },
          "metadata": {},
          "execution_count": 95
        }
      ]
    },
    {
      "cell_type": "code",
      "source": [
        "Y == X+10"
      ],
      "metadata": {
        "colab": {
          "base_uri": "https://localhost:8080/"
        },
        "id": "hdwh7tfx_O1y",
        "outputId": "a029161d-b66c-44df-b3bf-4b27dc4a3a4a"
      },
      "execution_count": 96,
      "outputs": [
        {
          "output_type": "execute_result",
          "data": {
            "text/plain": [
              "array([ True,  True,  True,  True,  True,  True,  True,  True])"
            ]
          },
          "metadata": {},
          "execution_count": 96
        }
      ]
    },
    {
      "cell_type": "markdown",
      "source": [
        "Input and Output shapes"
      ],
      "metadata": {
        "id": "v7m4oq0t_WLP"
      }
    },
    {
      "cell_type": "code",
      "source": [
        "X.shape, Y.shape"
      ],
      "metadata": {
        "colab": {
          "base_uri": "https://localhost:8080/"
        },
        "id": "bIx8WRBj_b7N",
        "outputId": "a4cddcdd-db47-4c89-9e6a-090482e27213"
      },
      "execution_count": 97,
      "outputs": [
        {
          "output_type": "execute_result",
          "data": {
            "text/plain": [
              "((8,), (8,))"
            ]
          },
          "metadata": {},
          "execution_count": 97
        }
      ]
    },
    {
      "cell_type": "code",
      "source": [
        "#Create a demo tensor for our housing price prediction problem\n",
        "house_info = tf.constant([\"bedroom\",\"bathroom\",\"garage\"])\n",
        "house_price = tf.constant([939700])\n",
        "\n",
        "house_info,house_price"
      ],
      "metadata": {
        "colab": {
          "base_uri": "https://localhost:8080/"
        },
        "id": "TIIBBZ_X_pE7",
        "outputId": "42608a79-7d12-4d90-898d-870f6f7a3073"
      },
      "execution_count": 98,
      "outputs": [
        {
          "output_type": "execute_result",
          "data": {
            "text/plain": [
              "(<tf.Tensor: shape=(3,), dtype=string, numpy=array([b'bedroom', b'bathroom', b'garage'], dtype=object)>,\n",
              " <tf.Tensor: shape=(1,), dtype=int32, numpy=array([939700], dtype=int32)>)"
            ]
          },
          "metadata": {},
          "execution_count": 98
        }
      ]
    },
    {
      "cell_type": "code",
      "source": [
        "X[0].ndim"
      ],
      "metadata": {
        "colab": {
          "base_uri": "https://localhost:8080/"
        },
        "id": "6VOON3uX_8rK",
        "outputId": "b0e77e7c-500b-4c7f-9d57-02fb52c6da1e"
      },
      "execution_count": 99,
      "outputs": [
        {
          "output_type": "execute_result",
          "data": {
            "text/plain": [
              "0"
            ]
          },
          "metadata": {},
          "execution_count": 99
        }
      ]
    },
    {
      "cell_type": "code",
      "source": [
        "X[0], Y[0]"
      ],
      "metadata": {
        "colab": {
          "base_uri": "https://localhost:8080/"
        },
        "id": "VCBRKP5qAdUT",
        "outputId": "4a656fa9-1fb1-47d7-d272-43160ee64778"
      },
      "execution_count": 100,
      "outputs": [
        {
          "output_type": "execute_result",
          "data": {
            "text/plain": [
              "(-7.0, 3.0)"
            ]
          },
          "metadata": {},
          "execution_count": 100
        }
      ]
    },
    {
      "cell_type": "code",
      "source": [
        "#Turn NumPy arrays into tensors\n",
        "X = tf.constant(X)\n",
        "Y = tf.constant(Y)\n",
        "\n",
        "X, Y"
      ],
      "metadata": {
        "colab": {
          "base_uri": "https://localhost:8080/"
        },
        "id": "_aYIrL5yAg_D",
        "outputId": "9a38fef4-bf4b-42b8-9be2-c451356de7ab"
      },
      "execution_count": 101,
      "outputs": [
        {
          "output_type": "execute_result",
          "data": {
            "text/plain": [
              "(<tf.Tensor: shape=(8,), dtype=float64, numpy=array([-7., -4., -1.,  2.,  5.,  8., 11., 14.])>,\n",
              " <tf.Tensor: shape=(8,), dtype=float64, numpy=array([ 3.,  6.,  9., 12., 15., 18., 21., 24.])>)"
            ]
          },
          "metadata": {},
          "execution_count": 101
        }
      ]
    },
    {
      "cell_type": "code",
      "source": [
        "plt.scatter(X,Y)"
      ],
      "metadata": {
        "colab": {
          "base_uri": "https://localhost:8080/",
          "height": 287
        },
        "id": "dOkJI7tPBG3U",
        "outputId": "d3e009da-89fb-4243-dc82-e14304e8830a"
      },
      "execution_count": 102,
      "outputs": [
        {
          "output_type": "execute_result",
          "data": {
            "text/plain": [
              "<matplotlib.collections.PathCollection at 0x7f2be17b24f0>"
            ]
          },
          "metadata": {},
          "execution_count": 102
        },
        {
          "output_type": "display_data",
          "data": {
            "text/plain": [
              "<Figure size 432x288 with 1 Axes>"
            ],
            "image/png": "[encoded data removed]"
          },
          "metadata": {
            "needs_background": "light"
          }
        }
      ]
    },
    {
      "cell_type": "markdown",
      "source": [
        "## Steps in modelling with TensorFlow\n",
        "\n",
        "1.Creating a model - define the input and output layers, as well as the hidden layers of a deep learning model.\n",
        "2. Compiling a model - define the loss function (in other words, the function which tells our model how wrong it is) and the optimizers(tells our model to improve the patterns it is learning), and evaluation metrics( what we can use to interpret the performance of our model).\n",
        "3. Fitting a model - letting the model try to find patterns between X & Y ( features and labels)."
      ],
      "metadata": {
        "id": "zGxEanYFBKez"
      }
    },
    {
      "cell_type": "code",
      "source": [
        "#Create a model (specified to your problem)\n",
        "# Set random seed\n",
        "tf.random.set_seed(42)\n",
        "\n",
        "model = tf.keras.Sequential([\n",
        "  tf.keras.layers.Dense(1)                             \n",
        "])\n",
        "\n",
        "#Compile\n",
        "\n",
        "model.compile(loss=tf.keras.losses.mae,\n",
        "              optimizer=tf.keras.optimizers.SGD(), #or just use the string for stochastic gradient descent\n",
        "              metrics=[\"mae\"])\n",
        "\n",
        "model.fit(tf.expand_dims(X,axis=-1),Y, epochs=5)\n"
      ],
      "metadata": {
        "colab": {
          "base_uri": "https://localhost:8080/"
        },
        "id": "mGF5tCZbB2pc",
        "outputId": "65b1cb17-a0c2-4139-e416-bc666560bd45"
      },
      "execution_count": 103,
      "outputs": [
        {
          "output_type": "stream",
          "name": "stdout",
          "text": [
            "Epoch 1/5\n",
            "1/1 [==============================] - 0s 352ms/step - loss: 11.5048 - mae: 11.5048\n",
            "Epoch 2/5\n",
            "1/1 [==============================] - 0s 9ms/step - loss: 11.3723 - mae: 11.3723\n",
            "Epoch 3/5\n",
            "1/1 [==============================] - 0s 9ms/step - loss: 11.2398 - mae: 11.2398\n",
            "Epoch 4/5\n",
            "1/1 [==============================] - 0s 9ms/step - loss: 11.1073 - mae: 11.1073\n",
            "Epoch 5/5\n",
            "1/1 [==============================] - 0s 7ms/step - loss: 10.9748 - mae: 10.9748\n"
          ]
        },
        {
          "output_type": "execute_result",
          "data": {
            "text/plain": [
              "<keras.callbacks.History at 0x7f2be17ebd60>"
            ]
          },
          "metadata": {},
          "execution_count": 103
        }
      ]
    },
    {
      "cell_type": "markdown",
      "source": [
        "REMEMBER .CAST TO CHANGE DTYPE"
      ],
      "metadata": {
        "id": "-D_18-KGFEFa"
      }
    },
    {
      "cell_type": "code",
      "source": [
        "y_pred = model.predict([17.])\n",
        "y_pred"
      ],
      "metadata": {
        "colab": {
          "base_uri": "https://localhost:8080/"
        },
        "id": "W5jcKUmzFZuj",
        "outputId": "95df9bc3-2889-4798-90e8-6c70f1829bd7"
      },
      "execution_count": 104,
      "outputs": [
        {
          "output_type": "stream",
          "name": "stderr",
          "text": [
            "WARNING:tensorflow:6 out of the last 9 calls to <function Model.make_predict_function.<locals>.predict_function at 0x7f2be17e8c10> triggered tf.function retracing. Tracing is expensive and the excessive number of tracings could be due to (1) creating @tf.function repeatedly in a loop, (2) passing tensors with different shapes, (3) passing Python objects instead of tensors. For (1), please define your @tf.function outside of the loop. For (2), @tf.function has reduce_retracing=True option that can avoid unnecessary retracing. For (3), please refer to https://www.tensorflow.org/guide/function#controlling_retracing and https://www.tensorflow.org/api_docs/python/tf/function for  more details.\n"
          ]
        },
        {
          "output_type": "stream",
          "name": "stdout",
          "text": [
            "1/1 [==============================] - 0s 59ms/step\n"
          ]
        },
        {
          "output_type": "execute_result",
          "data": {
            "text/plain": [
              "array([[12.716021]], dtype=float32)"
            ]
          },
          "metadata": {},
          "execution_count": 104
        }
      ]
    },
    {
      "cell_type": "code",
      "source": [
        "y_pred + 11"
      ],
      "metadata": {
        "colab": {
          "base_uri": "https://localhost:8080/"
        },
        "id": "i5WiSZjrGDwE",
        "outputId": "23741af0-9d72-4132-9bac-893165ee9cff"
      },
      "execution_count": 105,
      "outputs": [
        {
          "output_type": "execute_result",
          "data": {
            "text/plain": [
              "array([[23.71602]], dtype=float32)"
            ]
          },
          "metadata": {},
          "execution_count": 105
        }
      ]
    },
    {
      "cell_type": "markdown",
      "source": [
        "Improve the model\n",
        "\n",
        "we can improve our mode, by altering the steps we took to create a model.\n",
        "\n",
        "**Creating a model** - here we might add more layers, increase the number of hidden units(all called neuros)\n",
        "within each of the hidden layers, change the activation function of each layer.\n",
        "**Compiling a model** - here we might change the optimization function or perhaps the **learning rate** of the optimization function.\n",
        "**Fitting a model** - Here we can add number of times that the model looks through the date(number of epochs)"
      ],
      "metadata": {
        "id": "bECBp5unGILL"
      }
    },
    {
      "cell_type": "code",
      "source": [
        "#Final Model\n",
        "\n",
        "model = tf.keras.Sequential([\n",
        "tf.keras.layers.Dense(100, activation=\"relu\"),\n",
        "tf.keras.layers.Dense(100, activation=\"relu\"),\n",
        "tf.keras.layers.Dense(100, activation=\"relu\"),\n",
        "tf.keras.layers.Dense(1)\n",
        "])\n",
        "\n",
        "model.compile(loss=tf.keras.losses.mae,\n",
        "              optimizer=tf.keras.optimizers.Adam(lr=0.0001), #or just use the string for stochastic gradient descent\n",
        "              metrics=[\"mae\"])\n",
        "\n",
        "model.fit(tf.expand_dims(X,axis=-1),Y, epochs=100)\n",
        "\n"
      ],
      "metadata": {
        "colab": {
          "base_uri": "https://localhost:8080/"
        },
        "id": "QC87VApVHkrB",
        "outputId": "c9c23ab8-5046-4c95-baf5-b188955f460c"
      },
      "execution_count": 106,
      "outputs": [
        {
          "output_type": "stream",
          "name": "stdout",
          "text": [
            "Epoch 1/100\n"
          ]
        },
        {
          "output_type": "stream",
          "name": "stderr",
          "text": [
            "/usr/local/lib/python3.8/dist-packages/keras/optimizers/optimizer_v2/adam.py:110: UserWarning: The `lr` argument is deprecated, use `learning_rate` instead.\n",
            "  super(Adam, self).__init__(name, **kwargs)\n"
          ]
        },
        {
          "output_type": "stream",
          "name": "stdout",
          "text": [
            "1/1 [==============================] - 1s 509ms/step - loss: 14.3099 - mae: 14.3099\n",
            "Epoch 2/100\n",
            "1/1 [==============================] - 0s 9ms/step - loss: 14.2781 - mae: 14.2781\n",
            "Epoch 3/100\n",
            "1/1 [==============================] - 0s 10ms/step - loss: 14.2469 - mae: 14.2469\n",
            "Epoch 4/100\n",
            "1/1 [==============================] - 0s 9ms/step - loss: 14.2158 - mae: 14.2158\n",
            "Epoch 5/100\n",
            "1/1 [==============================] - 0s 11ms/step - loss: 14.1840 - mae: 14.1840\n",
            "Epoch 6/100\n",
            "1/1 [==============================] - 0s 9ms/step - loss: 14.1522 - mae: 14.1522\n",
            "Epoch 7/100\n",
            "1/1 [==============================] - 0s 8ms/step - loss: 14.1204 - mae: 14.1204\n",
            "Epoch 8/100\n",
            "1/1 [==============================] - 0s 8ms/step - loss: 14.0885 - mae: 14.0885\n",
            "Epoch 9/100\n",
            "1/1 [==============================] - 0s 12ms/step - loss: 14.0568 - mae: 14.0568\n",
            "Epoch 10/100\n",
            "1/1 [==============================] - 0s 8ms/step - loss: 14.0250 - mae: 14.0250\n",
            "Epoch 11/100\n",
            "1/1 [==============================] - 0s 8ms/step - loss: 13.9933 - mae: 13.9933\n",
            "Epoch 12/100\n",
            "1/1 [==============================] - 0s 7ms/step - loss: 13.9615 - mae: 13.9615\n",
            "Epoch 13/100\n",
            "1/1 [==============================] - 0s 8ms/step - loss: 13.9297 - mae: 13.9297\n",
            "Epoch 14/100\n",
            "1/1 [==============================] - 0s 7ms/step - loss: 13.8980 - mae: 13.8980\n",
            "Epoch 15/100\n",
            "1/1 [==============================] - 0s 11ms/step - loss: 13.8661 - mae: 13.8661\n",
            "Epoch 16/100\n",
            "1/1 [==============================] - 0s 7ms/step - loss: 13.8341 - mae: 13.8341\n",
            "Epoch 17/100\n",
            "1/1 [==============================] - 0s 7ms/step - loss: 13.8022 - mae: 13.8022\n",
            "Epoch 18/100\n",
            "1/1 [==============================] - 0s 7ms/step - loss: 13.7703 - mae: 13.7703\n",
            "Epoch 19/100\n",
            "1/1 [==============================] - 0s 7ms/step - loss: 13.7385 - mae: 13.7385\n",
            "Epoch 20/100\n",
            "1/1 [==============================] - 0s 8ms/step - loss: 13.7072 - mae: 13.7072\n",
            "Epoch 21/100\n",
            "1/1 [==============================] - 0s 7ms/step - loss: 13.6760 - mae: 13.6760\n",
            "Epoch 22/100\n",
            "1/1 [==============================] - 0s 6ms/step - loss: 13.6448 - mae: 13.6448\n",
            "Epoch 23/100\n",
            "1/1 [==============================] - 0s 7ms/step - loss: 13.6136 - mae: 13.6136\n",
            "Epoch 24/100\n",
            "1/1 [==============================] - 0s 6ms/step - loss: 13.5823 - mae: 13.5823\n",
            "Epoch 25/100\n",
            "1/1 [==============================] - 0s 9ms/step - loss: 13.5506 - mae: 13.5506\n",
            "Epoch 26/100\n",
            "1/1 [==============================] - 0s 10ms/step - loss: 13.5185 - mae: 13.5185\n",
            "Epoch 27/100\n",
            "1/1 [==============================] - 0s 12ms/step - loss: 13.4863 - mae: 13.4863\n",
            "Epoch 28/100\n",
            "1/1 [==============================] - 0s 10ms/step - loss: 13.4541 - mae: 13.4541\n",
            "Epoch 29/100\n",
            "1/1 [==============================] - 0s 6ms/step - loss: 13.4218 - mae: 13.4218\n",
            "Epoch 30/100\n",
            "1/1 [==============================] - 0s 8ms/step - loss: 13.3894 - mae: 13.3894\n",
            "Epoch 31/100\n",
            "1/1 [==============================] - 0s 7ms/step - loss: 13.3570 - mae: 13.3570\n",
            "Epoch 32/100\n",
            "1/1 [==============================] - 0s 7ms/step - loss: 13.3250 - mae: 13.3250\n",
            "Epoch 33/100\n",
            "1/1 [==============================] - 0s 7ms/step - loss: 13.2934 - mae: 13.2934\n",
            "Epoch 34/100\n",
            "1/1 [==============================] - 0s 11ms/step - loss: 13.2618 - mae: 13.2618\n",
            "Epoch 35/100\n",
            "1/1 [==============================] - 0s 8ms/step - loss: 13.2301 - mae: 13.2301\n",
            "Epoch 36/100\n",
            "1/1 [==============================] - 0s 8ms/step - loss: 13.1985 - mae: 13.1985\n",
            "Epoch 37/100\n",
            "1/1 [==============================] - 0s 7ms/step - loss: 13.1669 - mae: 13.1669\n",
            "Epoch 38/100\n",
            "1/1 [==============================] - 0s 8ms/step - loss: 13.1358 - mae: 13.1358\n",
            "Epoch 39/100\n",
            "1/1 [==============================] - 0s 7ms/step - loss: 13.1048 - mae: 13.1048\n",
            "Epoch 40/100\n",
            "1/1 [==============================] - 0s 8ms/step - loss: 13.0737 - mae: 13.0737\n",
            "Epoch 41/100\n",
            "1/1 [==============================] - 0s 7ms/step - loss: 13.0425 - mae: 13.0425\n",
            "Epoch 42/100\n",
            "1/1 [==============================] - 0s 7ms/step - loss: 13.0113 - mae: 13.0113\n",
            "Epoch 43/100\n",
            "1/1 [==============================] - 0s 10ms/step - loss: 12.9800 - mae: 12.9800\n",
            "Epoch 44/100\n",
            "1/1 [==============================] - 0s 7ms/step - loss: 12.9487 - mae: 12.9487\n",
            "Epoch 45/100\n",
            "1/1 [==============================] - 0s 7ms/step - loss: 12.9173 - mae: 12.9173\n",
            "Epoch 46/100\n",
            "1/1 [==============================] - 0s 7ms/step - loss: 12.8857 - mae: 12.8857\n",
            "Epoch 47/100\n",
            "1/1 [==============================] - 0s 8ms/step - loss: 12.8543 - mae: 12.8543\n",
            "Epoch 48/100\n",
            "1/1 [==============================] - 0s 12ms/step - loss: 12.8229 - mae: 12.8229\n",
            "Epoch 49/100\n",
            "1/1 [==============================] - 0s 7ms/step - loss: 12.7916 - mae: 12.7916\n",
            "Epoch 50/100\n",
            "1/1 [==============================] - 0s 8ms/step - loss: 12.7609 - mae: 12.7609\n",
            "Epoch 51/100\n",
            "1/1 [==============================] - 0s 8ms/step - loss: 12.7301 - mae: 12.7301\n",
            "Epoch 52/100\n",
            "1/1 [==============================] - 0s 8ms/step - loss: 12.6991 - mae: 12.6991\n",
            "Epoch 53/100\n",
            "1/1 [==============================] - 0s 8ms/step - loss: 12.6680 - mae: 12.6680\n",
            "Epoch 54/100\n",
            "1/1 [==============================] - 0s 8ms/step - loss: 12.6366 - mae: 12.6366\n",
            "Epoch 55/100\n",
            "1/1 [==============================] - 0s 11ms/step - loss: 12.6052 - mae: 12.6052\n",
            "Epoch 56/100\n",
            "1/1 [==============================] - 0s 8ms/step - loss: 12.5737 - mae: 12.5737\n",
            "Epoch 57/100\n",
            "1/1 [==============================] - 0s 7ms/step - loss: 12.5420 - mae: 12.5420\n",
            "Epoch 58/100\n",
            "1/1 [==============================] - 0s 9ms/step - loss: 12.5105 - mae: 12.5105\n",
            "Epoch 59/100\n",
            "1/1 [==============================] - 0s 8ms/step - loss: 12.4792 - mae: 12.4792\n",
            "Epoch 60/100\n",
            "1/1 [==============================] - 0s 9ms/step - loss: 12.4482 - mae: 12.4482\n",
            "Epoch 61/100\n",
            "1/1 [==============================] - 0s 9ms/step - loss: 12.4180 - mae: 12.4180\n",
            "Epoch 62/100\n",
            "1/1 [==============================] - 0s 11ms/step - loss: 12.3877 - mae: 12.3877\n",
            "Epoch 63/100\n",
            "1/1 [==============================] - 0s 7ms/step - loss: 12.3577 - mae: 12.3577\n",
            "Epoch 64/100\n",
            "1/1 [==============================] - 0s 8ms/step - loss: 12.3277 - mae: 12.3277\n",
            "Epoch 65/100\n",
            "1/1 [==============================] - 0s 8ms/step - loss: 12.2978 - mae: 12.2978\n",
            "Epoch 66/100\n",
            "1/1 [==============================] - 0s 9ms/step - loss: 12.2681 - mae: 12.2681\n",
            "Epoch 67/100\n",
            "1/1 [==============================] - 0s 9ms/step - loss: 12.2389 - mae: 12.2389\n",
            "Epoch 68/100\n",
            "1/1 [==============================] - 0s 8ms/step - loss: 12.2095 - mae: 12.2095\n",
            "Epoch 69/100\n",
            "1/1 [==============================] - 0s 8ms/step - loss: 12.1800 - mae: 12.1800\n",
            "Epoch 70/100\n",
            "1/1 [==============================] - 0s 13ms/step - loss: 12.1502 - mae: 12.1502\n",
            "Epoch 71/100\n",
            "1/1 [==============================] - 0s 8ms/step - loss: 12.1204 - mae: 12.1204\n",
            "Epoch 72/100\n",
            "1/1 [==============================] - 0s 9ms/step - loss: 12.0907 - mae: 12.0907\n",
            "Epoch 73/100\n",
            "1/1 [==============================] - 0s 8ms/step - loss: 12.0613 - mae: 12.0613\n",
            "Epoch 74/100\n",
            "1/1 [==============================] - 0s 8ms/step - loss: 12.0319 - mae: 12.0319\n",
            "Epoch 75/100\n",
            "1/1 [==============================] - 0s 8ms/step - loss: 12.0022 - mae: 12.0022\n",
            "Epoch 76/100\n",
            "1/1 [==============================] - 0s 9ms/step - loss: 11.9723 - mae: 11.9723\n",
            "Epoch 77/100\n",
            "1/1 [==============================] - 0s 14ms/step - loss: 11.9420 - mae: 11.9420\n",
            "Epoch 78/100\n",
            "1/1 [==============================] - 0s 8ms/step - loss: 11.9114 - mae: 11.9114\n",
            "Epoch 79/100\n",
            "1/1 [==============================] - 0s 7ms/step - loss: 11.8806 - mae: 11.8806\n",
            "Epoch 80/100\n",
            "1/1 [==============================] - 0s 8ms/step - loss: 11.8494 - mae: 11.8494\n",
            "Epoch 81/100\n",
            "1/1 [==============================] - 0s 8ms/step - loss: 11.8178 - mae: 11.8178\n",
            "Epoch 82/100\n",
            "1/1 [==============================] - 0s 14ms/step - loss: 11.7860 - mae: 11.7860\n",
            "Epoch 83/100\n",
            "1/1 [==============================] - 0s 11ms/step - loss: 11.7540 - mae: 11.7540\n",
            "Epoch 84/100\n",
            "1/1 [==============================] - 0s 10ms/step - loss: 11.7217 - mae: 11.7217\n",
            "Epoch 85/100\n",
            "1/1 [==============================] - 0s 7ms/step - loss: 11.6893 - mae: 11.6893\n",
            "Epoch 86/100\n",
            "1/1 [==============================] - 0s 9ms/step - loss: 11.6571 - mae: 11.6571\n",
            "Epoch 87/100\n",
            "1/1 [==============================] - 0s 8ms/step - loss: 11.6248 - mae: 11.6248\n",
            "Epoch 88/100\n",
            "1/1 [==============================] - 0s 8ms/step - loss: 11.5923 - mae: 11.5923\n",
            "Epoch 89/100\n",
            "1/1 [==============================] - 0s 8ms/step - loss: 11.5597 - mae: 11.5597\n",
            "Epoch 90/100\n",
            "1/1 [==============================] - 0s 8ms/step - loss: 11.5270 - mae: 11.5270\n",
            "Epoch 91/100\n",
            "1/1 [==============================] - 0s 8ms/step - loss: 11.4942 - mae: 11.4942\n",
            "Epoch 92/100\n",
            "1/1 [==============================] - 0s 10ms/step - loss: 11.4613 - mae: 11.4613\n",
            "Epoch 93/100\n",
            "1/1 [==============================] - 0s 9ms/step - loss: 11.4281 - mae: 11.4281\n",
            "Epoch 94/100\n",
            "1/1 [==============================] - 0s 6ms/step - loss: 11.3946 - mae: 11.3946\n",
            "Epoch 95/100\n",
            "1/1 [==============================] - 0s 6ms/step - loss: 11.3608 - mae: 11.3608\n",
            "Epoch 96/100\n",
            "1/1 [==============================] - 0s 7ms/step - loss: 11.3267 - mae: 11.3267\n",
            "Epoch 97/100\n",
            "1/1 [==============================] - 0s 7ms/step - loss: 11.2923 - mae: 11.2923\n",
            "Epoch 98/100\n",
            "1/1 [==============================] - 0s 8ms/step - loss: 11.2575 - mae: 11.2575\n",
            "Epoch 99/100\n",
            "1/1 [==============================] - 0s 7ms/step - loss: 11.2223 - mae: 11.2223\n",
            "Epoch 100/100\n",
            "1/1 [==============================] - 0s 7ms/step - loss: 11.1868 - mae: 11.1868\n"
          ]
        },
        {
          "output_type": "execute_result",
          "data": {
            "text/plain": [
              "<keras.callbacks.History at 0x7f2be1716cd0>"
            ]
          },
          "metadata": {},
          "execution_count": 106
        }
      ]
    },
    {
      "cell_type": "code",
      "source": [
        "#Create a model (specified to your problem)\n",
        "# Set random seed\n",
        "tf.random.set_seed(42)\n",
        "\n",
        "model = tf.keras.Sequential([\n",
        "  tf.keras.layers.Dense(1)                             \n",
        "])\n",
        "\n",
        "#Compile\n",
        "\n",
        "model.compile(loss=tf.keras.losses.mae,\n",
        "              optimizer=tf.keras.optimizers.SGD(), #or just use the string for stochastic gradient descent\n",
        "              metrics=[\"mae\"])\n",
        "\n",
        "#Fit\n",
        "model.fit(tf.expand_dims(X,axis=-1),Y, epochs=100)\n"
      ],
      "metadata": {
        "colab": {
          "base_uri": "https://localhost:8080/"
        },
        "outputId": "2f72084b-0962-42e6-db43-cbe57cd68723",
        "id": "jCcBkdxDIEIU"
      },
      "execution_count": 107,
      "outputs": [
        {
          "output_type": "stream",
          "name": "stdout",
          "text": [
            "Epoch 1/100\n",
            "1/1 [==============================] - 0s 307ms/step - loss: 11.5048 - mae: 11.5048\n",
            "Epoch 2/100\n",
            "1/1 [==============================] - 0s 10ms/step - loss: 11.3723 - mae: 11.3723\n",
            "Epoch 3/100\n",
            "1/1 [==============================] - 0s 11ms/step - loss: 11.2398 - mae: 11.2398\n",
            "Epoch 4/100\n",
            "1/1 [==============================] - 0s 9ms/step - loss: 11.1073 - mae: 11.1073\n",
            "Epoch 5/100\n",
            "1/1 [==============================] - 0s 12ms/step - loss: 10.9748 - mae: 10.9748\n",
            "Epoch 6/100\n",
            "1/1 [==============================] - 0s 8ms/step - loss: 10.8423 - mae: 10.8423\n",
            "Epoch 7/100\n",
            "1/1 [==============================] - 0s 8ms/step - loss: 10.7098 - mae: 10.7098\n",
            "Epoch 8/100\n",
            "1/1 [==============================] - 0s 8ms/step - loss: 10.5773 - mae: 10.5773\n",
            "Epoch 9/100\n",
            "1/1 [==============================] - 0s 7ms/step - loss: 10.4448 - mae: 10.4448\n",
            "Epoch 10/100\n",
            "1/1 [==============================] - 0s 16ms/step - loss: 10.3123 - mae: 10.3123\n",
            "Epoch 11/100\n",
            "1/1 [==============================] - 0s 10ms/step - loss: 10.1798 - mae: 10.1798\n",
            "Epoch 12/100\n",
            "1/1 [==============================] - 0s 9ms/step - loss: 10.0473 - mae: 10.0473\n",
            "Epoch 13/100\n",
            "1/1 [==============================] - 0s 8ms/step - loss: 9.9148 - mae: 9.9148\n",
            "Epoch 14/100\n",
            "1/1 [==============================] - 0s 8ms/step - loss: 9.7823 - mae: 9.7823\n",
            "Epoch 15/100\n",
            "1/1 [==============================] - 0s 8ms/step - loss: 9.6498 - mae: 9.6498\n",
            "Epoch 16/100\n",
            "1/1 [==============================] - 0s 7ms/step - loss: 9.5173 - mae: 9.5173\n",
            "Epoch 17/100\n",
            "1/1 [==============================] - 0s 8ms/step - loss: 9.3848 - mae: 9.3848\n",
            "Epoch 18/100\n",
            "1/1 [==============================] - 0s 9ms/step - loss: 9.2523 - mae: 9.2523\n",
            "Epoch 19/100\n",
            "1/1 [==============================] - 0s 9ms/step - loss: 9.1198 - mae: 9.1198\n",
            "Epoch 20/100\n",
            "1/1 [==============================] - 0s 6ms/step - loss: 8.9873 - mae: 8.9873\n",
            "Epoch 21/100\n",
            "1/1 [==============================] - 0s 20ms/step - loss: 8.8548 - mae: 8.8548\n",
            "Epoch 22/100\n",
            "1/1 [==============================] - 0s 10ms/step - loss: 8.7223 - mae: 8.7223\n",
            "Epoch 23/100\n",
            "1/1 [==============================] - 0s 8ms/step - loss: 8.5898 - mae: 8.5898\n",
            "Epoch 24/100\n",
            "1/1 [==============================] - 0s 8ms/step - loss: 8.4573 - mae: 8.4573\n",
            "Epoch 25/100\n",
            "1/1 [==============================] - 0s 8ms/step - loss: 8.3248 - mae: 8.3248\n",
            "Epoch 26/100\n",
            "1/1 [==============================] - 0s 10ms/step - loss: 8.1923 - mae: 8.1923\n",
            "Epoch 27/100\n",
            "1/1 [==============================] - 0s 10ms/step - loss: 8.0598 - mae: 8.0598\n",
            "Epoch 28/100\n",
            "1/1 [==============================] - 0s 8ms/step - loss: 7.9273 - mae: 7.9273\n",
            "Epoch 29/100\n",
            "1/1 [==============================] - 0s 6ms/step - loss: 7.7948 - mae: 7.7948\n",
            "Epoch 30/100\n",
            "1/1 [==============================] - 0s 7ms/step - loss: 7.6623 - mae: 7.6623\n",
            "Epoch 31/100\n",
            "1/1 [==============================] - 0s 6ms/step - loss: 7.5298 - mae: 7.5298\n",
            "Epoch 32/100\n",
            "1/1 [==============================] - 0s 7ms/step - loss: 7.3973 - mae: 7.3973\n",
            "Epoch 33/100\n",
            "1/1 [==============================] - 0s 5ms/step - loss: 7.2648 - mae: 7.2648\n",
            "Epoch 34/100\n",
            "1/1 [==============================] - 0s 7ms/step - loss: 7.2525 - mae: 7.2525\n",
            "Epoch 35/100\n",
            "1/1 [==============================] - 0s 6ms/step - loss: 7.2469 - mae: 7.2469\n",
            "Epoch 36/100\n",
            "1/1 [==============================] - 0s 7ms/step - loss: 7.2413 - mae: 7.2413\n",
            "Epoch 37/100\n",
            "1/1 [==============================] - 0s 8ms/step - loss: 7.2356 - mae: 7.2356\n",
            "Epoch 38/100\n",
            "1/1 [==============================] - 0s 6ms/step - loss: 7.2300 - mae: 7.2300\n",
            "Epoch 39/100\n",
            "1/1 [==============================] - 0s 8ms/step - loss: 7.2244 - mae: 7.2244\n",
            "Epoch 40/100\n",
            "1/1 [==============================] - 0s 6ms/step - loss: 7.2188 - mae: 7.2188\n",
            "Epoch 41/100\n",
            "1/1 [==============================] - 0s 7ms/step - loss: 7.2131 - mae: 7.2131\n",
            "Epoch 42/100\n",
            "1/1 [==============================] - 0s 6ms/step - loss: 7.2075 - mae: 7.2075\n",
            "Epoch 43/100\n",
            "1/1 [==============================] - 0s 7ms/step - loss: 7.2019 - mae: 7.2019\n",
            "Epoch 44/100\n",
            "1/1 [==============================] - 0s 7ms/step - loss: 7.1963 - mae: 7.1963\n",
            "Epoch 45/100\n",
            "1/1 [==============================] - 0s 12ms/step - loss: 7.1906 - mae: 7.1906\n",
            "Epoch 46/100\n",
            "1/1 [==============================] - 0s 7ms/step - loss: 7.1850 - mae: 7.1850\n",
            "Epoch 47/100\n",
            "1/1 [==============================] - 0s 7ms/step - loss: 7.1794 - mae: 7.1794\n",
            "Epoch 48/100\n",
            "1/1 [==============================] - 0s 5ms/step - loss: 7.1738 - mae: 7.1738\n",
            "Epoch 49/100\n",
            "1/1 [==============================] - 0s 52ms/step - loss: 7.1681 - mae: 7.1681\n",
            "Epoch 50/100\n",
            "1/1 [==============================] - 0s 20ms/step - loss: 7.1625 - mae: 7.1625\n",
            "Epoch 51/100\n",
            "1/1 [==============================] - 0s 19ms/step - loss: 7.1569 - mae: 7.1569\n",
            "Epoch 52/100\n",
            "1/1 [==============================] - 0s 11ms/step - loss: 7.1512 - mae: 7.1512\n",
            "Epoch 53/100\n",
            "1/1 [==============================] - 0s 9ms/step - loss: 7.1456 - mae: 7.1456\n",
            "Epoch 54/100\n",
            "1/1 [==============================] - 0s 8ms/step - loss: 7.1400 - mae: 7.1400\n",
            "Epoch 55/100\n",
            "1/1 [==============================] - 0s 8ms/step - loss: 7.1344 - mae: 7.1344\n",
            "Epoch 56/100\n",
            "1/1 [==============================] - 0s 7ms/step - loss: 7.1287 - mae: 7.1287\n",
            "Epoch 57/100\n",
            "1/1 [==============================] - 0s 6ms/step - loss: 7.1231 - mae: 7.1231\n",
            "Epoch 58/100\n",
            "1/1 [==============================] - 0s 6ms/step - loss: 7.1175 - mae: 7.1175\n",
            "Epoch 59/100\n",
            "1/1 [==============================] - 0s 6ms/step - loss: 7.1119 - mae: 7.1119\n",
            "Epoch 60/100\n",
            "1/1 [==============================] - 0s 5ms/step - loss: 7.1063 - mae: 7.1063\n",
            "Epoch 61/100\n",
            "1/1 [==============================] - 0s 7ms/step - loss: 7.1006 - mae: 7.1006\n",
            "Epoch 62/100\n",
            "1/1 [==============================] - 0s 6ms/step - loss: 7.0950 - mae: 7.0950\n",
            "Epoch 63/100\n",
            "1/1 [==============================] - 0s 5ms/step - loss: 7.0894 - mae: 7.0894\n",
            "Epoch 64/100\n",
            "1/1 [==============================] - 0s 5ms/step - loss: 7.0838 - mae: 7.0838\n",
            "Epoch 65/100\n",
            "1/1 [==============================] - 0s 7ms/step - loss: 7.0781 - mae: 7.0781\n",
            "Epoch 66/100\n",
            "1/1 [==============================] - 0s 6ms/step - loss: 7.0725 - mae: 7.0725\n",
            "Epoch 67/100\n",
            "1/1 [==============================] - 0s 6ms/step - loss: 7.0669 - mae: 7.0669\n",
            "Epoch 68/100\n",
            "1/1 [==============================] - 0s 6ms/step - loss: 7.0613 - mae: 7.0613\n",
            "Epoch 69/100\n",
            "1/1 [==============================] - 0s 7ms/step - loss: 7.0556 - mae: 7.0556\n",
            "Epoch 70/100\n",
            "1/1 [==============================] - 0s 6ms/step - loss: 7.0500 - mae: 7.0500\n",
            "Epoch 71/100\n",
            "1/1 [==============================] - 0s 7ms/step - loss: 7.0444 - mae: 7.0444\n",
            "Epoch 72/100\n",
            "1/1 [==============================] - 0s 8ms/step - loss: 7.0388 - mae: 7.0388\n",
            "Epoch 73/100\n",
            "1/1 [==============================] - 0s 30ms/step - loss: 7.0331 - mae: 7.0331\n",
            "Epoch 74/100\n",
            "1/1 [==============================] - 0s 20ms/step - loss: 7.0275 - mae: 7.0275\n",
            "Epoch 75/100\n",
            "1/1 [==============================] - 0s 9ms/step - loss: 7.0219 - mae: 7.0219\n",
            "Epoch 76/100\n",
            "1/1 [==============================] - 0s 9ms/step - loss: 7.0163 - mae: 7.0163\n",
            "Epoch 77/100\n",
            "1/1 [==============================] - 0s 6ms/step - loss: 7.0106 - mae: 7.0106\n",
            "Epoch 78/100\n",
            "1/1 [==============================] - 0s 17ms/step - loss: 7.0050 - mae: 7.0050\n",
            "Epoch 79/100\n",
            "1/1 [==============================] - 0s 12ms/step - loss: 6.9994 - mae: 6.9994\n",
            "Epoch 80/100\n",
            "1/1 [==============================] - 0s 6ms/step - loss: 6.9938 - mae: 6.9938\n",
            "Epoch 81/100\n",
            "1/1 [==============================] - 0s 16ms/step - loss: 6.9881 - mae: 6.9881\n",
            "Epoch 82/100\n",
            "1/1 [==============================] - 0s 10ms/step - loss: 6.9825 - mae: 6.9825\n",
            "Epoch 83/100\n",
            "1/1 [==============================] - 0s 9ms/step - loss: 6.9769 - mae: 6.9769\n",
            "Epoch 84/100\n",
            "1/1 [==============================] - 0s 9ms/step - loss: 6.9713 - mae: 6.9713\n",
            "Epoch 85/100\n",
            "1/1 [==============================] - 0s 9ms/step - loss: 6.9656 - mae: 6.9656\n",
            "Epoch 86/100\n",
            "1/1 [==============================] - 0s 8ms/step - loss: 6.9600 - mae: 6.9600\n",
            "Epoch 87/100\n",
            "1/1 [==============================] - 0s 7ms/step - loss: 6.9544 - mae: 6.9544\n",
            "Epoch 88/100\n",
            "1/1 [==============================] - 0s 10ms/step - loss: 6.9488 - mae: 6.9488\n",
            "Epoch 89/100\n",
            "1/1 [==============================] - 0s 6ms/step - loss: 6.9431 - mae: 6.9431\n",
            "Epoch 90/100\n",
            "1/1 [==============================] - 0s 8ms/step - loss: 6.9375 - mae: 6.9375\n",
            "Epoch 91/100\n",
            "1/1 [==============================] - 0s 5ms/step - loss: 6.9319 - mae: 6.9319\n",
            "Epoch 92/100\n",
            "1/1 [==============================] - 0s 10ms/step - loss: 6.9263 - mae: 6.9263\n",
            "Epoch 93/100\n",
            "1/1 [==============================] - 0s 6ms/step - loss: 6.9206 - mae: 6.9206\n",
            "Epoch 94/100\n",
            "1/1 [==============================] - 0s 6ms/step - loss: 6.9150 - mae: 6.9150\n",
            "Epoch 95/100\n",
            "1/1 [==============================] - 0s 9ms/step - loss: 6.9094 - mae: 6.9094\n",
            "Epoch 96/100\n",
            "1/1 [==============================] - 0s 6ms/step - loss: 6.9038 - mae: 6.9038\n",
            "Epoch 97/100\n",
            "1/1 [==============================] - 0s 6ms/step - loss: 6.8981 - mae: 6.8981\n",
            "Epoch 98/100\n",
            "1/1 [==============================] - 0s 5ms/step - loss: 6.8925 - mae: 6.8925\n",
            "Epoch 99/100\n",
            "1/1 [==============================] - 0s 5ms/step - loss: 6.8869 - mae: 6.8869\n",
            "Epoch 100/100\n",
            "1/1 [==============================] - 0s 6ms/step - loss: 6.8813 - mae: 6.8813\n"
          ]
        },
        {
          "output_type": "execute_result",
          "data": {
            "text/plain": [
              "<keras.callbacks.History at 0x7f2be15f51f0>"
            ]
          },
          "metadata": {},
          "execution_count": 107
        }
      ]
    },
    {
      "cell_type": "code",
      "source": [
        "X, Y"
      ],
      "metadata": {
        "colab": {
          "base_uri": "https://localhost:8080/"
        },
        "id": "f0ecJTglGttT",
        "outputId": "1ea51b26-1c62-4a20-ea84-1faddbaf7fba"
      },
      "execution_count": 108,
      "outputs": [
        {
          "output_type": "execute_result",
          "data": {
            "text/plain": [
              "(<tf.Tensor: shape=(8,), dtype=float64, numpy=array([-7., -4., -1.,  2.,  5.,  8., 11., 14.])>,\n",
              " <tf.Tensor: shape=(8,), dtype=float64, numpy=array([ 3.,  6.,  9., 12., 15., 18., 21., 24.])>)"
            ]
          },
          "metadata": {},
          "execution_count": 108
        }
      ]
    },
    {
      "cell_type": "code",
      "source": [
        "model.predict([17.])"
      ],
      "metadata": {
        "colab": {
          "base_uri": "https://localhost:8080/"
        },
        "id": "ybZG4G5vJdb7",
        "outputId": "324d81c5-d953-4c29-9872-a7c7c171be13"
      },
      "execution_count": 109,
      "outputs": [
        {
          "output_type": "stream",
          "name": "stdout",
          "text": [
            "1/1 [==============================] - 0s 61ms/step\n"
          ]
        },
        {
          "output_type": "execute_result",
          "data": {
            "text/plain": [
              "array([[30.158512]], dtype=float32)"
            ]
          },
          "metadata": {},
          "execution_count": 109
        }
      ]
    },
    {
      "cell_type": "code",
      "source": [
        "tf.random.set_seed(42)\n",
        "\n",
        "model = tf.keras.Sequential([\n",
        "    tf.keras.layers.Dense(100, activation=\"relu\"),\n",
        "    tf.keras.layers.Dense(1)\n",
        "])\n",
        "\n",
        "model.compile(loss=tf.keras.losses.mae,\n",
        "              optimizer=tf.keras.optimizers.Adam(lr=0.01),\n",
        "              metrics=[\"mae\"])\n",
        "\n",
        "model.fit(tf.expand_dims(X,axis=-1),Y, epochs=100)"
      ],
      "metadata": {
        "colab": {
          "base_uri": "https://localhost:8080/"
        },
        "id": "cDahBSCKJ1xj",
        "outputId": "0c03931c-566b-491b-8f59-a9095dece4c7"
      },
      "execution_count": 110,
      "outputs": [
        {
          "output_type": "stream",
          "name": "stdout",
          "text": [
            "Epoch 1/100\n",
            "1/1 [==============================] - 0s 382ms/step - loss: 12.3185 - mae: 12.3185\n",
            "Epoch 2/100\n",
            "1/1 [==============================] - 0s 10ms/step - loss: 11.4382 - mae: 11.4382\n",
            "Epoch 3/100\n",
            "1/1 [==============================] - 0s 14ms/step - loss: 10.5494 - mae: 10.5494\n",
            "Epoch 4/100\n",
            "1/1 [==============================] - 0s 9ms/step - loss: 9.7152 - mae: 9.7152\n",
            "Epoch 5/100\n",
            "1/1 [==============================] - 0s 11ms/step - loss: 9.0090 - mae: 9.0090\n",
            "Epoch 6/100\n",
            "1/1 [==============================] - 0s 12ms/step - loss: 8.2746 - mae: 8.2746\n",
            "Epoch 7/100\n",
            "1/1 [==============================] - 0s 12ms/step - loss: 7.5151 - mae: 7.5151\n",
            "Epoch 8/100\n",
            "1/1 [==============================] - 0s 9ms/step - loss: 6.7230 - mae: 6.7230\n",
            "Epoch 9/100\n",
            "1/1 [==============================] - 0s 9ms/step - loss: 5.8980 - mae: 5.8980\n",
            "Epoch 10/100\n",
            "1/1 [==============================] - 0s 7ms/step - loss: 5.0336 - mae: 5.0336\n",
            "Epoch 11/100\n",
            "1/1 [==============================] - 0s 21ms/step - loss: 4.1246 - mae: 4.1246\n",
            "Epoch 12/100\n",
            "1/1 [==============================] - 0s 7ms/step - loss: 3.7511 - mae: 3.7511\n",
            "Epoch 13/100\n",
            "1/1 [==============================] - 0s 7ms/step - loss: 3.9158 - mae: 3.9158\n",
            "Epoch 14/100\n",
            "1/1 [==============================] - 0s 7ms/step - loss: 4.1521 - mae: 4.1521\n",
            "Epoch 15/100\n",
            "1/1 [==============================] - 0s 7ms/step - loss: 4.5077 - mae: 4.5077\n",
            "Epoch 16/100\n",
            "1/1 [==============================] - 0s 6ms/step - loss: 4.7397 - mae: 4.7397\n",
            "Epoch 17/100\n",
            "1/1 [==============================] - 0s 8ms/step - loss: 4.8614 - mae: 4.8614\n",
            "Epoch 18/100\n",
            "1/1 [==============================] - 0s 5ms/step - loss: 4.8871 - mae: 4.8871\n",
            "Epoch 19/100\n",
            "1/1 [==============================] - 0s 10ms/step - loss: 4.8299 - mae: 4.8299\n",
            "Epoch 20/100\n",
            "1/1 [==============================] - 0s 6ms/step - loss: 4.7016 - mae: 4.7016\n",
            "Epoch 21/100\n",
            "1/1 [==============================] - 0s 6ms/step - loss: 4.5153 - mae: 4.5153\n",
            "Epoch 22/100\n",
            "1/1 [==============================] - 0s 6ms/step - loss: 4.2833 - mae: 4.2833\n",
            "Epoch 23/100\n",
            "1/1 [==============================] - 0s 7ms/step - loss: 4.0132 - mae: 4.0132\n",
            "Epoch 24/100\n",
            "1/1 [==============================] - 0s 6ms/step - loss: 3.7305 - mae: 3.7305\n",
            "Epoch 25/100\n",
            "1/1 [==============================] - 0s 5ms/step - loss: 3.6061 - mae: 3.6061\n",
            "Epoch 26/100\n",
            "1/1 [==============================] - 0s 6ms/step - loss: 3.4817 - mae: 3.4817\n",
            "Epoch 27/100\n",
            "1/1 [==============================] - 0s 8ms/step - loss: 3.3552 - mae: 3.3552\n",
            "Epoch 28/100\n",
            "1/1 [==============================] - 0s 6ms/step - loss: 3.3430 - mae: 3.3430\n",
            "Epoch 29/100\n",
            "1/1 [==============================] - 0s 6ms/step - loss: 3.3752 - mae: 3.3752\n",
            "Epoch 30/100\n",
            "1/1 [==============================] - 0s 6ms/step - loss: 3.3967 - mae: 3.3967\n",
            "Epoch 31/100\n",
            "1/1 [==============================] - 0s 6ms/step - loss: 3.3853 - mae: 3.3853\n",
            "Epoch 32/100\n",
            "1/1 [==============================] - 0s 7ms/step - loss: 3.3337 - mae: 3.3337\n",
            "Epoch 33/100\n",
            "1/1 [==============================] - 0s 7ms/step - loss: 3.2754 - mae: 3.2754\n",
            "Epoch 34/100\n",
            "1/1 [==============================] - 0s 6ms/step - loss: 3.1896 - mae: 3.1896\n",
            "Epoch 35/100\n",
            "1/1 [==============================] - 0s 6ms/step - loss: 3.0763 - mae: 3.0763\n",
            "Epoch 36/100\n",
            "1/1 [==============================] - 0s 6ms/step - loss: 2.9381 - mae: 2.9381\n",
            "Epoch 37/100\n",
            "1/1 [==============================] - 0s 6ms/step - loss: 2.8169 - mae: 2.8169\n",
            "Epoch 38/100\n",
            "1/1 [==============================] - 0s 9ms/step - loss: 2.7896 - mae: 2.7896\n",
            "Epoch 39/100\n",
            "1/1 [==============================] - 0s 7ms/step - loss: 2.7367 - mae: 2.7367\n",
            "Epoch 40/100\n",
            "1/1 [==============================] - 0s 7ms/step - loss: 2.7003 - mae: 2.7003\n",
            "Epoch 41/100\n",
            "1/1 [==============================] - 0s 11ms/step - loss: 2.5916 - mae: 2.5916\n",
            "Epoch 42/100\n",
            "1/1 [==============================] - 0s 13ms/step - loss: 2.4901 - mae: 2.4901\n",
            "Epoch 43/100\n",
            "1/1 [==============================] - 0s 9ms/step - loss: 2.3889 - mae: 2.3889\n",
            "Epoch 44/100\n",
            "1/1 [==============================] - 0s 8ms/step - loss: 2.2773 - mae: 2.2773\n",
            "Epoch 45/100\n",
            "1/1 [==============================] - 0s 10ms/step - loss: 2.1486 - mae: 2.1486\n",
            "Epoch 46/100\n",
            "1/1 [==============================] - 0s 7ms/step - loss: 2.0120 - mae: 2.0120\n",
            "Epoch 47/100\n",
            "1/1 [==============================] - 0s 9ms/step - loss: 1.8716 - mae: 1.8716\n",
            "Epoch 48/100\n",
            "1/1 [==============================] - 0s 8ms/step - loss: 1.8010 - mae: 1.8010\n",
            "Epoch 49/100\n",
            "1/1 [==============================] - 0s 7ms/step - loss: 1.6817 - mae: 1.6817\n",
            "Epoch 50/100\n",
            "1/1 [==============================] - 0s 9ms/step - loss: 1.4949 - mae: 1.4949\n",
            "Epoch 51/100\n",
            "1/1 [==============================] - 0s 7ms/step - loss: 1.3659 - mae: 1.3659\n",
            "Epoch 52/100\n",
            "1/1 [==============================] - 0s 7ms/step - loss: 1.2458 - mae: 1.2458\n",
            "Epoch 53/100\n",
            "1/1 [==============================] - 0s 7ms/step - loss: 1.1011 - mae: 1.1011\n",
            "Epoch 54/100\n",
            "1/1 [==============================] - 0s 10ms/step - loss: 0.9050 - mae: 0.9050\n",
            "Epoch 55/100\n",
            "1/1 [==============================] - 0s 7ms/step - loss: 0.7032 - mae: 0.7032\n",
            "Epoch 56/100\n",
            "1/1 [==============================] - 0s 7ms/step - loss: 0.4866 - mae: 0.4866\n",
            "Epoch 57/100\n",
            "1/1 [==============================] - 0s 6ms/step - loss: 0.3925 - mae: 0.3925\n",
            "Epoch 58/100\n",
            "1/1 [==============================] - 0s 8ms/step - loss: 0.2727 - mae: 0.2727\n",
            "Epoch 59/100\n",
            "1/1 [==============================] - 0s 7ms/step - loss: 0.2035 - mae: 0.2035\n",
            "Epoch 60/100\n",
            "1/1 [==============================] - 0s 11ms/step - loss: 0.4177 - mae: 0.4177\n",
            "Epoch 61/100\n",
            "1/1 [==============================] - 0s 7ms/step - loss: 0.3904 - mae: 0.3904\n",
            "Epoch 62/100\n",
            "1/1 [==============================] - 0s 6ms/step - loss: 0.4483 - mae: 0.4483\n",
            "Epoch 63/100\n",
            "1/1 [==============================] - 0s 10ms/step - loss: 0.4128 - mae: 0.4128\n",
            "Epoch 64/100\n",
            "1/1 [==============================] - 0s 7ms/step - loss: 0.5029 - mae: 0.5029\n",
            "Epoch 65/100\n",
            "1/1 [==============================] - 0s 7ms/step - loss: 0.4210 - mae: 0.4210\n",
            "Epoch 66/100\n",
            "1/1 [==============================] - 0s 9ms/step - loss: 0.4623 - mae: 0.4623\n",
            "Epoch 67/100\n",
            "1/1 [==============================] - 0s 6ms/step - loss: 0.3584 - mae: 0.3584\n",
            "Epoch 68/100\n",
            "1/1 [==============================] - 0s 10ms/step - loss: 0.3169 - mae: 0.3169\n",
            "Epoch 69/100\n",
            "1/1 [==============================] - 0s 7ms/step - loss: 0.2630 - mae: 0.2630\n",
            "Epoch 70/100\n",
            "1/1 [==============================] - 0s 7ms/step - loss: 0.2135 - mae: 0.2135\n",
            "Epoch 71/100\n",
            "1/1 [==============================] - 0s 6ms/step - loss: 0.1765 - mae: 0.1765\n",
            "Epoch 72/100\n",
            "1/1 [==============================] - 0s 6ms/step - loss: 0.3350 - mae: 0.3350\n",
            "Epoch 73/100\n",
            "1/1 [==============================] - 0s 7ms/step - loss: 0.3267 - mae: 0.3267\n",
            "Epoch 74/100\n",
            "1/1 [==============================] - 0s 7ms/step - loss: 0.1933 - mae: 0.1933\n",
            "Epoch 75/100\n",
            "1/1 [==============================] - 0s 8ms/step - loss: 0.2845 - mae: 0.2845\n",
            "Epoch 76/100\n",
            "1/1 [==============================] - 0s 8ms/step - loss: 0.1706 - mae: 0.1706\n",
            "Epoch 77/100\n",
            "1/1 [==============================] - 0s 7ms/step - loss: 0.1886 - mae: 0.1886\n",
            "Epoch 78/100\n",
            "1/1 [==============================] - 0s 8ms/step - loss: 0.2379 - mae: 0.2379\n",
            "Epoch 79/100\n",
            "1/1 [==============================] - 0s 7ms/step - loss: 0.2396 - mae: 0.2396\n",
            "Epoch 80/100\n",
            "1/1 [==============================] - 0s 7ms/step - loss: 0.2633 - mae: 0.2633\n",
            "Epoch 81/100\n",
            "1/1 [==============================] - 0s 7ms/step - loss: 0.1766 - mae: 0.1766\n",
            "Epoch 82/100\n",
            "1/1 [==============================] - 0s 11ms/step - loss: 0.2349 - mae: 0.2349\n",
            "Epoch 83/100\n",
            "1/1 [==============================] - 0s 7ms/step - loss: 0.1657 - mae: 0.1657\n",
            "Epoch 84/100\n",
            "1/1 [==============================] - 0s 8ms/step - loss: 0.2313 - mae: 0.2313\n",
            "Epoch 85/100\n",
            "1/1 [==============================] - 0s 15ms/step - loss: 0.1406 - mae: 0.1406\n",
            "Epoch 86/100\n",
            "1/1 [==============================] - 0s 7ms/step - loss: 0.2704 - mae: 0.2704\n",
            "Epoch 87/100\n",
            "1/1 [==============================] - 0s 6ms/step - loss: 0.2625 - mae: 0.2625\n",
            "Epoch 88/100\n",
            "1/1 [==============================] - 0s 7ms/step - loss: 0.1244 - mae: 0.1244\n",
            "Epoch 89/100\n",
            "1/1 [==============================] - 0s 7ms/step - loss: 0.2429 - mae: 0.2429\n",
            "Epoch 90/100\n",
            "1/1 [==============================] - 0s 7ms/step - loss: 0.1039 - mae: 0.1039\n",
            "Epoch 91/100\n",
            "1/1 [==============================] - 0s 7ms/step - loss: 0.3054 - mae: 0.3054\n",
            "Epoch 92/100\n",
            "1/1 [==============================] - 0s 7ms/step - loss: 0.2531 - mae: 0.2531\n",
            "Epoch 93/100\n",
            "1/1 [==============================] - 0s 7ms/step - loss: 0.1150 - mae: 0.1150\n",
            "Epoch 94/100\n",
            "1/1 [==============================] - 0s 7ms/step - loss: 0.0968 - mae: 0.0968\n",
            "Epoch 95/100\n",
            "1/1 [==============================] - 0s 8ms/step - loss: 0.1926 - mae: 0.1926\n",
            "Epoch 96/100\n",
            "1/1 [==============================] - 0s 9ms/step - loss: 0.0905 - mae: 0.0905\n",
            "Epoch 97/100\n",
            "1/1 [==============================] - 0s 7ms/step - loss: 0.3329 - mae: 0.3329\n",
            "Epoch 98/100\n",
            "1/1 [==============================] - 0s 7ms/step - loss: 0.3907 - mae: 0.3907\n",
            "Epoch 99/100\n",
            "1/1 [==============================] - 0s 7ms/step - loss: 0.2052 - mae: 0.2052\n",
            "Epoch 100/100\n",
            "1/1 [==============================] - 0s 7ms/step - loss: 0.3052 - mae: 0.3052\n"
          ]
        },
        {
          "output_type": "execute_result",
          "data": {
            "text/plain": [
              "<keras.callbacks.History at 0x7f2be15389d0>"
            ]
          },
          "metadata": {},
          "execution_count": 110
        }
      ]
    },
    {
      "cell_type": "code",
      "source": [
        "model.predict([17.])"
      ],
      "metadata": {
        "colab": {
          "base_uri": "https://localhost:8080/"
        },
        "id": "MQVHsrn6KbZJ",
        "outputId": "71631605-5bce-4b4b-827f-4f036977a117"
      },
      "execution_count": 111,
      "outputs": [
        {
          "output_type": "stream",
          "name": "stdout",
          "text": [
            "1/1 [==============================] - 0s 58ms/step\n"
          ]
        },
        {
          "output_type": "execute_result",
          "data": {
            "text/plain": [
              "array([[26.206875]], dtype=float32)"
            ]
          },
          "metadata": {},
          "execution_count": 111
        }
      ]
    },
    {
      "cell_type": "markdown",
      "source": [
        "❗REMEMBER OVERFITTING. Try to generalize the data so the ML model can perform well on samples it has never seen before\n",
        " ATTENTION with activators(like ReLU)\n",
        "optimizers(sgd, Adam,...) as well as their learning rates"
      ],
      "metadata": {
        "id": "Qopx7rarMZX7"
      }
    },
    {
      "cell_type": "markdown",
      "source": [
        "build -> fit -> evaluate"
      ],
      "metadata": {
        "id": "_ZIOKq4GOUki"
      }
    },
    {
      "cell_type": "code",
      "source": [
        "#Evaluate the model\n",
        "\n",
        "model.evaluate(X,Y)"
      ],
      "metadata": {
        "colab": {
          "base_uri": "https://localhost:8080/"
        },
        "id": "a6qkpfiiMk1b",
        "outputId": "28b9310a-51b6-4d91-e8b9-076b9db7dbf9"
      },
      "execution_count": 112,
      "outputs": [
        {
          "output_type": "stream",
          "name": "stdout",
          "text": [
            "1/1 [==============================] - 0s 148ms/step - loss: 0.4215 - mae: 0.4215\n"
          ]
        },
        {
          "output_type": "execute_result",
          "data": {
            "text/plain": [
              "[0.42148202657699585, 0.42148202657699585]"
            ]
          },
          "metadata": {},
          "execution_count": 112
        }
      ]
    },
    {
      "cell_type": "code",
      "source": [
        "X = tf.range(-100,100, 4)\n",
        "\n",
        "X"
      ],
      "metadata": {
        "colab": {
          "base_uri": "https://localhost:8080/"
        },
        "id": "98XO0FoFPYiI",
        "outputId": "0480639f-9456-4ef8-b3e1-0b3884fcc520"
      },
      "execution_count": 113,
      "outputs": [
        {
          "output_type": "execute_result",
          "data": {
            "text/plain": [
              "<tf.Tensor: shape=(50,), dtype=int32, numpy=\n",
              "array([-100,  -96,  -92,  -88,  -84,  -80,  -76,  -72,  -68,  -64,  -60,\n",
              "        -56,  -52,  -48,  -44,  -40,  -36,  -32,  -28,  -24,  -20,  -16,\n",
              "        -12,   -8,   -4,    0,    4,    8,   12,   16,   20,   24,   28,\n",
              "         32,   36,   40,   44,   48,   52,   56,   60,   64,   68,   72,\n",
              "         76,   80,   84,   88,   92,   96], dtype=int32)>"
            ]
          },
          "metadata": {},
          "execution_count": 113
        }
      ]
    },
    {
      "cell_type": "code",
      "source": [
        "Y = X+10\n",
        "\n",
        "Y"
      ],
      "metadata": {
        "colab": {
          "base_uri": "https://localhost:8080/"
        },
        "id": "RslFwxy2Ped5",
        "outputId": "a6f7c5ea-5189-4910-b4ff-48ad307d9a91"
      },
      "execution_count": 114,
      "outputs": [
        {
          "output_type": "execute_result",
          "data": {
            "text/plain": [
              "<tf.Tensor: shape=(50,), dtype=int32, numpy=\n",
              "array([-90, -86, -82, -78, -74, -70, -66, -62, -58, -54, -50, -46, -42,\n",
              "       -38, -34, -30, -26, -22, -18, -14, -10,  -6,  -2,   2,   6,  10,\n",
              "        14,  18,  22,  26,  30,  34,  38,  42,  46,  50,  54,  58,  62,\n",
              "        66,  70,  74,  78,  82,  86,  90,  94,  98, 102, 106], dtype=int32)>"
            ]
          },
          "metadata": {},
          "execution_count": 114
        }
      ]
    },
    {
      "cell_type": "code",
      "source": [
        "plt.scatter(X,Y)"
      ],
      "metadata": {
        "colab": {
          "base_uri": "https://localhost:8080/",
          "height": 283
        },
        "id": "yZIbWGl_QFca",
        "outputId": "8c653348-359f-4f8a-b910-3c5def8d4690"
      },
      "execution_count": 115,
      "outputs": [
        {
          "output_type": "execute_result",
          "data": {
            "text/plain": [
              "<matplotlib.collections.PathCollection at 0x7f2be14a5f40>"
            ]
          },
          "metadata": {},
          "execution_count": 115
        },
        {
          "output_type": "display_data",
          "data": {
            "text/plain": [
              "<Figure size 432x288 with 1 Axes>"
            ],
            "image/png": "[encoded data removed]"
          },
          "metadata": {
            "needs_background": "light"
          }
        }
      ]
    },
    {
      "cell_type": "markdown",
      "source": [
        "*Training set - the model learns from this data, which is typically 70-80% of the total data you have available\n",
        "*Validation set - the model gets tuned on this data, this set is typically 10-15% of the tottal data available.\n",
        "*Test set - the model gets evaluated on this data to test what it has learned, this set is typically 10-15% of the tottal data available."
      ],
      "metadata": {
        "id": "LsprfijBQOOS"
      }
    },
    {
      "cell_type": "markdown",
      "source": [],
      "metadata": {
        "id": "VX5A0SvTPhmJ"
      }
    },
    {
      "cell_type": "code",
      "source": [
        "#Check the lenght of how man y samples we have\n",
        "len(X)"
      ],
      "metadata": {
        "colab": {
          "base_uri": "https://localhost:8080/"
        },
        "id": "Y-05ZX9MQxRq",
        "outputId": "9a3dcf83-b097-461f-f3b3-061398f51827"
      },
      "execution_count": 116,
      "outputs": [
        {
          "output_type": "execute_result",
          "data": {
            "text/plain": [
              "50"
            ]
          },
          "metadata": {},
          "execution_count": 116
        }
      ]
    },
    {
      "cell_type": "code",
      "source": [
        "#Split the data into train and test sets\n",
        "X_train = X[:40]\n",
        "Y_train = Y[:40]\n",
        "X_test = X[40:]\n",
        "Y_test = Y[40:]\n",
        "\n",
        "len(X_train), len(Y_train), len(X_test), len(Y_test)"
      ],
      "metadata": {
        "colab": {
          "base_uri": "https://localhost:8080/"
        },
        "id": "3bzI28aDRNkC",
        "outputId": "a1bf8f83-2dd9-4bb6-9094-e2af62b2ffed"
      },
      "execution_count": 117,
      "outputs": [
        {
          "output_type": "execute_result",
          "data": {
            "text/plain": [
              "(40, 40, 10, 10)"
            ]
          },
          "metadata": {},
          "execution_count": 117
        }
      ]
    },
    {
      "cell_type": "code",
      "source": [
        "plt.figure(figsize=(10,7))\n",
        "#Plot training data in blue\n",
        "plt.scatter(X_train, Y_train, c=\"b\", label=\"Training data\")\n",
        "#Plot test data in green\n",
        "plt.scatter(X_test, Y_test, c=\"g\", label=\"Test data\")"
      ],
      "metadata": {
        "colab": {
          "base_uri": "https://localhost:8080/",
          "height": 446
        },
        "id": "Ly5dKUYdSAWJ",
        "outputId": "db0f8487-1ceb-4ad8-dc8a-57278dc3b2e4"
      },
      "execution_count": 118,
      "outputs": [
        {
          "output_type": "execute_result",
          "data": {
            "text/plain": [
              "<matplotlib.collections.PathCollection at 0x7f2be14066a0>"
            ]
          },
          "metadata": {},
          "execution_count": 118
        },
        {
          "output_type": "display_data",
          "data": {
            "text/plain": [
              "<Figure size 720x504 with 1 Axes>"
            ],
            "image/png": "[encoded data removed]"
          },
          "metadata": {
            "needs_background": "light"
          }
        }
      ]
    },
    {
      "cell_type": "code",
      "source": [
        "#Let's have a look at how to create a neural network for our data\n",
        "\n",
        "model = tf.keras.Sequential([\n",
        "    tf.keras.layers.Dense(10)\n",
        "])\n",
        "\n",
        "model.compile(loss=tf.keras.losses.mae,\n",
        "              optimizer=tf.keras.optimizers.SGD(),\n",
        "              metrics=[\"mae\"])\n",
        "\n",
        "model.fit(tf.expand_dims(X_train,axis=-1),Y_train, epochs=100)"
      ],
      "metadata": {
        "colab": {
          "base_uri": "https://localhost:8080/"
        },
        "id": "jnjkmHRbVaEY",
        "outputId": "2e881350-0191-460b-cae6-99fc5dc5465b"
      },
      "execution_count": 119,
      "outputs": [
        {
          "output_type": "stream",
          "name": "stdout",
          "text": [
            "Epoch 1/100\n",
            "2/2 [==============================] - 0s 6ms/step - loss: 50.2151 - mae: 50.2151\n",
            "Epoch 2/100\n",
            "2/2 [==============================] - 0s 4ms/step - loss: 46.7280 - mae: 46.7280\n",
            "Epoch 3/100\n",
            "2/2 [==============================] - 0s 5ms/step - loss: 43.0384 - mae: 43.0384\n",
            "Epoch 4/100\n",
            "2/2 [==============================] - 0s 5ms/step - loss: 39.5314 - mae: 39.5314\n",
            "Epoch 5/100\n",
            "2/2 [==============================] - 0s 5ms/step - loss: 36.0511 - mae: 36.0511\n",
            "Epoch 6/100\n",
            "2/2 [==============================] - 0s 4ms/step - loss: 32.8175 - mae: 32.8175\n",
            "Epoch 7/100\n",
            "2/2 [==============================] - 0s 7ms/step - loss: 29.7634 - mae: 29.7634\n",
            "Epoch 8/100\n",
            "2/2 [==============================] - 0s 5ms/step - loss: 26.6108 - mae: 26.6108\n",
            "Epoch 9/100\n",
            "2/2 [==============================] - 0s 5ms/step - loss: 23.2421 - mae: 23.2421\n",
            "Epoch 10/100\n",
            "2/2 [==============================] - 0s 5ms/step - loss: 20.4705 - mae: 20.4705\n",
            "Epoch 11/100\n",
            "2/2 [==============================] - 0s 7ms/step - loss: 18.1476 - mae: 18.1476\n",
            "Epoch 12/100\n",
            "2/2 [==============================] - 0s 4ms/step - loss: 15.8196 - mae: 15.8196\n",
            "Epoch 13/100\n",
            "2/2 [==============================] - 0s 5ms/step - loss: 13.8407 - mae: 13.8407\n",
            "Epoch 14/100\n",
            "2/2 [==============================] - 0s 4ms/step - loss: 12.1172 - mae: 12.1172\n",
            "Epoch 15/100\n",
            "2/2 [==============================] - 0s 6ms/step - loss: 10.9506 - mae: 10.9506\n",
            "Epoch 16/100\n",
            "2/2 [==============================] - 0s 4ms/step - loss: 10.0033 - mae: 10.0033\n",
            "Epoch 17/100\n",
            "2/2 [==============================] - 0s 5ms/step - loss: 9.1495 - mae: 9.1495\n",
            "Epoch 18/100\n",
            "2/2 [==============================] - 0s 5ms/step - loss: 8.3753 - mae: 8.3753\n",
            "Epoch 19/100\n",
            "2/2 [==============================] - 0s 7ms/step - loss: 7.9890 - mae: 7.9890\n",
            "Epoch 20/100\n",
            "2/2 [==============================] - 0s 5ms/step - loss: 7.6989 - mae: 7.6989\n",
            "Epoch 21/100\n",
            "2/2 [==============================] - 0s 5ms/step - loss: 7.6257 - mae: 7.6257\n",
            "Epoch 22/100\n",
            "2/2 [==============================] - 0s 4ms/step - loss: 7.6690 - mae: 7.6690\n",
            "Epoch 23/100\n",
            "2/2 [==============================] - 0s 5ms/step - loss: 7.6402 - mae: 7.6402\n",
            "Epoch 24/100\n",
            "2/2 [==============================] - 0s 5ms/step - loss: 7.7531 - mae: 7.7531\n",
            "Epoch 25/100\n",
            "2/2 [==============================] - 0s 5ms/step - loss: 7.7308 - mae: 7.7308\n",
            "Epoch 26/100\n",
            "2/2 [==============================] - 0s 6ms/step - loss: 7.6494 - mae: 7.6494\n",
            "Epoch 27/100\n",
            "2/2 [==============================] - 0s 5ms/step - loss: 7.6212 - mae: 7.6212\n",
            "Epoch 28/100\n",
            "2/2 [==============================] - 0s 5ms/step - loss: 7.6208 - mae: 7.6208\n",
            "Epoch 29/100\n",
            "2/2 [==============================] - 0s 6ms/step - loss: 7.6836 - mae: 7.6836\n",
            "Epoch 30/100\n",
            "2/2 [==============================] - 0s 6ms/step - loss: 7.6120 - mae: 7.6120\n",
            "Epoch 31/100\n",
            "2/2 [==============================] - 0s 6ms/step - loss: 7.7205 - mae: 7.7205\n",
            "Epoch 32/100\n",
            "2/2 [==============================] - 0s 6ms/step - loss: 7.7439 - mae: 7.7439\n",
            "Epoch 33/100\n",
            "2/2 [==============================] - 0s 4ms/step - loss: 7.6492 - mae: 7.6492\n",
            "Epoch 34/100\n",
            "2/2 [==============================] - 0s 5ms/step - loss: 7.6108 - mae: 7.6108\n",
            "Epoch 35/100\n",
            "2/2 [==============================] - 0s 7ms/step - loss: 7.7231 - mae: 7.7231\n",
            "Epoch 36/100\n",
            "2/2 [==============================] - 0s 6ms/step - loss: 7.9842 - mae: 7.9842\n",
            "Epoch 37/100\n",
            "2/2 [==============================] - 0s 5ms/step - loss: 7.6631 - mae: 7.6631\n",
            "Epoch 38/100\n",
            "2/2 [==============================] - 0s 4ms/step - loss: 7.6365 - mae: 7.6365\n",
            "Epoch 39/100\n",
            "2/2 [==============================] - 0s 4ms/step - loss: 7.6033 - mae: 7.6033\n",
            "Epoch 40/100\n",
            "2/2 [==============================] - 0s 5ms/step - loss: 7.5992 - mae: 7.5992\n",
            "Epoch 41/100\n",
            "2/2 [==============================] - 0s 6ms/step - loss: 7.6737 - mae: 7.6737\n",
            "Epoch 42/100\n",
            "2/2 [==============================] - 0s 5ms/step - loss: 7.5905 - mae: 7.5905\n",
            "Epoch 43/100\n",
            "2/2 [==============================] - 0s 5ms/step - loss: 7.5944 - mae: 7.5944\n",
            "Epoch 44/100\n",
            "2/2 [==============================] - 0s 7ms/step - loss: 7.6327 - mae: 7.6327\n",
            "Epoch 45/100\n",
            "2/2 [==============================] - 0s 6ms/step - loss: 7.7100 - mae: 7.7100\n",
            "Epoch 46/100\n",
            "2/2 [==============================] - 0s 5ms/step - loss: 7.8444 - mae: 7.8444\n",
            "Epoch 47/100\n",
            "2/2 [==============================] - 0s 6ms/step - loss: 7.6862 - mae: 7.6862\n",
            "Epoch 48/100\n",
            "2/2 [==============================] - 0s 7ms/step - loss: 7.7583 - mae: 7.7583\n",
            "Epoch 49/100\n",
            "2/2 [==============================] - 0s 5ms/step - loss: 7.6615 - mae: 7.6615\n",
            "Epoch 50/100\n",
            "2/2 [==============================] - 0s 5ms/step - loss: 7.8133 - mae: 7.8133\n",
            "Epoch 51/100\n",
            "2/2 [==============================] - 0s 7ms/step - loss: 7.6197 - mae: 7.6197\n",
            "Epoch 52/100\n",
            "2/2 [==============================] - 0s 4ms/step - loss: 7.6917 - mae: 7.6917\n",
            "Epoch 53/100\n",
            "2/2 [==============================] - 0s 7ms/step - loss: 7.6971 - mae: 7.6971\n",
            "Epoch 54/100\n",
            "2/2 [==============================] - 0s 5ms/step - loss: 7.7921 - mae: 7.7921\n",
            "Epoch 55/100\n",
            "2/2 [==============================] - 0s 6ms/step - loss: 7.5867 - mae: 7.5867\n",
            "Epoch 56/100\n",
            "2/2 [==============================] - 0s 4ms/step - loss: 7.6298 - mae: 7.6298\n",
            "Epoch 57/100\n",
            "2/2 [==============================] - 0s 6ms/step - loss: 7.8773 - mae: 7.8773\n",
            "Epoch 58/100\n",
            "2/2 [==============================] - 0s 5ms/step - loss: 7.6703 - mae: 7.6703\n",
            "Epoch 59/100\n",
            "2/2 [==============================] - 0s 5ms/step - loss: 7.5874 - mae: 7.5874\n",
            "Epoch 60/100\n",
            "2/2 [==============================] - 0s 6ms/step - loss: 7.5866 - mae: 7.5866\n",
            "Epoch 61/100\n",
            "2/2 [==============================] - 0s 7ms/step - loss: 7.5886 - mae: 7.5886\n",
            "Epoch 62/100\n",
            "2/2 [==============================] - 0s 6ms/step - loss: 7.6570 - mae: 7.6570\n",
            "Epoch 63/100\n",
            "2/2 [==============================] - 0s 5ms/step - loss: 7.6598 - mae: 7.6598\n",
            "Epoch 64/100\n",
            "2/2 [==============================] - 0s 6ms/step - loss: 7.8149 - mae: 7.8149\n",
            "Epoch 65/100\n",
            "2/2 [==============================] - 0s 7ms/step - loss: 7.5832 - mae: 7.5832\n",
            "Epoch 66/100\n",
            "2/2 [==============================] - 0s 4ms/step - loss: 7.5681 - mae: 7.5681\n",
            "Epoch 67/100\n",
            "2/2 [==============================] - 0s 4ms/step - loss: 7.6122 - mae: 7.6122\n",
            "Epoch 68/100\n",
            "2/2 [==============================] - 0s 4ms/step - loss: 7.5617 - mae: 7.5617\n",
            "Epoch 69/100\n",
            "2/2 [==============================] - 0s 5ms/step - loss: 7.6161 - mae: 7.6161\n",
            "Epoch 70/100\n",
            "2/2 [==============================] - 0s 4ms/step - loss: 7.6116 - mae: 7.6116\n",
            "Epoch 71/100\n",
            "2/2 [==============================] - 0s 4ms/step - loss: 7.9285 - mae: 7.9285\n",
            "Epoch 72/100\n",
            "2/2 [==============================] - 0s 5ms/step - loss: 7.6909 - mae: 7.6909\n",
            "Epoch 73/100\n",
            "2/2 [==============================] - 0s 4ms/step - loss: 7.6304 - mae: 7.6304\n",
            "Epoch 74/100\n",
            "2/2 [==============================] - 0s 5ms/step - loss: 7.7379 - mae: 7.7379\n",
            "Epoch 75/100\n",
            "2/2 [==============================] - 0s 4ms/step - loss: 7.6218 - mae: 7.6218\n",
            "Epoch 76/100\n",
            "2/2 [==============================] - 0s 4ms/step - loss: 7.6190 - mae: 7.6190\n",
            "Epoch 77/100\n",
            "2/2 [==============================] - 0s 5ms/step - loss: 7.5703 - mae: 7.5703\n",
            "Epoch 78/100\n",
            "2/2 [==============================] - 0s 6ms/step - loss: 7.5984 - mae: 7.5984\n",
            "Epoch 79/100\n",
            "2/2 [==============================] - 0s 4ms/step - loss: 7.5832 - mae: 7.5832\n",
            "Epoch 80/100\n",
            "2/2 [==============================] - 0s 4ms/step - loss: 7.6122 - mae: 7.6122\n",
            "Epoch 81/100\n",
            "2/2 [==============================] - 0s 5ms/step - loss: 7.6155 - mae: 7.6155\n",
            "Epoch 82/100\n",
            "2/2 [==============================] - 0s 4ms/step - loss: 7.5532 - mae: 7.5532\n",
            "Epoch 83/100\n",
            "2/2 [==============================] - 0s 5ms/step - loss: 7.5954 - mae: 7.5954\n",
            "Epoch 84/100\n",
            "2/2 [==============================] - 0s 5ms/step - loss: 7.5729 - mae: 7.5729\n",
            "Epoch 85/100\n",
            "2/2 [==============================] - 0s 9ms/step - loss: 7.5917 - mae: 7.5917\n",
            "Epoch 86/100\n",
            "2/2 [==============================] - 0s 4ms/step - loss: 7.6383 - mae: 7.6383\n",
            "Epoch 87/100\n",
            "2/2 [==============================] - 0s 4ms/step - loss: 7.8476 - mae: 7.8476\n",
            "Epoch 88/100\n",
            "2/2 [==============================] - 0s 4ms/step - loss: 7.9495 - mae: 7.9495\n",
            "Epoch 89/100\n",
            "2/2 [==============================] - 0s 4ms/step - loss: 7.5715 - mae: 7.5715\n",
            "Epoch 90/100\n",
            "2/2 [==============================] - 0s 5ms/step - loss: 7.5827 - mae: 7.5827\n",
            "Epoch 91/100\n",
            "2/2 [==============================] - 0s 5ms/step - loss: 7.5914 - mae: 7.5914\n",
            "Epoch 92/100\n",
            "2/2 [==============================] - 0s 4ms/step - loss: 7.6037 - mae: 7.6037\n",
            "Epoch 93/100\n",
            "2/2 [==============================] - 0s 4ms/step - loss: 7.5931 - mae: 7.5931\n",
            "Epoch 94/100\n",
            "2/2 [==============================] - 0s 4ms/step - loss: 7.5444 - mae: 7.5444\n",
            "Epoch 95/100\n",
            "2/2 [==============================] - 0s 7ms/step - loss: 7.7200 - mae: 7.7200\n",
            "Epoch 96/100\n",
            "2/2 [==============================] - 0s 4ms/step - loss: 7.5967 - mae: 7.5967\n",
            "Epoch 97/100\n",
            "2/2 [==============================] - 0s 4ms/step - loss: 7.6572 - mae: 7.6572\n",
            "Epoch 98/100\n",
            "2/2 [==============================] - 0s 4ms/step - loss: 7.5665 - mae: 7.5665\n",
            "Epoch 99/100\n",
            "2/2 [==============================] - 0s 4ms/step - loss: 7.5385 - mae: 7.5385\n",
            "Epoch 100/100\n",
            "2/2 [==============================] - 0s 4ms/step - loss: 7.5444 - mae: 7.5444\n"
          ]
        },
        {
          "output_type": "execute_result",
          "data": {
            "text/plain": [
              "<keras.callbacks.History at 0x7f2be13d40a0>"
            ]
          },
          "metadata": {},
          "execution_count": 119
        }
      ]
    },
    {
      "cell_type": "code",
      "source": [
        "model.summary()"
      ],
      "metadata": {
        "colab": {
          "base_uri": "https://localhost:8080/"
        },
        "id": "lHTZIAVlWOAH",
        "outputId": "32aa5883-287c-486b-98f3-e5ddcf678917"
      },
      "execution_count": 120,
      "outputs": [
        {
          "output_type": "stream",
          "name": "stdout",
          "text": [
            "Model: \"sequential_21\"\n",
            "_________________________________________________________________\n",
            " Layer (type)                Output Shape              Param #   \n",
            "=================================================================\n",
            " dense_34 (Dense)            (None, 10)                20        \n",
            "                                                                 \n",
            "=================================================================\n",
            "Total params: 20\n",
            "Trainable params: 20\n",
            "Non-trainable params: 0\n",
            "_________________________________________________________________\n"
          ]
        }
      ]
    },
    {
      "cell_type": "code",
      "source": [
        "#Visualize the number of inputs to set the input_shape parameter\n",
        "\n",
        "X[0], Y[0]"
      ],
      "metadata": {
        "colab": {
          "base_uri": "https://localhost:8080/"
        },
        "id": "92avXEpyW6hQ",
        "outputId": "da4759c3-573d-49cc-c1a5-594b875e9c8e"
      },
      "execution_count": 121,
      "outputs": [
        {
          "output_type": "execute_result",
          "data": {
            "text/plain": [
              "(<tf.Tensor: shape=(), dtype=int32, numpy=-100>,\n",
              " <tf.Tensor: shape=(), dtype=int32, numpy=-90>)"
            ]
          },
          "metadata": {},
          "execution_count": 121
        }
      ]
    },
    {
      "cell_type": "code",
      "source": [
        "#Create a model which builds automatically by defining the input_shape argument \n",
        "\n",
        "model = tf.keras.Sequential([\n",
        "    tf.keras.layers.Dense(1,input_shape=[1],name=\"input_layer\"),\n",
        "    tf.keras.layers.Dense(10,input_shape=[1],name=\"output_layer\")\n",
        "])\n",
        "\n",
        "model.compile(loss=tf.keras.losses.mae,\n",
        "              optimizer=tf.keras.optimizers.SGD(),\n",
        "              metrics=[\"mae\"])\n",
        "\n",
        "model.fit(tf.expand_dims(X_train,axis=-1),Y_train, epochs=100, verbose=0)"
      ],
      "metadata": {
        "colab": {
          "base_uri": "https://localhost:8080/"
        },
        "id": "tmkXmmFxWfTS",
        "outputId": "88536a26-1b4f-464d-d50e-98d89b81b7f6"
      },
      "execution_count": 122,
      "outputs": [
        {
          "output_type": "execute_result",
          "data": {
            "text/plain": [
              "<keras.callbacks.History at 0x7f2be130f2b0>"
            ]
          },
          "metadata": {},
          "execution_count": 122
        }
      ]
    },
    {
      "cell_type": "code",
      "source": [
        "model.summary()"
      ],
      "metadata": {
        "colab": {
          "base_uri": "https://localhost:8080/"
        },
        "id": "1BqJRsFnXugy",
        "outputId": "1f5b3991-8427-4bd6-93a3-d065ce02b548"
      },
      "execution_count": 123,
      "outputs": [
        {
          "output_type": "stream",
          "name": "stdout",
          "text": [
            "Model: \"sequential_22\"\n",
            "_________________________________________________________________\n",
            " Layer (type)                Output Shape              Param #   \n",
            "=================================================================\n",
            " input_layer (Dense)         (None, 1)                 2         \n",
            "                                                                 \n",
            " output_layer (Dense)        (None, 10)                20        \n",
            "                                                                 \n",
            "=================================================================\n",
            "Total params: 22\n",
            "Trainable params: 22\n",
            "Non-trainable params: 0\n",
            "_________________________________________________________________\n"
          ]
        }
      ]
    },
    {
      "cell_type": "markdown",
      "source": [
        "Total x Trainable parameters: the total amount and the patterns the model can update as it trains, respectively"
      ],
      "metadata": {
        "id": "3wUg8hyZX79S"
      }
    },
    {
      "cell_type": "code",
      "source": [
        "model.fit(tf.expand_dims(X_train,axis=-1),Y_train, epochs=100)"
      ],
      "metadata": {
        "colab": {
          "base_uri": "https://localhost:8080/"
        },
        "id": "zSGPf6ruYQ6o",
        "outputId": "2bfec4a3-7b8c-4517-f6e8-73a0c20f8bee"
      },
      "execution_count": 124,
      "outputs": [
        {
          "output_type": "stream",
          "name": "stdout",
          "text": [
            "Epoch 1/100\n",
            "2/2 [==============================] - 0s 5ms/step - loss: 8.5091 - mae: 8.5091\n",
            "Epoch 2/100\n",
            "2/2 [==============================] - 0s 5ms/step - loss: 8.8939 - mae: 8.8939\n",
            "Epoch 3/100\n",
            "2/2 [==============================] - 0s 5ms/step - loss: 9.3203 - mae: 9.3203\n",
            "Epoch 4/100\n",
            "2/2 [==============================] - 0s 4ms/step - loss: 7.5259 - mae: 7.5259\n",
            "Epoch 5/100\n",
            "2/2 [==============================] - 0s 6ms/step - loss: 8.1586 - mae: 8.1586\n",
            "Epoch 6/100\n",
            "2/2 [==============================] - 0s 5ms/step - loss: 7.6715 - mae: 7.6715\n",
            "Epoch 7/100\n",
            "2/2 [==============================] - 0s 5ms/step - loss: 7.2772 - mae: 7.2772\n",
            "Epoch 8/100\n",
            "2/2 [==============================] - 0s 6ms/step - loss: 8.1914 - mae: 8.1914\n",
            "Epoch 9/100\n",
            "2/2 [==============================] - 0s 5ms/step - loss: 12.3952 - mae: 12.3952\n",
            "Epoch 10/100\n",
            "2/2 [==============================] - 0s 5ms/step - loss: 10.1346 - mae: 10.1346\n",
            "Epoch 11/100\n",
            "2/2 [==============================] - 0s 7ms/step - loss: 8.4250 - mae: 8.4250\n",
            "Epoch 12/100\n",
            "2/2 [==============================] - 0s 6ms/step - loss: 11.4071 - mae: 11.4071\n",
            "Epoch 13/100\n",
            "2/2 [==============================] - 0s 5ms/step - loss: 8.6998 - mae: 8.6998\n",
            "Epoch 14/100\n",
            "2/2 [==============================] - 0s 5ms/step - loss: 7.5877 - mae: 7.5877\n",
            "Epoch 15/100\n",
            "2/2 [==============================] - 0s 5ms/step - loss: 9.0721 - mae: 9.0721\n",
            "Epoch 16/100\n",
            "2/2 [==============================] - 0s 5ms/step - loss: 7.1281 - mae: 7.1281\n",
            "Epoch 17/100\n",
            "2/2 [==============================] - 0s 4ms/step - loss: 9.0218 - mae: 9.0218\n",
            "Epoch 18/100\n",
            "2/2 [==============================] - 0s 3ms/step - loss: 8.4562 - mae: 8.4562\n",
            "Epoch 19/100\n",
            "2/2 [==============================] - 0s 5ms/step - loss: 10.4310 - mae: 10.4310\n",
            "Epoch 20/100\n",
            "2/2 [==============================] - 0s 5ms/step - loss: 9.5790 - mae: 9.5790\n",
            "Epoch 21/100\n",
            "2/2 [==============================] - 0s 8ms/step - loss: 8.4787 - mae: 8.4787\n",
            "Epoch 22/100\n",
            "2/2 [==============================] - 0s 5ms/step - loss: 8.3702 - mae: 8.3702\n",
            "Epoch 23/100\n",
            "2/2 [==============================] - 0s 4ms/step - loss: 7.6830 - mae: 7.6830\n",
            "Epoch 24/100\n",
            "2/2 [==============================] - 0s 5ms/step - loss: 7.1828 - mae: 7.1828\n",
            "Epoch 25/100\n",
            "2/2 [==============================] - 0s 5ms/step - loss: 9.3498 - mae: 9.3498\n",
            "Epoch 26/100\n",
            "2/2 [==============================] - 0s 5ms/step - loss: 10.3890 - mae: 10.3890\n",
            "Epoch 27/100\n",
            "2/2 [==============================] - 0s 5ms/step - loss: 7.6520 - mae: 7.6520\n",
            "Epoch 28/100\n",
            "2/2 [==============================] - 0s 5ms/step - loss: 10.3655 - mae: 10.3655\n",
            "Epoch 29/100\n",
            "2/2 [==============================] - 0s 5ms/step - loss: 8.6249 - mae: 8.6249\n",
            "Epoch 30/100\n",
            "2/2 [==============================] - 0s 3ms/step - loss: 13.4580 - mae: 13.4580\n",
            "Epoch 31/100\n",
            "2/2 [==============================] - 0s 4ms/step - loss: 11.4504 - mae: 11.4504\n",
            "Epoch 32/100\n",
            "2/2 [==============================] - 0s 7ms/step - loss: 7.9250 - mae: 7.9250\n",
            "Epoch 33/100\n",
            "2/2 [==============================] - 0s 4ms/step - loss: 9.5966 - mae: 9.5966\n",
            "Epoch 34/100\n",
            "2/2 [==============================] - 0s 3ms/step - loss: 10.2949 - mae: 10.2949\n",
            "Epoch 35/100\n",
            "2/2 [==============================] - 0s 6ms/step - loss: 7.8495 - mae: 7.8495\n",
            "Epoch 36/100\n",
            "2/2 [==============================] - 0s 4ms/step - loss: 11.1140 - mae: 11.1140\n",
            "Epoch 37/100\n",
            "2/2 [==============================] - 0s 6ms/step - loss: 7.7117 - mae: 7.7117\n",
            "Epoch 38/100\n",
            "2/2 [==============================] - 0s 7ms/step - loss: 7.5819 - mae: 7.5819\n",
            "Epoch 39/100\n",
            "2/2 [==============================] - 0s 5ms/step - loss: 9.7687 - mae: 9.7687\n",
            "Epoch 40/100\n",
            "2/2 [==============================] - 0s 6ms/step - loss: 9.7227 - mae: 9.7227\n",
            "Epoch 41/100\n",
            "2/2 [==============================] - 0s 6ms/step - loss: 8.7729 - mae: 8.7729\n",
            "Epoch 42/100\n",
            "2/2 [==============================] - 0s 5ms/step - loss: 7.9773 - mae: 7.9773\n",
            "Epoch 43/100\n",
            "2/2 [==============================] - 0s 6ms/step - loss: 8.1056 - mae: 8.1056\n",
            "Epoch 44/100\n",
            "2/2 [==============================] - 0s 5ms/step - loss: 6.8766 - mae: 6.8766\n",
            "Epoch 45/100\n",
            "2/2 [==============================] - 0s 6ms/step - loss: 8.2101 - mae: 8.2101\n",
            "Epoch 46/100\n",
            "2/2 [==============================] - 0s 7ms/step - loss: 7.5456 - mae: 7.5456\n",
            "Epoch 47/100\n",
            "2/2 [==============================] - 0s 5ms/step - loss: 7.4528 - mae: 7.4528\n",
            "Epoch 48/100\n",
            "2/2 [==============================] - 0s 4ms/step - loss: 8.1569 - mae: 8.1569\n",
            "Epoch 49/100\n",
            "2/2 [==============================] - 0s 5ms/step - loss: 7.6810 - mae: 7.6810\n",
            "Epoch 50/100\n",
            "2/2 [==============================] - 0s 8ms/step - loss: 8.4476 - mae: 8.4476\n",
            "Epoch 51/100\n",
            "2/2 [==============================] - 0s 5ms/step - loss: 8.3687 - mae: 8.3687\n",
            "Epoch 52/100\n",
            "2/2 [==============================] - 0s 5ms/step - loss: 9.6174 - mae: 9.6174\n",
            "Epoch 53/100\n",
            "2/2 [==============================] - 0s 4ms/step - loss: 9.9317 - mae: 9.9317\n",
            "Epoch 54/100\n",
            "2/2 [==============================] - 0s 4ms/step - loss: 7.6640 - mae: 7.6640\n",
            "Epoch 55/100\n",
            "2/2 [==============================] - 0s 5ms/step - loss: 8.7052 - mae: 8.7052\n",
            "Epoch 56/100\n",
            "2/2 [==============================] - 0s 8ms/step - loss: 8.9309 - mae: 8.9309\n",
            "Epoch 57/100\n",
            "2/2 [==============================] - 0s 4ms/step - loss: 9.7098 - mae: 9.7098\n",
            "Epoch 58/100\n",
            "2/2 [==============================] - 0s 4ms/step - loss: 8.0206 - mae: 8.0206\n",
            "Epoch 59/100\n",
            "2/2 [==============================] - 0s 8ms/step - loss: 7.1982 - mae: 7.1982\n",
            "Epoch 60/100\n",
            "2/2 [==============================] - 0s 5ms/step - loss: 7.5267 - mae: 7.5267\n",
            "Epoch 61/100\n",
            "2/2 [==============================] - 0s 4ms/step - loss: 8.5841 - mae: 8.5841\n",
            "Epoch 62/100\n",
            "2/2 [==============================] - 0s 8ms/step - loss: 7.6958 - mae: 7.6958\n",
            "Epoch 63/100\n",
            "2/2 [==============================] - 0s 8ms/step - loss: 8.0197 - mae: 8.0197\n",
            "Epoch 64/100\n",
            "2/2 [==============================] - 0s 5ms/step - loss: 9.7925 - mae: 9.7925\n",
            "Epoch 65/100\n",
            "2/2 [==============================] - 0s 6ms/step - loss: 8.6566 - mae: 8.6566\n",
            "Epoch 66/100\n",
            "2/2 [==============================] - 0s 7ms/step - loss: 10.2003 - mae: 10.2003\n",
            "Epoch 67/100\n",
            "2/2 [==============================] - 0s 6ms/step - loss: 8.3762 - mae: 8.3762\n",
            "Epoch 68/100\n",
            "2/2 [==============================] - 0s 6ms/step - loss: 8.5625 - mae: 8.5625\n",
            "Epoch 69/100\n",
            "2/2 [==============================] - 0s 4ms/step - loss: 10.6444 - mae: 10.6444\n",
            "Epoch 70/100\n",
            "2/2 [==============================] - 0s 6ms/step - loss: 7.2884 - mae: 7.2884\n",
            "Epoch 71/100\n",
            "2/2 [==============================] - 0s 4ms/step - loss: 6.9844 - mae: 6.9844\n",
            "Epoch 72/100\n",
            "2/2 [==============================] - 0s 6ms/step - loss: 7.9119 - mae: 7.9119\n",
            "Epoch 73/100\n",
            "2/2 [==============================] - 0s 5ms/step - loss: 8.9995 - mae: 8.9995\n",
            "Epoch 74/100\n",
            "2/2 [==============================] - 0s 4ms/step - loss: 9.6845 - mae: 9.6845\n",
            "Epoch 75/100\n",
            "2/2 [==============================] - 0s 8ms/step - loss: 7.7760 - mae: 7.7760\n",
            "Epoch 76/100\n",
            "2/2 [==============================] - 0s 6ms/step - loss: 6.8341 - mae: 6.8341\n",
            "Epoch 77/100\n",
            "2/2 [==============================] - 0s 8ms/step - loss: 7.1079 - mae: 7.1079\n",
            "Epoch 78/100\n",
            "2/2 [==============================] - 0s 5ms/step - loss: 7.1600 - mae: 7.1600\n",
            "Epoch 79/100\n",
            "2/2 [==============================] - 0s 7ms/step - loss: 8.5214 - mae: 8.5214\n",
            "Epoch 80/100\n",
            "2/2 [==============================] - 0s 5ms/step - loss: 11.6535 - mae: 11.6535\n",
            "Epoch 81/100\n",
            "2/2 [==============================] - 0s 5ms/step - loss: 9.0409 - mae: 9.0409\n",
            "Epoch 82/100\n",
            "2/2 [==============================] - 0s 3ms/step - loss: 7.5090 - mae: 7.5090\n",
            "Epoch 83/100\n",
            "2/2 [==============================] - 0s 5ms/step - loss: 7.1772 - mae: 7.1772\n",
            "Epoch 84/100\n",
            "2/2 [==============================] - 0s 5ms/step - loss: 7.0013 - mae: 7.0013\n",
            "Epoch 85/100\n",
            "2/2 [==============================] - 0s 4ms/step - loss: 8.5656 - mae: 8.5656\n",
            "Epoch 86/100\n",
            "2/2 [==============================] - 0s 5ms/step - loss: 8.5223 - mae: 8.5223\n",
            "Epoch 87/100\n",
            "2/2 [==============================] - 0s 6ms/step - loss: 10.0798 - mae: 10.0798\n",
            "Epoch 88/100\n",
            "2/2 [==============================] - 0s 3ms/step - loss: 11.1836 - mae: 11.1836\n",
            "Epoch 89/100\n",
            "2/2 [==============================] - 0s 4ms/step - loss: 7.3316 - mae: 7.3316\n",
            "Epoch 90/100\n",
            "2/2 [==============================] - 0s 4ms/step - loss: 9.1761 - mae: 9.1761\n",
            "Epoch 91/100\n",
            "2/2 [==============================] - 0s 4ms/step - loss: 7.2736 - mae: 7.2736\n",
            "Epoch 92/100\n",
            "2/2 [==============================] - 0s 6ms/step - loss: 7.3045 - mae: 7.3045\n",
            "Epoch 93/100\n",
            "2/2 [==============================] - 0s 4ms/step - loss: 7.1643 - mae: 7.1643\n",
            "Epoch 94/100\n",
            "2/2 [==============================] - 0s 4ms/step - loss: 9.0455 - mae: 9.0455\n",
            "Epoch 95/100\n",
            "2/2 [==============================] - 0s 5ms/step - loss: 8.7431 - mae: 8.7431\n",
            "Epoch 96/100\n",
            "2/2 [==============================] - 0s 4ms/step - loss: 6.6751 - mae: 6.6751\n",
            "Epoch 97/100\n",
            "2/2 [==============================] - 0s 4ms/step - loss: 10.4717 - mae: 10.4717\n",
            "Epoch 98/100\n",
            "2/2 [==============================] - 0s 5ms/step - loss: 6.9185 - mae: 6.9185\n",
            "Epoch 99/100\n",
            "2/2 [==============================] - 0s 4ms/step - loss: 7.5297 - mae: 7.5297\n",
            "Epoch 100/100\n",
            "2/2 [==============================] - 0s 5ms/step - loss: 8.4395 - mae: 8.4395\n"
          ]
        },
        {
          "output_type": "execute_result",
          "data": {
            "text/plain": [
              "<keras.callbacks.History at 0x7f2be1295160>"
            ]
          },
          "metadata": {},
          "execution_count": 124
        }
      ]
    },
    {
      "cell_type": "code",
      "source": [
        "from tensorflow.keras.utils import plot_model\n",
        "\n",
        "plot_model(model=model, show_shapes=True)"
      ],
      "metadata": {
        "colab": {
          "base_uri": "https://localhost:8080/",
          "height": 312
        },
        "id": "w2iG3-hGaHm4",
        "outputId": "3875c5a5-c5d0-4714-c533-29278a0c1693"
      },
      "execution_count": 125,
      "outputs": [
        {
          "output_type": "execute_result",
          "data": {
            "image/png": "[encoded data removed]",
            "text/plain": [
              "<IPython.core.display.Image object>"
            ]
          },
          "metadata": {},
          "execution_count": 125
        }
      ]
    },
    {
      "cell_type": "code",
      "source": [
        "#Make predictions\n",
        "\n",
        "Y_pred = model.predict(X_test)\n",
        "Y_pred"
      ],
      "metadata": {
        "colab": {
          "base_uri": "https://localhost:8080/"
        },
        "id": "mifJN71AcIZh",
        "outputId": "95409b71-ca33-4c69-a525-6f9116c30bca"
      },
      "execution_count": 126,
      "outputs": [
        {
          "output_type": "stream",
          "name": "stdout",
          "text": [
            "1/1 [==============================] - 0s 47ms/step\n"
          ]
        },
        {
          "output_type": "execute_result",
          "data": {
            "text/plain": [
              "array([[50.505444, 50.08534 , 50.53623 , 50.108124, 50.48912 , 50.399338,\n",
              "        50.097492, 50.47752 , 50.47107 , 50.433815],\n",
              "       [53.79244 , 53.345276, 53.825855, 53.368965, 53.77529 , 53.680252,\n",
              "        53.35802 , 53.763454, 53.756912, 53.716072],\n",
              "       [57.07943 , 56.605217, 57.11548 , 56.62981 , 57.061466, 56.961166,\n",
              "        56.618546, 57.04939 , 57.04275 , 56.99833 ],\n",
              "       [60.366425, 59.865158, 60.405106, 59.89065 , 60.34764 , 60.24208 ,\n",
              "        59.879074, 60.335323, 60.32859 , 60.280586],\n",
              "       [63.65342 , 63.1251  , 63.69473 , 63.151493, 63.633816, 63.52299 ,\n",
              "        63.139603, 63.621258, 63.614433, 63.562843],\n",
              "       [66.940414, 66.38504 , 66.98436 , 66.41234 , 66.91999 , 66.80391 ,\n",
              "        66.40013 , 66.907196, 66.90027 , 66.8451  ],\n",
              "       [70.22741 , 69.64498 , 70.27399 , 69.67319 , 70.20617 , 70.084816,\n",
              "        69.66066 , 70.19313 , 70.18611 , 70.12736 ],\n",
              "       [73.514404, 72.90492 , 73.56361 , 72.93403 , 73.49234 , 73.36573 ,\n",
              "        72.92118 , 73.479065, 73.471954, 73.409615],\n",
              "       [76.8014  , 76.16487 , 76.85324 , 76.19488 , 76.77852 , 76.64665 ,\n",
              "        76.18172 , 76.76501 , 76.7578  , 76.69188 ],\n",
              "       [80.088394, 79.42481 , 80.14287 , 79.45572 , 80.06469 , 79.92757 ,\n",
              "        79.442245, 80.05094 , 80.04364 , 79.97414 ]], dtype=float32)"
            ]
          },
          "metadata": {},
          "execution_count": 126
        }
      ]
    },
    {
      "cell_type": "code",
      "source": [
        "Y_test"
      ],
      "metadata": {
        "colab": {
          "base_uri": "https://localhost:8080/"
        },
        "id": "LvHp4gkMcdoI",
        "outputId": "ee6c00a3-0684-4251-9ecc-7c93d0833b25"
      },
      "execution_count": 127,
      "outputs": [
        {
          "output_type": "execute_result",
          "data": {
            "text/plain": [
              "<tf.Tensor: shape=(10,), dtype=int32, numpy=array([ 70,  74,  78,  82,  86,  90,  94,  98, 102, 106], dtype=int32)>"
            ]
          },
          "metadata": {},
          "execution_count": 127
        }
      ]
    },
    {
      "cell_type": "code",
      "source": [
        "# Create a plotting function\n",
        "\n",
        "def plot_predictions(train_data=X_train,\n",
        "                     train_labels=Y_train,\n",
        "                     test_data=X_test,\n",
        "                     test_labels=Y_test,\n",
        "                     predictions=Y_pred):\n",
        "  \"\"\"\n",
        "  Plots training data, test data and compares predictions to ground truth labels.\n",
        "  \"\"\"\n",
        "  \n"
      ],
      "metadata": {
        "id": "7GbY9VbMcimv"
      },
      "execution_count": 130,
      "outputs": []
    },
    {
      "cell_type": "code",
      "source": [],
      "metadata": {
        "colab": {
          "base_uri": "https://localhost:8080/",
          "height": 264
        },
        "id": "wAmctr08enFo",
        "outputId": "e58ec972-de76-4c31-d541-1c4922fe8033"
      },
      "execution_count": 131,
      "outputs": [
        {
          "output_type": "error",
          "ename": "NameError",
          "evalue": "ignored",
          "traceback": [
            "\u001b[0;31m---------------------------------------------------------------------------\u001b[0m",
            "\u001b[0;31mNameError\u001b[0m                                 Traceback (most recent call last)",
            "\u001b[0;32m<ipython-input-131-a4d4a520bf70>\u001b[0m in \u001b[0;36m<module>\u001b[0;34m\u001b[0m\n\u001b[1;32m      1\u001b[0m \u001b[0mplt\u001b[0m\u001b[0;34m.\u001b[0m\u001b[0mfigure\u001b[0m\u001b[0;34m(\u001b[0m\u001b[0mfigsize\u001b[0m\u001b[0;34m=\u001b[0m\u001b[0;34m(\u001b[0m\u001b[0;36m10\u001b[0m\u001b[0;34m,\u001b[0m\u001b[0;36m7\u001b[0m\u001b[0;34m)\u001b[0m\u001b[0;34m)\u001b[0m\u001b[0;34m\u001b[0m\u001b[0;34m\u001b[0m\u001b[0m\n\u001b[0;32m----> 2\u001b[0;31m \u001b[0mplt\u001b[0m\u001b[0;34m.\u001b[0m\u001b[0mscatter\u001b[0m\u001b[0;34m(\u001b[0m\u001b[0mtrain_data\u001b[0m\u001b[0;34m,\u001b[0m\u001b[0mtrain_labels\u001b[0m\u001b[0;34m,\u001b[0m \u001b[0mc\u001b[0m\u001b[0;34m=\u001b[0m\u001b[0;34m\"b\"\u001b[0m\u001b[0;34m,\u001b[0m \u001b[0mlabel\u001b[0m\u001b[0;34m=\u001b[0m\u001b[0;34m\"training data\"\u001b[0m\u001b[0;34m)\u001b[0m\u001b[0;34m\u001b[0m\u001b[0;34m\u001b[0m\u001b[0m\n\u001b[0m\u001b[1;32m      3\u001b[0m \u001b[0mplt\u001b[0m\u001b[0;34m.\u001b[0m\u001b[0mscatter\u001b[0m\u001b[0;34m(\u001b[0m\u001b[0mtest_data\u001b[0m\u001b[0;34m,\u001b[0m \u001b[0mtest_labels\u001b[0m\u001b[0;34m,\u001b[0m \u001b[0mc\u001b[0m\u001b[0;34m=\u001b[0m\u001b[0;34m\"g\"\u001b[0m\u001b[0;34m,\u001b[0m \u001b[0mlabel\u001b[0m\u001b[0;34m=\u001b[0m\u001b[0;34m\"test data\"\u001b[0m\u001b[0;34m)\u001b[0m\u001b[0;34m\u001b[0m\u001b[0;34m\u001b[0m\u001b[0m\n\u001b[1;32m      4\u001b[0m \u001b[0mplt\u001b[0m\u001b[0;34m.\u001b[0m\u001b[0mscatter\u001b[0m\u001b[0;34m(\u001b[0m\u001b[0mtest_data\u001b[0m\u001b[0;34m,\u001b[0m \u001b[0mpredictions\u001b[0m\u001b[0;34m,\u001b[0m \u001b[0mc\u001b[0m\u001b[0;34m=\u001b[0m\u001b[0;34m\"r\"\u001b[0m\u001b[0;34m,\u001b[0m \u001b[0mlabel\u001b[0m\u001b[0;34m=\u001b[0m\u001b[0;34m\"predictions\"\u001b[0m\u001b[0;34m)\u001b[0m\u001b[0;34m\u001b[0m\u001b[0;34m\u001b[0m\u001b[0m\n\u001b[1;32m      5\u001b[0m \u001b[0mplt\u001b[0m\u001b[0;34m.\u001b[0m\u001b[0mlegend\u001b[0m\u001b[0;34m(\u001b[0m\u001b[0;34m)\u001b[0m\u001b[0;34m;\u001b[0m\u001b[0;34m\u001b[0m\u001b[0;34m\u001b[0m\u001b[0m\n",
            "\u001b[0;31mNameError\u001b[0m: name 'train_data' is not defined"
          ]
        },
        {
          "output_type": "display_data",
          "data": {
            "text/plain": [
              "<Figure size 720x504 with 0 Axes>"
            ]
          },
          "metadata": {}
        }
      ]
    },
    {
      "cell_type": "markdown",
      "source": [],
      "metadata": {
        "id": "VtsYWizfemlQ"
      }
    }
  ]
}